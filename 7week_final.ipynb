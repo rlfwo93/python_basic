{
  "nbformat": 4,
  "nbformat_minor": 0,
  "metadata": {
    "colab": {
      "name": "Untitled",
      "provenance": [],
      "authorship_tag": "ABX9TyPMgtJt2iJ1czOUBdps7WE3",
      "include_colab_link": true
    },
    "kernelspec": {
      "name": "python3",
      "display_name": "Python 3"
    },
    "language_info": {
      "name": "python"
    }
  },
  "cells": [
    {
      "cell_type": "markdown",
      "metadata": {
        "id": "view-in-github",
        "colab_type": "text"
      },
      "source": [
        "<a href=\"https://colab.research.google.com/github/rlfwo93/python_basic/blob/main/7week_final.ipynb\" target=\"_parent\"><img src=\"https://colab.research.google.com/assets/colab-badge.svg\" alt=\"Open In Colab\"/></a>"
      ]
    },
    {
      "cell_type": "code",
      "metadata": {
        "id": "B81iysucZ66V",
        "outputId": "dfab260e-7dbf-4663-bca3-afd2f9ea5502",
        "colab": {
          "base_uri": "https://localhost:8080/"
        }
      },
      "source": [
        "count = int(input(\"반복할 횟수를 입력\"))\n",
        "\n",
        "for i in range(count):\n",
        "  print(\"hello, world!\", i)"
      ],
      "execution_count": 1,
      "outputs": [
        {
          "output_type": "stream",
          "text": [
            "반복할 횟수를 입력5\n",
            "hello, world! 0\n",
            "hello, world! 1\n",
            "hello, world! 2\n",
            "hello, world! 3\n",
            "hello, world! 4\n"
          ],
          "name": "stdout"
        }
      ]
    },
    {
      "cell_type": "code",
      "metadata": {
        "id": "hQriJfQtaDY9",
        "outputId": "cf8a4db5-3b29-4608-e7e7-d1844e4b8ca9",
        "colab": {
          "base_uri": "https://localhost:8080/"
        }
      },
      "source": [
        "for i in range(100):\n",
        "  print(\"hello,wolrd!\")"
      ],
      "execution_count": 2,
      "outputs": [
        {
          "output_type": "stream",
          "text": [
            "hello,wolrd!\n",
            "hello,wolrd!\n",
            "hello,wolrd!\n",
            "hello,wolrd!\n",
            "hello,wolrd!\n",
            "hello,wolrd!\n",
            "hello,wolrd!\n",
            "hello,wolrd!\n",
            "hello,wolrd!\n",
            "hello,wolrd!\n",
            "hello,wolrd!\n",
            "hello,wolrd!\n",
            "hello,wolrd!\n",
            "hello,wolrd!\n",
            "hello,wolrd!\n",
            "hello,wolrd!\n",
            "hello,wolrd!\n",
            "hello,wolrd!\n",
            "hello,wolrd!\n",
            "hello,wolrd!\n",
            "hello,wolrd!\n",
            "hello,wolrd!\n",
            "hello,wolrd!\n",
            "hello,wolrd!\n",
            "hello,wolrd!\n",
            "hello,wolrd!\n",
            "hello,wolrd!\n",
            "hello,wolrd!\n",
            "hello,wolrd!\n",
            "hello,wolrd!\n",
            "hello,wolrd!\n",
            "hello,wolrd!\n",
            "hello,wolrd!\n",
            "hello,wolrd!\n",
            "hello,wolrd!\n",
            "hello,wolrd!\n",
            "hello,wolrd!\n",
            "hello,wolrd!\n",
            "hello,wolrd!\n",
            "hello,wolrd!\n",
            "hello,wolrd!\n",
            "hello,wolrd!\n",
            "hello,wolrd!\n",
            "hello,wolrd!\n",
            "hello,wolrd!\n",
            "hello,wolrd!\n",
            "hello,wolrd!\n",
            "hello,wolrd!\n",
            "hello,wolrd!\n",
            "hello,wolrd!\n",
            "hello,wolrd!\n",
            "hello,wolrd!\n",
            "hello,wolrd!\n",
            "hello,wolrd!\n",
            "hello,wolrd!\n",
            "hello,wolrd!\n",
            "hello,wolrd!\n",
            "hello,wolrd!\n",
            "hello,wolrd!\n",
            "hello,wolrd!\n",
            "hello,wolrd!\n",
            "hello,wolrd!\n",
            "hello,wolrd!\n",
            "hello,wolrd!\n",
            "hello,wolrd!\n",
            "hello,wolrd!\n",
            "hello,wolrd!\n",
            "hello,wolrd!\n",
            "hello,wolrd!\n",
            "hello,wolrd!\n",
            "hello,wolrd!\n",
            "hello,wolrd!\n",
            "hello,wolrd!\n",
            "hello,wolrd!\n",
            "hello,wolrd!\n",
            "hello,wolrd!\n",
            "hello,wolrd!\n",
            "hello,wolrd!\n",
            "hello,wolrd!\n",
            "hello,wolrd!\n",
            "hello,wolrd!\n",
            "hello,wolrd!\n",
            "hello,wolrd!\n",
            "hello,wolrd!\n",
            "hello,wolrd!\n",
            "hello,wolrd!\n",
            "hello,wolrd!\n",
            "hello,wolrd!\n",
            "hello,wolrd!\n",
            "hello,wolrd!\n",
            "hello,wolrd!\n",
            "hello,wolrd!\n",
            "hello,wolrd!\n",
            "hello,wolrd!\n",
            "hello,wolrd!\n",
            "hello,wolrd!\n",
            "hello,wolrd!\n",
            "hello,wolrd!\n",
            "hello,wolrd!\n",
            "hello,wolrd!\n"
          ],
          "name": "stdout"
        }
      ]
    },
    {
      "cell_type": "code",
      "metadata": {
        "id": "wdcq7A4SaKP_",
        "outputId": "82259747-a0d3-40d3-8c26-a310081303b8",
        "colab": {
          "base_uri": "https://localhost:8080/"
        }
      },
      "source": [
        "for i in range(100):\n",
        "  print(\"hello world!\",i)"
      ],
      "execution_count": 3,
      "outputs": [
        {
          "output_type": "stream",
          "text": [
            "hello world! 0\n",
            "hello world! 1\n",
            "hello world! 2\n",
            "hello world! 3\n",
            "hello world! 4\n",
            "hello world! 5\n",
            "hello world! 6\n",
            "hello world! 7\n",
            "hello world! 8\n",
            "hello world! 9\n",
            "hello world! 10\n",
            "hello world! 11\n",
            "hello world! 12\n",
            "hello world! 13\n",
            "hello world! 14\n",
            "hello world! 15\n",
            "hello world! 16\n",
            "hello world! 17\n",
            "hello world! 18\n",
            "hello world! 19\n",
            "hello world! 20\n",
            "hello world! 21\n",
            "hello world! 22\n",
            "hello world! 23\n",
            "hello world! 24\n",
            "hello world! 25\n",
            "hello world! 26\n",
            "hello world! 27\n",
            "hello world! 28\n",
            "hello world! 29\n",
            "hello world! 30\n",
            "hello world! 31\n",
            "hello world! 32\n",
            "hello world! 33\n",
            "hello world! 34\n",
            "hello world! 35\n",
            "hello world! 36\n",
            "hello world! 37\n",
            "hello world! 38\n",
            "hello world! 39\n",
            "hello world! 40\n",
            "hello world! 41\n",
            "hello world! 42\n",
            "hello world! 43\n",
            "hello world! 44\n",
            "hello world! 45\n",
            "hello world! 46\n",
            "hello world! 47\n",
            "hello world! 48\n",
            "hello world! 49\n",
            "hello world! 50\n",
            "hello world! 51\n",
            "hello world! 52\n",
            "hello world! 53\n",
            "hello world! 54\n",
            "hello world! 55\n",
            "hello world! 56\n",
            "hello world! 57\n",
            "hello world! 58\n",
            "hello world! 59\n",
            "hello world! 60\n",
            "hello world! 61\n",
            "hello world! 62\n",
            "hello world! 63\n",
            "hello world! 64\n",
            "hello world! 65\n",
            "hello world! 66\n",
            "hello world! 67\n",
            "hello world! 68\n",
            "hello world! 69\n",
            "hello world! 70\n",
            "hello world! 71\n",
            "hello world! 72\n",
            "hello world! 73\n",
            "hello world! 74\n",
            "hello world! 75\n",
            "hello world! 76\n",
            "hello world! 77\n",
            "hello world! 78\n",
            "hello world! 79\n",
            "hello world! 80\n",
            "hello world! 81\n",
            "hello world! 82\n",
            "hello world! 83\n",
            "hello world! 84\n",
            "hello world! 85\n",
            "hello world! 86\n",
            "hello world! 87\n",
            "hello world! 88\n",
            "hello world! 89\n",
            "hello world! 90\n",
            "hello world! 91\n",
            "hello world! 92\n",
            "hello world! 93\n",
            "hello world! 94\n",
            "hello world! 95\n",
            "hello world! 96\n",
            "hello world! 97\n",
            "hello world! 98\n",
            "hello world! 99\n"
          ],
          "name": "stdout"
        }
      ]
    },
    {
      "cell_type": "code",
      "metadata": {
        "id": "UEhXJtjEaQEk",
        "outputId": "96bf9526-aca7-4d06-f4ce-be542a5eefe5",
        "colab": {
          "base_uri": "https://localhost:8080/"
        }
      },
      "source": [
        "for i in range(5,12):\n",
        "  print(\"hello, world !\",i)"
      ],
      "execution_count": 4,
      "outputs": [
        {
          "output_type": "stream",
          "text": [
            "hello, world ! 5\n",
            "hello, world ! 6\n",
            "hello, world ! 7\n",
            "hello, world ! 8\n",
            "hello, world ! 9\n",
            "hello, world ! 10\n",
            "hello, world ! 11\n"
          ],
          "name": "stdout"
        }
      ]
    },
    {
      "cell_type": "code",
      "metadata": {
        "id": "udVI7oK2aUZV",
        "outputId": "325826f9-9d59-4e9b-e413-64df66b08e16",
        "colab": {
          "base_uri": "https://localhost:8080/"
        }
      },
      "source": [
        "for i in range(0,10,2):\n",
        "  print(\"hello, world!\",i)"
      ],
      "execution_count": 5,
      "outputs": [
        {
          "output_type": "stream",
          "text": [
            "hello, world! 0\n",
            "hello, world! 2\n",
            "hello, world! 4\n",
            "hello, world! 6\n",
            "hello, world! 8\n"
          ],
          "name": "stdout"
        }
      ]
    },
    {
      "cell_type": "code",
      "metadata": {
        "id": "kX17tHBCaYo8",
        "outputId": "8766f88b-51be-41c8-9553-d47b6f76979e",
        "colab": {
          "base_uri": "https://localhost:8080/"
        }
      },
      "source": [
        "for i in range(10,0,-1):\n",
        "  print(\"hello, world!\",i)"
      ],
      "execution_count": 9,
      "outputs": [
        {
          "output_type": "stream",
          "text": [
            "hello, world! 10\n",
            "hello, world! 9\n",
            "hello, world! 8\n",
            "hello, world! 7\n",
            "hello, world! 6\n",
            "hello, world! 5\n",
            "hello, world! 4\n",
            "hello, world! 3\n",
            "hello, world! 2\n",
            "hello, world! 1\n"
          ],
          "name": "stdout"
        }
      ]
    },
    {
      "cell_type": "code",
      "metadata": {
        "colab": {
          "base_uri": "https://localhost:8080/"
        },
        "id": "T28mtYmVJec5",
        "outputId": "60c20770-b1fa-4724-e1cd-ec108a211729"
      },
      "source": [
        "for i in range(1,10):\n",
        "    print(\"2*{0} = {1}\".format(i,i*2))"
      ],
      "execution_count": null,
      "outputs": [
        {
          "output_type": "stream",
          "text": [
            "2*1 = 2\n",
            "2*2 = 4\n",
            "2*3 = 6\n",
            "2*4 = 8\n",
            "2*5 = 10\n",
            "2*6 = 12\n",
            "2*7 = 14\n",
            "2*8 = 16\n",
            "2*9 = 18\n"
          ],
          "name": "stdout"
        }
      ]
    },
    {
      "cell_type": "code",
      "metadata": {
        "colab": {
          "base_uri": "https://localhost:8080/"
        },
        "id": "28g5Eo_pJeax",
        "outputId": "c3461fe3-e7c0-48a0-eeee-9864c9520a1c"
      },
      "source": [
        "for i in range(1,21):\n",
        "    if i%3==0:\n",
        "        print(\"i = {0}\".format(i))"
      ],
      "execution_count": null,
      "outputs": [
        {
          "output_type": "stream",
          "text": [
            "i = 3\n",
            "i = 6\n",
            "i = 9\n",
            "i = 12\n",
            "i = 15\n",
            "i = 18\n"
          ],
          "name": "stdout"
        }
      ]
    },
    {
      "cell_type": "code",
      "metadata": {
        "id": "4v4gB5H-aw1o",
        "outputId": "a503587d-a924-4b62-8cea-363a9ecd1bc1",
        "colab": {
          "base_uri": "https://localhost:8080/"
        }
      },
      "source": [
        "sum = 1\n",
        "for i in range(1,11):\n",
        "  sum*=i\n",
        "print(sum)"
      ],
      "execution_count": 10,
      "outputs": [
        {
          "output_type": "stream",
          "text": [
            "3628800\n"
          ],
          "name": "stdout"
        }
      ]
    },
    {
      "cell_type": "code",
      "metadata": {
        "id": "V-2DIIREa4tq",
        "outputId": "fdd48cb8-032b-4cbc-b697-875d019b7ad0",
        "colab": {
          "base_uri": "https://localhost:8080/"
        }
      },
      "source": [
        "for i in range(1,21):\n",
        "  if i %3 ==0 or i % 7 ==0:\n",
        "    print(i)"
      ],
      "execution_count": 11,
      "outputs": [
        {
          "output_type": "stream",
          "text": [
            "3\n",
            "6\n",
            "7\n",
            "9\n",
            "12\n",
            "14\n",
            "15\n",
            "18\n"
          ],
          "name": "stdout"
        }
      ]
    },
    {
      "cell_type": "code",
      "metadata": {
        "id": "7Q81stbwbJ0A",
        "outputId": "6e502ebc-0378-4e26-f0d5-b3ec986fa2a3",
        "colab": {
          "base_uri": "https://localhost:8080/"
        }
      },
      "source": [
        "for i in range(1,30):\n",
        "  if i%6==0:\n",
        "    continue\n",
        "  print(i)"
      ],
      "execution_count": 12,
      "outputs": [
        {
          "output_type": "stream",
          "text": [
            "1\n",
            "2\n",
            "3\n",
            "4\n",
            "5\n",
            "7\n",
            "8\n",
            "9\n",
            "10\n",
            "11\n",
            "13\n",
            "14\n",
            "15\n",
            "16\n",
            "17\n",
            "19\n",
            "20\n",
            "21\n",
            "22\n",
            "23\n",
            "25\n",
            "26\n",
            "27\n",
            "28\n",
            "29\n"
          ],
          "name": "stdout"
        }
      ]
    },
    {
      "cell_type": "code",
      "metadata": {
        "colab": {
          "base_uri": "https://localhost:8080/"
        },
        "id": "FkT5P-SoJeWA",
        "outputId": "e4046920-4313-4cdf-9613-7018e3d995a1"
      },
      "source": [
        "for i in range(1,21):\n",
        "    print(\"{0} + 5 = {1}\".format(i,i+4),end =\", \")"
      ],
      "execution_count": 13,
      "outputs": [
        {
          "output_type": "stream",
          "text": [
            "1 + 5 = 5, 2 + 5 = 6, 3 + 5 = 7, 4 + 5 = 8, 5 + 5 = 9, 6 + 5 = 10, 7 + 5 = 11, 8 + 5 = 12, 9 + 5 = 13, 10 + 5 = 14, 11 + 5 = 15, 12 + 5 = 16, 13 + 5 = 17, 14 + 5 = 18, 15 + 5 = 19, 16 + 5 = 20, 17 + 5 = 21, 18 + 5 = 22, 19 + 5 = 23, 20 + 5 = 24, "
          ],
          "name": "stdout"
        }
      ]
    },
    {
      "cell_type": "code",
      "metadata": {
        "colab": {
          "base_uri": "https://localhost:8080/"
        },
        "id": "bmnaHt3VJeTR",
        "outputId": "fbb9115f-cbd9-46fe-938f-5fca9e0969a5"
      },
      "source": [
        "for i in range(1,74):\n",
        "    if i%10 == 3:\n",
        "        print(\"i = {0}\".format(i))"
      ],
      "execution_count": null,
      "outputs": [
        {
          "output_type": "stream",
          "text": [
            "i = 3\n",
            "i = 13\n",
            "i = 23\n",
            "i = 33\n",
            "i = 43\n",
            "i = 53\n",
            "i = 63\n",
            "i = 73\n"
          ],
          "name": "stdout"
        }
      ]
    },
    {
      "cell_type": "code",
      "metadata": {
        "id": "GbM04lrIbav_",
        "outputId": "e4af0e09-1ee6-46ac-b1d0-91afad706b7f",
        "colab": {
          "base_uri": "https://localhost:8080/"
        }
      },
      "source": [
        "for i in range(1,73):\n",
        "  if i%10 == 6:\n",
        "    print(i)"
      ],
      "execution_count": 15,
      "outputs": [
        {
          "output_type": "stream",
          "text": [
            "6\n",
            "16\n",
            "26\n",
            "36\n",
            "46\n",
            "56\n",
            "66\n"
          ],
          "name": "stdout"
        }
      ]
    },
    {
      "cell_type": "code",
      "metadata": {
        "colab": {
          "base_uri": "https://localhost:8080/"
        },
        "id": "YdNLlTSiJePQ",
        "outputId": "b005ae65-2fe3-4c3c-ef0f-bf28ab757544"
      },
      "source": [
        "a,b = map(int,(input(\"값을 2개 넣어라\").split(\",\")))\n",
        "\n",
        "for i in range(a,b+1):\n",
        "    if i%10 == 7:\n",
        "        print(\"i ={0}\".format(i))"
      ],
      "execution_count": 16,
      "outputs": [
        {
          "output_type": "stream",
          "text": [
            "값을 2개 넣어라1,88\n",
            "i =7\n",
            "i =17\n",
            "i =27\n",
            "i =37\n",
            "i =47\n",
            "i =57\n",
            "i =67\n",
            "i =77\n",
            "i =87\n"
          ],
          "name": "stdout"
        }
      ]
    },
    {
      "cell_type": "code",
      "metadata": {
        "colab": {
          "base_uri": "https://localhost:8080/"
        },
        "id": "ynhmduFAIvW4",
        "outputId": "f6c8a0c9-81bc-4f9e-923b-e257806070f6"
      },
      "source": [
        "inp = int(input(\"값을 입력해라 : \"))\n",
        "n=1\n",
        "for i in range(1,inp):\n",
        "  n=i*n\n",
        "  print(i,end=\"\")\n",
        "  if  i <inp-1:\n",
        "    print(\"*\",end=\"\")\n",
        "  else :\n",
        "    print(\"={0}\".format(n),end=\"\")"
      ],
      "execution_count": null,
      "outputs": [
        {
          "output_type": "stream",
          "text": [
            "값읍 입력해라 : 4\n",
            "1*2*3=6"
          ],
          "name": "stdout"
        }
      ]
    },
    {
      "cell_type": "code",
      "metadata": {
        "colab": {
          "base_uri": "https://localhost:8080/"
        },
        "id": "L4BV8V4uKI9j",
        "outputId": "0526e142-9a72-43c8-f8ee-641d0083a1ab"
      },
      "source": [
        "for i in range(1,25):\n",
        "  if i%6 ==0:\n",
        "    print(\"+\",end=\"\")\n",
        "  else:\n",
        "    print(\"-\",end=\"\")"
      ],
      "execution_count": null,
      "outputs": [
        {
          "output_type": "stream",
          "text": [
            "-----+-----+-----+-----+"
          ],
          "name": "stdout"
        }
      ]
    },
    {
      "cell_type": "code",
      "metadata": {
        "id": "JHihLeB-L-0b",
        "outputId": "9c909886-ffe2-4b6f-f69a-e2de0144bfa4",
        "colab": {
          "base_uri": "https://localhost:8080/"
        }
      },
      "source": [
        "a,b = map(int,input(\"1,2값을 입력해라 : \").split(\",\"))\n",
        "\n",
        "sum =0\n",
        "sum1 = 1\n",
        "\n",
        "for i in range(a,b+1):\n",
        "  sum+=i\n",
        "  sum1*=i\n",
        "\n",
        "print(sum)\n",
        "print(sum1)"
      ],
      "execution_count": 22,
      "outputs": [
        {
          "output_type": "stream",
          "text": [
            "1,2값을 입력해라 : 5,10\n",
            "45\n",
            "151200\n"
          ],
          "name": "stdout"
        }
      ]
    },
    {
      "cell_type": "code",
      "metadata": {
        "id": "HWhfQgPMcIvd",
        "outputId": "44c45ff5-4e48-44df-b709-fa7544a3dd32",
        "colab": {
          "base_uri": "https://localhost:8080/"
        }
      },
      "source": [
        "\n",
        "\n",
        "\n",
        "while True :\n",
        "\n",
        "  sel = input(\"더할꺼냐 뺄거냐\")\n",
        "  a,b = map(int,input(\"값을 두개 입력핼 : \").split(\",\"))\n",
        "  c = int(input(\"예상되는 답을 입력해라 : \"))\n",
        "  sum=0\n",
        "  if sel == \"+\":\n",
        "    sum =a+b\n",
        "    if sum == c:\n",
        "      print(\"맞았습니다\")\n",
        "    else :\n",
        "      print(\"틀렸습니다\")\n",
        "\n",
        "  elif sel == \"-\":\n",
        "    sum = a - b\n",
        "    if sum == c:\n",
        "      print(\"맞았습니다\")\n",
        "    else :\n",
        "      print(\"틀렸습니다\")\n",
        "  \n",
        "  elif sel == \"*\":\n",
        "    sum = a * b\n",
        "    if sum == c:\n",
        "      print(\"맞았습니다\")\n",
        "    else :\n",
        "      print(\"틀렸습니다\")\n",
        "\n",
        "  elif sel == \"%\":\n",
        "    sum = a % b\n",
        "    if sum == c:\n",
        "      print(\"맞았습니다\")\n",
        "    else :\n",
        "      print(\"틀렸습니다\")\n",
        "\n",
        "\n",
        "  m = input(\"계속 하시 겠습니까? 1 == 네 m 2 == 아니오\")\n",
        "    \n",
        "  if m == \"1\":\n",
        "    continue\n",
        "  else:\n",
        "    break\n",
        "    \n",
        "  \n",
        "\n"
      ],
      "execution_count": 28,
      "outputs": [
        {
          "output_type": "stream",
          "text": [
            "더할꺼냐 뺄거냐+\n",
            "값을 두개 입력핼 : 10,20\n",
            "예상되는 답을 입력해라 : 30\n",
            "맞았습니다\n",
            "계속 하시 겠습니까? 1 == 네 m 2 == 아니오2\n"
          ],
          "name": "stdout"
        }
      ]
    }
  ]
}