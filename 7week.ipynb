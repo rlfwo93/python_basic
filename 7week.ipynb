{
  "nbformat": 4,
  "nbformat_minor": 0,
  "metadata": {
    "colab": {
      "name": "Untitled",
      "provenance": [],
      "authorship_tag": "ABX9TyOIHWhMhHzt9T8AbTq4SHiz",
      "include_colab_link": true
    },
    "kernelspec": {
      "name": "python3",
      "display_name": "Python 3"
    },
    "language_info": {
      "name": "python"
    }
  },
  "cells": [
    {
      "cell_type": "markdown",
      "metadata": {
        "id": "view-in-github",
        "colab_type": "text"
      },
      "source": [
        "<a href=\"https://colab.research.google.com/github/rlfwo93/python_basic/blob/main/7week.ipynb\" target=\"_parent\"><img src=\"https://colab.research.google.com/assets/colab-badge.svg\" alt=\"Open In Colab\"/></a>"
      ]
    },
    {
      "cell_type": "code",
      "metadata": {
        "colab": {
          "base_uri": "https://localhost:8080/"
        },
        "id": "T28mtYmVJec5",
        "outputId": "60c20770-b1fa-4724-e1cd-ec108a211729"
      },
      "source": [
        "for i in range(1,10):\n",
        "    print(\"2*{0} = {1}\".format(i,i*2))"
      ],
      "execution_count": 17,
      "outputs": [
        {
          "output_type": "stream",
          "text": [
            "2*1 = 2\n",
            "2*2 = 4\n",
            "2*3 = 6\n",
            "2*4 = 8\n",
            "2*5 = 10\n",
            "2*6 = 12\n",
            "2*7 = 14\n",
            "2*8 = 16\n",
            "2*9 = 18\n"
          ],
          "name": "stdout"
        }
      ]
    },
    {
      "cell_type": "code",
      "metadata": {
        "colab": {
          "base_uri": "https://localhost:8080/"
        },
        "id": "28g5Eo_pJeax",
        "outputId": "c3461fe3-e7c0-48a0-eeee-9864c9520a1c"
      },
      "source": [
        "for i in range(1,21):\n",
        "    if i%3==0:\n",
        "        print(\"i = {0}\".format(i))"
      ],
      "execution_count": 18,
      "outputs": [
        {
          "output_type": "stream",
          "text": [
            "i = 3\n",
            "i = 6\n",
            "i = 9\n",
            "i = 12\n",
            "i = 15\n",
            "i = 18\n"
          ],
          "name": "stdout"
        }
      ]
    },
    {
      "cell_type": "code",
      "metadata": {
        "colab": {
          "base_uri": "https://localhost:8080/"
        },
        "id": "xuWUVBQmJeYh",
        "outputId": "6d9e5195-d24e-44dc-85a2-a0ba3101326c"
      },
      "source": [
        "for i in range(20):\n",
        "    if i%4==0:\n",
        "        continue\n",
        "    else:\n",
        "        print(\"i={0}\".format(i))"
      ],
      "execution_count": 19,
      "outputs": [
        {
          "output_type": "stream",
          "text": [
            "i=1\n",
            "i=2\n",
            "i=3\n",
            "i=5\n",
            "i=6\n",
            "i=7\n",
            "i=9\n",
            "i=10\n",
            "i=11\n",
            "i=13\n",
            "i=14\n",
            "i=15\n",
            "i=17\n",
            "i=18\n",
            "i=19\n"
          ],
          "name": "stdout"
        }
      ]
    },
    {
      "cell_type": "code",
      "metadata": {
        "colab": {
          "base_uri": "https://localhost:8080/"
        },
        "id": "FkT5P-SoJeWA",
        "outputId": "6645a733-bcb0-4446-a571-0e8c13c8d9ce"
      },
      "source": [
        "for i in range(1,21):\n",
        "    print(\"{0} + 5 = {1}\".format(i,i+5),end =\", \")"
      ],
      "execution_count": 20,
      "outputs": [
        {
          "output_type": "stream",
          "text": [
            "1 + 5 = 6, 2 + 5 = 7, 3 + 5 = 8, 4 + 5 = 9, 5 + 5 = 10, 6 + 5 = 11, 7 + 5 = 12, 8 + 5 = 13, 9 + 5 = 14, 10 + 5 = 15, 11 + 5 = 16, 12 + 5 = 17, 13 + 5 = 18, 14 + 5 = 19, 15 + 5 = 20, 16 + 5 = 21, 17 + 5 = 22, 18 + 5 = 23, 19 + 5 = 24, 20 + 5 = 25, "
          ],
          "name": "stdout"
        }
      ]
    },
    {
      "cell_type": "code",
      "metadata": {
        "colab": {
          "base_uri": "https://localhost:8080/"
        },
        "id": "bmnaHt3VJeTR",
        "outputId": "fbb9115f-cbd9-46fe-938f-5fca9e0969a5"
      },
      "source": [
        "for i in range(1,74):\n",
        "    if i%10 == 3:\n",
        "        print(\"i = {0}\".format(i))"
      ],
      "execution_count": 21,
      "outputs": [
        {
          "output_type": "stream",
          "text": [
            "i = 3\n",
            "i = 13\n",
            "i = 23\n",
            "i = 33\n",
            "i = 43\n",
            "i = 53\n",
            "i = 63\n",
            "i = 73\n"
          ],
          "name": "stdout"
        }
      ]
    },
    {
      "cell_type": "code",
      "metadata": {
        "colab": {
          "base_uri": "https://localhost:8080/"
        },
        "id": "YdNLlTSiJePQ",
        "outputId": "5502c4c9-29fb-486f-8f2e-fd52b96818d4"
      },
      "source": [
        "a,b = map(int,(input(\"값을 2개 넣어라\").split(\",\")))\n",
        "\n",
        "for i in range(a,b):\n",
        "    if i%10 == 5:\n",
        "        print(\"i ={0}\".format(i))"
      ],
      "execution_count": 25,
      "outputs": [
        {
          "output_type": "stream",
          "text": [
            "값을 2개 넣어라1,21\n",
            "i =5\n",
            "i =15\n"
          ],
          "name": "stdout"
        }
      ]
    },
    {
      "cell_type": "code",
      "metadata": {
        "colab": {
          "base_uri": "https://localhost:8080/"
        },
        "id": "ynhmduFAIvW4",
        "outputId": "f6c8a0c9-81bc-4f9e-923b-e257806070f6"
      },
      "source": [
        "inp = int(input(\"값을 입력해라 : \"))\n",
        "n=1\n",
        "for i in range(1,inp):\n",
        "  n=i*n\n",
        "  print(i,end=\"\")\n",
        "  if  i <inp-1:\n",
        "    print(\"*\",end=\"\")\n",
        "  else :\n",
        "    print(\"={0}\".format(n),end=\"\")"
      ],
      "execution_count": 14,
      "outputs": [
        {
          "output_type": "stream",
          "text": [
            "값읍 입력해라 : 4\n",
            "1*2*3=6"
          ],
          "name": "stdout"
        }
      ]
    },
    {
      "cell_type": "code",
      "metadata": {
        "colab": {
          "base_uri": "https://localhost:8080/"
        },
        "id": "L4BV8V4uKI9j",
        "outputId": "0526e142-9a72-43c8-f8ee-641d0083a1ab"
      },
      "source": [
        "for i in range(1,25):\n",
        "  if i%6 ==0:\n",
        "    print(\"+\",end=\"\")\n",
        "  else:\n",
        "    print(\"-\",end=\"\")"
      ],
      "execution_count": 16,
      "outputs": [
        {
          "output_type": "stream",
          "text": [
            "-----+-----+-----+-----+"
          ],
          "name": "stdout"
        }
      ]
    },
    {
      "cell_type": "code",
      "metadata": {
        "id": "JHihLeB-L-0b"
      },
      "source": [
        "a,b = map(int,input(\"1,2값을 입력해라 : \").split(\",\"))\n",
        "\n",
        "sel = input(\"합을 할겨 ? 곱을할겨 ? \")\n",
        "\n",
        "for i in range(a,b):\n",
        "  if sel == \"+\":\n",
        "    "
      ],
      "execution_count": null,
      "outputs": []
    }
  ]
}