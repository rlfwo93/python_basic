{
  "nbformat": 4,
  "nbformat_minor": 0,
  "metadata": {
    "colab": {
      "name": "Untitled76.ipynb",
      "provenance": [],
      "authorship_tag": "ABX9TyPcL6nEeDEz+SeFmttz8rmV",
      "include_colab_link": true
    },
    "kernelspec": {
      "name": "python3",
      "display_name": "Python 3"
    },
    "language_info": {
      "name": "python"
    }
  },
  "cells": [
    {
      "cell_type": "markdown",
      "metadata": {
        "id": "view-in-github",
        "colab_type": "text"
      },
      "source": [
        "<a href=\"https://colab.research.google.com/github/rlfwo93/python_basic/blob/main/12week.ipynb\" target=\"_parent\"><img src=\"https://colab.research.google.com/assets/colab-badge.svg\" alt=\"Open In Colab\"/></a>"
      ]
    },
    {
      "cell_type": "code",
      "metadata": {
        "colab": {
          "base_uri": "https://localhost:8080/",
          "height": 35
        },
        "id": "R_ifwKIePfAQ",
        "outputId": "681be4b9-3f8e-4d64-912b-fd82edfc123a"
      },
      "source": [
        "# 1\n",
        "\n",
        "s = 'Hello, world!'\n",
        "\n",
        "s.replace('world', 'Python')"
      ],
      "execution_count": 33,
      "outputs": [
        {
          "output_type": "execute_result",
          "data": {
            "application/vnd.google.colaboratory.intrinsic+json": {
              "type": "string"
            },
            "text/plain": [
              "'Hello, Python!'"
            ]
          },
          "metadata": {
            "tags": []
          },
          "execution_count": 33
        }
      ]
    },
    {
      "cell_type": "code",
      "metadata": {
        "colab": {
          "base_uri": "https://localhost:8080/"
        },
        "id": "Vwd5tC48PHFz",
        "outputId": "d259b4b8-6f5c-44cc-bcf8-25337ce2fd3f"
      },
      "source": [
        "# 2\n",
        "\n",
        "s = 'apple pear grape pineapple orange'\n",
        "\n",
        "s.split()"
      ],
      "execution_count": 34,
      "outputs": [
        {
          "output_type": "execute_result",
          "data": {
            "text/plain": [
              "['apple', 'pear', 'grape', 'pineapple', 'orange']"
            ]
          },
          "metadata": {
            "tags": []
          },
          "execution_count": 34
        }
      ]
    },
    {
      "cell_type": "code",
      "metadata": {
        "colab": {
          "base_uri": "https://localhost:8080/"
        },
        "id": "F3u0ozWVS5KI",
        "outputId": "663f0e0b-a085-4179-ad5d-3174eef0c948"
      },
      "source": [
        "# 3 \n",
        "\n",
        "s = 'apple pear grape pineapple orange'\n",
        "\n",
        "s.split(\",\")"
      ],
      "execution_count": 36,
      "outputs": [
        {
          "output_type": "execute_result",
          "data": {
            "text/plain": [
              "['apple pear grape pineapple orange']"
            ]
          },
          "metadata": {
            "tags": []
          },
          "execution_count": 36
        }
      ]
    },
    {
      "cell_type": "code",
      "metadata": {
        "colab": {
          "base_uri": "https://localhost:8080/",
          "height": 35
        },
        "id": "QGvgHRbHTGYB",
        "outputId": "c47b3bea-e991-4dcc-964a-3db29f7a732e"
      },
      "source": [
        "# 4\n",
        "\n",
        "a = ' '\n",
        "\n",
        "a.join(['apple', 'pear', 'grape', 'pineapple', 'orange'])"
      ],
      "execution_count": 37,
      "outputs": [
        {
          "output_type": "execute_result",
          "data": {
            "application/vnd.google.colaboratory.intrinsic+json": {
              "type": "string"
            },
            "text/plain": [
              "'apple pear grape pineapple orange'"
            ]
          },
          "metadata": {
            "tags": []
          },
          "execution_count": 37
        }
      ]
    },
    {
      "cell_type": "code",
      "metadata": {
        "colab": {
          "base_uri": "https://localhost:8080/",
          "height": 35
        },
        "id": "KC9Hgcd6TKfm",
        "outputId": "f8d84299-f42b-4a63-9ff4-58d2a2d1791b"
      },
      "source": [
        "# 5 \n",
        "\n",
        "a = '-'\n",
        "\n",
        "a.join(['apple', 'pear', 'grape', 'pineapple', 'orange'])"
      ],
      "execution_count": 38,
      "outputs": [
        {
          "output_type": "execute_result",
          "data": {
            "application/vnd.google.colaboratory.intrinsic+json": {
              "type": "string"
            },
            "text/plain": [
              "'apple-pear-grape-pineapple-orange'"
            ]
          },
          "metadata": {
            "tags": []
          },
          "execution_count": 38
        }
      ]
    },
    {
      "cell_type": "code",
      "metadata": {
        "colab": {
          "base_uri": "https://localhost:8080/"
        },
        "id": "Bx2ChPcoTcTb",
        "outputId": "c3c35499-7995-40e4-a639-23d23db6e97e"
      },
      "source": [
        "# 6\n",
        "\n",
        "s = 'apple pineapple'\n",
        "\n",
        "s.rfind('pl')"
      ],
      "execution_count": 42,
      "outputs": [
        {
          "output_type": "execute_result",
          "data": {
            "text/plain": [
              "12"
            ]
          },
          "metadata": {
            "tags": []
          },
          "execution_count": 42
        }
      ]
    },
    {
      "cell_type": "code",
      "metadata": {
        "colab": {
          "base_uri": "https://localhost:8080/",
          "height": 35
        },
        "id": "Tz4DTtuMTlyX",
        "outputId": "7d2eee99-1272-45d3-f55c-fdcaf9b71c9c"
      },
      "source": [
        "# 7\n",
        "\n",
        "s = 'python'\n",
        "\n",
        "s.upper()"
      ],
      "execution_count": 43,
      "outputs": [
        {
          "output_type": "execute_result",
          "data": {
            "application/vnd.google.colaboratory.intrinsic+json": {
              "type": "string"
            },
            "text/plain": [
              "'PYTHON'"
            ]
          },
          "metadata": {
            "tags": []
          },
          "execution_count": 43
        }
      ]
    },
    {
      "cell_type": "code",
      "metadata": {
        "colab": {
          "base_uri": "https://localhost:8080/"
        },
        "id": "8a5GaErmTnMV",
        "outputId": "89a126c7-1b15-49a9-c381-de245dcc4666"
      },
      "source": [
        "# 8\n",
        "\n",
        "s = 'PYTHON'\n",
        "\n",
        "print(s.lower())\n",
        "\n",
        "s = ' Python '\n",
        "\n",
        "print(s.lstrip())\n",
        "\n",
        "s = ' Python '\n",
        "\n",
        "print(s.rstrip())\n",
        "\n",
        "s = ' Python '\n",
        "\n",
        "print(s.strip())"
      ],
      "execution_count": 45,
      "outputs": [
        {
          "output_type": "stream",
          "text": [
            "python\n",
            "Python \n",
            " Python\n",
            "Python\n"
          ],
          "name": "stdout"
        }
      ]
    },
    {
      "cell_type": "code",
      "metadata": {
        "colab": {
          "base_uri": "https://localhost:8080/",
          "height": 35
        },
        "id": "K6y3aVmrTpB5",
        "outputId": "8c865943-3b60-420e-a7c8-b63ab0b88505"
      },
      "source": [
        "#9\n",
        "\n",
        "s = ', python.'\n",
        "\n",
        "s.lstrip(',.')"
      ],
      "execution_count": 47,
      "outputs": [
        {
          "output_type": "execute_result",
          "data": {
            "application/vnd.google.colaboratory.intrinsic+json": {
              "type": "string"
            },
            "text/plain": [
              "' python.'"
            ]
          },
          "metadata": {
            "tags": []
          },
          "execution_count": 47
        }
      ]
    },
    {
      "cell_type": "code",
      "metadata": {
        "colab": {
          "base_uri": "https://localhost:8080/",
          "height": 35
        },
        "id": "G1VCBh7LUClt",
        "outputId": "1363689e-6d53-4e71-c0ae-ae79a9a6575a"
      },
      "source": [
        "#10\n",
        "\n",
        "s = ', python.'\n",
        "\n",
        "s.rstrip(',.')"
      ],
      "execution_count": 48,
      "outputs": [
        {
          "output_type": "execute_result",
          "data": {
            "application/vnd.google.colaboratory.intrinsic+json": {
              "type": "string"
            },
            "text/plain": [
              "', python'"
            ]
          },
          "metadata": {
            "tags": []
          },
          "execution_count": 48
        }
      ]
    },
    {
      "cell_type": "code",
      "metadata": {
        "colab": {
          "base_uri": "https://localhost:8080/",
          "height": 35
        },
        "id": "CILU5waEUIbk",
        "outputId": "24bb4bd3-0696-4eda-da7e-fbb15b727776"
      },
      "source": [
        "#11\n",
        "\n",
        "s = ', python.'\n",
        "\n",
        "s.strip(',.')"
      ],
      "execution_count": 56,
      "outputs": [
        {
          "output_type": "execute_result",
          "data": {
            "application/vnd.google.colaboratory.intrinsic+json": {
              "type": "string"
            },
            "text/plain": [
              "' python'"
            ]
          },
          "metadata": {
            "tags": []
          },
          "execution_count": 56
        }
      ]
    },
    {
      "cell_type": "code",
      "metadata": {
        "colab": {
          "base_uri": "https://localhost:8080/"
        },
        "id": "WpitOdJRUKEa",
        "outputId": "fa65d5d9-3cff-4d12-ee4b-8ad2c09868aa"
      },
      "source": [
        "#12\n",
        "\n",
        "s = 'apple pineapple'\n",
        "\n",
        "s.index('pl')"
      ],
      "execution_count": 57,
      "outputs": [
        {
          "output_type": "execute_result",
          "data": {
            "text/plain": [
              "2"
            ]
          },
          "metadata": {
            "tags": []
          },
          "execution_count": 57
        }
      ]
    },
    {
      "cell_type": "code",
      "metadata": {
        "colab": {
          "base_uri": "https://localhost:8080/"
        },
        "id": "mxffOJxmUdvx",
        "outputId": "ff77bf39-0bfd-4dcf-f497-53be390c8826"
      },
      "source": [
        "#13\n",
        "\n",
        "s = 'apple pineapple'\n",
        "\n",
        "s.rindex('pl')"
      ],
      "execution_count": 58,
      "outputs": [
        {
          "output_type": "execute_result",
          "data": {
            "text/plain": [
              "12"
            ]
          },
          "metadata": {
            "tags": []
          },
          "execution_count": 58
        }
      ]
    },
    {
      "cell_type": "code",
      "metadata": {
        "colab": {
          "base_uri": "https://localhost:8080/"
        },
        "id": "7FH9ZvNpUhez",
        "outputId": "63d4b9ba-2350-424b-eea3-982ecbcdf8d5"
      },
      "source": [
        "#!4\n",
        "\n",
        "s = 'apple pineapple'\n",
        "\n",
        "s.count('pl')"
      ],
      "execution_count": 59,
      "outputs": [
        {
          "output_type": "execute_result",
          "data": {
            "text/plain": [
              "2"
            ]
          },
          "metadata": {
            "tags": []
          },
          "execution_count": 59
        }
      ]
    },
    {
      "cell_type": "code",
      "metadata": {
        "colab": {
          "base_uri": "https://localhost:8080/",
          "height": 35
        },
        "id": "5PPozggUUi5c",
        "outputId": "cd5a756e-890c-402e-c0ed-eba21ef42fac"
      },
      "source": [
        "#15\n",
        "\n",
        "s= \"python is Easy. So, Program is Fun\"\n",
        "\n",
        "s.swapcase() # 대문자는 소문자로 소문자는 대문자로\n",
        "s.title()\n"
      ],
      "execution_count": 65,
      "outputs": [
        {
          "output_type": "execute_result",
          "data": {
            "application/vnd.google.colaboratory.intrinsic+json": {
              "type": "string"
            },
            "text/plain": [
              "'Python Is Easy. So, Program Is Fun'"
            ]
          },
          "metadata": {
            "tags": []
          },
          "execution_count": 65
        }
      ]
    },
    {
      "cell_type": "code",
      "metadata": {
        "colab": {
          "base_uri": "https://localhost:8080/"
        },
        "id": "Px-0iYa5U2h5",
        "outputId": "6e71937b-0087-40ad-e61f-44c0a0274e76"
      },
      "source": [
        "#16\n",
        "\n",
        "a = tuple([1, 2, 3])\n",
        "\n",
        "a"
      ],
      "execution_count": 68,
      "outputs": [
        {
          "output_type": "execute_result",
          "data": {
            "text/plain": [
              "(1, 2, 3)"
            ]
          },
          "metadata": {
            "tags": []
          },
          "execution_count": 68
        }
      ]
    },
    {
      "cell_type": "code",
      "metadata": {
        "colab": {
          "base_uri": "https://localhost:8080/"
        },
        "id": "TDGkoSrlU4ER",
        "outputId": "66208fb3-5d96-4512-c2c0-c863f9f57478"
      },
      "source": [
        "#17\n",
        "\n",
        "b = tuple(range(10))\n",
        "\n",
        "b"
      ],
      "execution_count": 69,
      "outputs": [
        {
          "output_type": "execute_result",
          "data": {
            "text/plain": [
              "(0, 1, 2, 3, 4, 5, 6, 7, 8, 9)"
            ]
          },
          "metadata": {
            "tags": []
          },
          "execution_count": 69
        }
      ]
    },
    {
      "cell_type": "code",
      "metadata": {
        "colab": {
          "base_uri": "https://localhost:8080/"
        },
        "id": "2h_jX0UzVdfo",
        "outputId": "f06beab5-8911-4de1-e7ab-8200123e171f"
      },
      "source": [
        "#18\n",
        "\n",
        "c = tuple(range(10, 0, -1))\n",
        "\n",
        "c"
      ],
      "execution_count": 70,
      "outputs": [
        {
          "output_type": "execute_result",
          "data": {
            "text/plain": [
              "(10, 9, 8, 7, 6, 5, 4, 3, 2, 1)"
            ]
          },
          "metadata": {
            "tags": []
          },
          "execution_count": 70
        }
      ]
    },
    {
      "cell_type": "code",
      "metadata": {
        "colab": {
          "base_uri": "https://localhost:8080/"
        },
        "id": "fMldG5FYVhF7",
        "outputId": "b9622d61-8c04-424a-ecfe-0286137cf2bb"
      },
      "source": [
        "#19\n",
        "\n",
        "d = tuple(range(5, 12))\n",
        "\n",
        "d"
      ],
      "execution_count": 72,
      "outputs": [
        {
          "output_type": "execute_result",
          "data": {
            "text/plain": [
              "(5, 6, 7, 8, 9, 10, 11)"
            ]
          },
          "metadata": {
            "tags": []
          },
          "execution_count": 72
        }
      ]
    },
    {
      "cell_type": "code",
      "metadata": {
        "colab": {
          "base_uri": "https://localhost:8080/"
        },
        "id": "Gwouo-1kVi_k",
        "outputId": "025491e5-be9b-450a-9ca0-edde938097e2"
      },
      "source": [
        "#20\n",
        "\n",
        "e = tuple(range(10, 20, 2))\n",
        "\n",
        "e"
      ],
      "execution_count": 75,
      "outputs": [
        {
          "output_type": "execute_result",
          "data": {
            "text/plain": [
              "(10, 12, 14, 16, 18)"
            ]
          },
          "metadata": {
            "tags": []
          },
          "execution_count": 75
        }
      ]
    },
    {
      "cell_type": "code",
      "metadata": {
        "colab": {
          "base_uri": "https://localhost:8080/"
        },
        "id": "HybYzCbhV9i6",
        "outputId": "1fa5cd2a-a259-4b10-cee2-e663ea528dd1"
      },
      "source": [
        "#21\n",
        "x = {'a': 10, 'b': 20, 'c': 30, 'd': 40, 'e': 50}\n",
        "x"
      ],
      "execution_count": 76,
      "outputs": [
        {
          "output_type": "execute_result",
          "data": {
            "text/plain": [
              "{'a': 10, 'b': 20, 'c': 30, 'd': 40, 'e': 50}"
            ]
          },
          "metadata": {
            "tags": []
          },
          "execution_count": 76
        }
      ]
    },
    {
      "cell_type": "code",
      "metadata": {
        "colab": {
          "base_uri": "https://localhost:8080/"
        },
        "id": "T67dFxdRV_dY",
        "outputId": "2137cf61-1f85-43c6-c742-4658bd0b2520"
      },
      "source": [
        "#22\n",
        "\n",
        "x = {'a': 10, 'a': 20, 'c': 30, 'd': 40, 'e': 50}\n",
        "\n",
        "x['a']"
      ],
      "execution_count": 77,
      "outputs": [
        {
          "output_type": "execute_result",
          "data": {
            "text/plain": [
              "20"
            ]
          },
          "metadata": {
            "tags": []
          },
          "execution_count": 77
        }
      ]
    },
    {
      "cell_type": "code",
      "metadata": {
        "colab": {
          "base_uri": "https://localhost:8080/"
        },
        "id": "Q8ek0EvXWDOy",
        "outputId": "424e7c26-82e9-485f-aaf3-c50f274d7247"
      },
      "source": [
        "#23\n",
        "\n",
        "x1 = dict(a=10, b=20, c=30)\n",
        "\n",
        "x1"
      ],
      "execution_count": 79,
      "outputs": [
        {
          "output_type": "execute_result",
          "data": {
            "text/plain": [
              "{'a': 10, 'b': 20, 'c': 30}"
            ]
          },
          "metadata": {
            "tags": []
          },
          "execution_count": 79
        }
      ]
    },
    {
      "cell_type": "code",
      "metadata": {
        "colab": {
          "base_uri": "https://localhost:8080/"
        },
        "id": "-gzzPlGKWFeq",
        "outputId": "bc8691fc-3e52-4fb6-be95-7535898b8268"
      },
      "source": [
        "#24\n",
        "\n",
        "x2 = dict(zip(['a', 'b', 'c'], [10, 20, 30]))\n",
        "\n",
        "x2"
      ],
      "execution_count": 81,
      "outputs": [
        {
          "output_type": "execute_result",
          "data": {
            "text/plain": [
              "{'a': 10, 'b': 20, 'c': 30}"
            ]
          },
          "metadata": {
            "tags": []
          },
          "execution_count": 81
        }
      ]
    },
    {
      "cell_type": "code",
      "metadata": {
        "colab": {
          "base_uri": "https://localhost:8080/"
        },
        "id": "byFd5T-RXiBK",
        "outputId": "3be0575f-857e-42c7-facd-32dad1ef0691"
      },
      "source": [
        "#25\n",
        "\n",
        "x3 = dict([('a', 10), ('b', 20), ('c', 30)])\n",
        "x3"
      ],
      "execution_count": 82,
      "outputs": [
        {
          "output_type": "execute_result",
          "data": {
            "text/plain": [
              "{'a': 10, 'b': 20, 'c': 30}"
            ]
          },
          "metadata": {
            "tags": []
          },
          "execution_count": 82
        }
      ]
    },
    {
      "cell_type": "code",
      "metadata": {
        "colab": {
          "base_uri": "https://localhost:8080/"
        },
        "id": "q6hJ4aGQXlcf",
        "outputId": "d5820381-f2fe-43a5-ab00-989dbc983153"
      },
      "source": [
        "#26\n",
        "\n",
        "x4 = dict({'a': 10, 'b': 20, 'c': 30})\n",
        "x4"
      ],
      "execution_count": 83,
      "outputs": [
        {
          "output_type": "execute_result",
          "data": {
            "text/plain": [
              "{'a': 10, 'b': 20, 'c': 30}"
            ]
          },
          "metadata": {
            "tags": []
          },
          "execution_count": 83
        }
      ]
    },
    {
      "cell_type": "code",
      "metadata": {
        "colab": {
          "base_uri": "https://localhost:8080/"
        },
        "id": "kXU--ibCXnQm",
        "outputId": "3dc19ded-6dc7-4671-d0aa-63cf1e7c4d78"
      },
      "source": [
        "#27\n",
        "\n",
        "x = {'a': 10, 'b': 20, 'c': 30, 'd': 40}\n",
        "\n",
        "len(x)"
      ],
      "execution_count": 85,
      "outputs": [
        {
          "output_type": "execute_result",
          "data": {
            "text/plain": [
              "4"
            ]
          },
          "metadata": {
            "tags": []
          },
          "execution_count": 85
        }
      ]
    },
    {
      "cell_type": "code",
      "metadata": {
        "colab": {
          "base_uri": "https://localhost:8080/"
        },
        "id": "txS_FMJmXrZ_",
        "outputId": "eb47642f-e0b6-41d8-ef5f-7ba6d5abbcd4"
      },
      "source": [
        "#28\n",
        "x = {'a': 10, 'b': 20, 'c': 30, 'd': 40}\n",
        "\n",
        "x.update(a=100, b=200)\n",
        "\n",
        "print(x['a'], x['b'])"
      ],
      "execution_count": 86,
      "outputs": [
        {
          "output_type": "stream",
          "text": [
            "100 200\n"
          ],
          "name": "stdout"
        }
      ]
    },
    {
      "cell_type": "code",
      "metadata": {
        "colab": {
          "base_uri": "https://localhost:8080/"
        },
        "id": "OHyhD9VLe8XQ",
        "outputId": "c8fb746a-8589-4588-859d-54072c4bb842"
      },
      "source": [
        "#29\n",
        "x = {'a': 10, 'b': 20, 'c': 30, 'd': 40}\n",
        "\n",
        "x.pop('a')"
      ],
      "execution_count": 87,
      "outputs": [
        {
          "output_type": "execute_result",
          "data": {
            "text/plain": [
              "10"
            ]
          },
          "metadata": {
            "tags": []
          },
          "execution_count": 87
        }
      ]
    },
    {
      "cell_type": "code",
      "metadata": {
        "colab": {
          "base_uri": "https://localhost:8080/"
        },
        "id": "iQHzzhjjfEUS",
        "outputId": "b177ad50-ba7f-408a-d43c-d0faf7ded752"
      },
      "source": [
        "#30\n",
        "\n",
        "x = {'a': 10, 'b': 20, 'c': 30, 'd': 40}\n",
        "\n",
        "del x['a']\n",
        "\n",
        "x"
      ],
      "execution_count": 88,
      "outputs": [
        {
          "output_type": "execute_result",
          "data": {
            "text/plain": [
              "{'b': 20, 'c': 30, 'd': 40}"
            ]
          },
          "metadata": {
            "tags": []
          },
          "execution_count": 88
        }
      ]
    },
    {
      "cell_type": "code",
      "metadata": {
        "colab": {
          "base_uri": "https://localhost:8080/"
        },
        "id": "EptnA_gifHqK",
        "outputId": "baceeab1-c743-4188-b332-6838c8947a34"
      },
      "source": [
        "#31\n",
        "\n",
        "x = {'a': 10, 'b': 20, 'c': 30, 'd': 40}\n",
        "\n",
        "print(x.items())\n",
        "\n",
        "print(x.keys())\n",
        "\n",
        "print(x.values())"
      ],
      "execution_count": 89,
      "outputs": [
        {
          "output_type": "stream",
          "text": [
            "dict_items([('a', 10), ('b', 20), ('c', 30), ('d', 40)])\n",
            "dict_keys(['a', 'b', 'c', 'd'])\n",
            "dict_values([10, 20, 30, 40])\n"
          ],
          "name": "stdout"
        }
      ]
    },
    {
      "cell_type": "code",
      "metadata": {
        "colab": {
          "base_uri": "https://localhost:8080/"
        },
        "id": "NLl1xsdVfPNj",
        "outputId": "df8da209-7499-4771-efbf-65a542f319d5"
      },
      "source": [
        "#32\n",
        "\n",
        "x = {'a': 10, 'b': 20, 'c': 30, 'd': 40}\n",
        "\n",
        "for i in x:\n",
        "  print(i, end=' ')"
      ],
      "execution_count": 90,
      "outputs": [
        {
          "output_type": "stream",
          "text": [
            "a b c d "
          ],
          "name": "stdout"
        }
      ]
    },
    {
      "cell_type": "code",
      "metadata": {
        "colab": {
          "base_uri": "https://localhost:8080/"
        },
        "id": "_5Gs9RM6fTq2",
        "outputId": "4be47028-9708-4389-a51d-1c799d428316"
      },
      "source": [
        "#33\n",
        "\n",
        "fruits = {'strawberry', 'grape', 'orange', 'pineapple', 'cherry'}\n",
        "\n",
        "fruits"
      ],
      "execution_count": 94,
      "outputs": [
        {
          "output_type": "execute_result",
          "data": {
            "text/plain": [
              "{'cherry', 'grape', 'orange', 'pineapple', 'strawberry'}"
            ]
          },
          "metadata": {
            "tags": []
          },
          "execution_count": 94
        }
      ]
    },
    {
      "cell_type": "code",
      "metadata": {
        "colab": {
          "base_uri": "https://localhost:8080/"
        },
        "id": "iezOJ0xxfXyZ",
        "outputId": "6414840f-129c-46cb-8347-f22c962071a1"
      },
      "source": [
        "#34\n",
        "\n",
        "\n",
        "b = set(range(5))\n",
        "\n",
        "b"
      ],
      "execution_count": 95,
      "outputs": [
        {
          "output_type": "execute_result",
          "data": {
            "text/plain": [
              "{0, 1, 2, 3, 4}"
            ]
          },
          "metadata": {
            "tags": []
          },
          "execution_count": 95
        }
      ]
    },
    {
      "cell_type": "code",
      "metadata": {
        "colab": {
          "base_uri": "https://localhost:8080/"
        },
        "id": "s6aiGinLfh7U",
        "outputId": "dff0f6e1-025d-4cf7-f9ef-15dc17ff6314"
      },
      "source": [
        "#35\n",
        "\n",
        "a = {1, 2, 3, 4}\n",
        "\n",
        "b = {3, 4, 5, 6}\n",
        "\n",
        "a | b"
      ],
      "execution_count": 96,
      "outputs": [
        {
          "output_type": "execute_result",
          "data": {
            "text/plain": [
              "{1, 2, 3, 4, 5, 6}"
            ]
          },
          "metadata": {
            "tags": []
          },
          "execution_count": 96
        }
      ]
    },
    {
      "cell_type": "code",
      "metadata": {
        "colab": {
          "base_uri": "https://localhost:8080/"
        },
        "id": "ar_e60f0fkpw",
        "outputId": "5a57da2e-7543-4ba9-dc97-e9f7d76f2d3f"
      },
      "source": [
        "#36\n",
        "\n",
        "a = {1, 2, 3, 4}\n",
        "\n",
        "b = {3, 4, 5, 6}\n",
        "\n",
        "a - b"
      ],
      "execution_count": 97,
      "outputs": [
        {
          "output_type": "execute_result",
          "data": {
            "text/plain": [
              "{1, 2}"
            ]
          },
          "metadata": {
            "tags": []
          },
          "execution_count": 97
        }
      ]
    },
    {
      "cell_type": "code",
      "metadata": {
        "colab": {
          "base_uri": "https://localhost:8080/"
        },
        "id": "nZRaKeOOfnxw",
        "outputId": "6452077e-d1ad-45c8-ec6c-e7aad895264e"
      },
      "source": [
        "#37\n",
        "\n",
        "a = {1, 2, 3, 4}\n",
        "\n",
        "b = {3, 4, 5, 6}\n",
        "\n",
        "a & b"
      ],
      "execution_count": 98,
      "outputs": [
        {
          "output_type": "execute_result",
          "data": {
            "text/plain": [
              "{3, 4}"
            ]
          },
          "metadata": {
            "tags": []
          },
          "execution_count": 98
        }
      ]
    },
    {
      "cell_type": "code",
      "metadata": {
        "colab": {
          "base_uri": "https://localhost:8080/"
        },
        "id": "Ilz9oJdofraK",
        "outputId": "1c257453-59c2-4c02-d02e-3351076dc8a4"
      },
      "source": [
        "#38\n",
        "\n",
        "a = {1, 2, 3, 4}\n",
        "\n",
        "b = {3, 4, 5, 6}\n",
        "\n",
        "a ^ b"
      ],
      "execution_count": 99,
      "outputs": [
        {
          "output_type": "execute_result",
          "data": {
            "text/plain": [
              "{1, 2, 5, 6}"
            ]
          },
          "metadata": {
            "tags": []
          },
          "execution_count": 99
        }
      ]
    },
    {
      "cell_type": "code",
      "metadata": {
        "colab": {
          "base_uri": "https://localhost:8080/"
        },
        "id": "NqZRDKXifuMF",
        "outputId": "b798cff8-74c5-4be2-a5c4-ce11912d6a25"
      },
      "source": [
        "#39\n",
        "\n",
        "a = {1, 2, 3, 4}\n",
        "\n",
        "b = a\n",
        "\n",
        "b.add(5)\n",
        "\n",
        "b\n",
        "type(b)"
      ],
      "execution_count": 102,
      "outputs": [
        {
          "output_type": "execute_result",
          "data": {
            "text/plain": [
              "set"
            ]
          },
          "metadata": {
            "tags": []
          },
          "execution_count": 102
        }
      ]
    },
    {
      "cell_type": "markdown",
      "metadata": {
        "id": "we3CEgEug4Ji"
      },
      "source": [
        "# **코드 짜기**"
      ]
    },
    {
      "cell_type": "code",
      "metadata": {
        "colab": {
          "base_uri": "https://localhost:8080/"
        },
        "id": "yX7Ya0m-f5ZX",
        "outputId": "f6b33b8f-893f-43c7-b2ca-a08fb84503bf"
      },
      "source": [
        "#1\n",
        "\n",
        "a = input(\"입력하세요.\")\n",
        "\n",
        "\n",
        "for i in range(len(a),0,-1):\n",
        "  print(i)\n",
        "  print(a[i-1], end =\" \")"
      ],
      "execution_count": 116,
      "outputs": [
        {
          "output_type": "stream",
          "text": [
            "입력하세요.hello\n",
            "5\n",
            "o 4\n",
            "l 3\n",
            "l 2\n",
            "e 1\n",
            "h "
          ],
          "name": "stdout"
        }
      ]
    },
    {
      "cell_type": "code",
      "metadata": {
        "colab": {
          "base_uri": "https://localhost:8080/",
          "height": 53
        },
        "id": "kB3vyamqg6ON",
        "outputId": "0c90ff35-fe38-4f61-f110-57f32b606951"
      },
      "source": [
        "#2\n",
        "\n",
        "a = input(\"입력하세요\")\n",
        "\n",
        "a = a.replace(\" \",\"\")\n",
        "\n",
        "a"
      ],
      "execution_count": 115,
      "outputs": [
        {
          "output_type": "stream",
          "text": [
            "입력하세요he l l o\n"
          ],
          "name": "stdout"
        },
        {
          "output_type": "execute_result",
          "data": {
            "application/vnd.google.colaboratory.intrinsic+json": {
              "type": "string"
            },
            "text/plain": [
              "'hello'"
            ]
          },
          "metadata": {
            "tags": []
          },
          "execution_count": 115
        }
      ]
    },
    {
      "cell_type": "code",
      "metadata": {
        "colab": {
          "base_uri": "https://localhost:8080/",
          "height": 53
        },
        "id": "OuMS3DuchZZz",
        "outputId": "582d11b4-6e7e-44c4-a875-c9c15bf2d749"
      },
      "source": [
        "# 3\n",
        "\n",
        "a = input(\"값을 입력\")\n",
        "\n",
        "a = a.replace(\"가\",\"$\")\n",
        "a = a.replace(\"요\",\"$\")\n",
        "\n",
        "a"
      ],
      "execution_count": 117,
      "outputs": [
        {
          "output_type": "stream",
          "text": [
            "값을 입력가나요\n"
          ],
          "name": "stdout"
        },
        {
          "output_type": "execute_result",
          "data": {
            "application/vnd.google.colaboratory.intrinsic+json": {
              "type": "string"
            },
            "text/plain": [
              "'$나$'"
            ]
          },
          "metadata": {
            "tags": []
          },
          "execution_count": 117
        }
      ]
    },
    {
      "cell_type": "code",
      "metadata": {
        "colab": {
          "base_uri": "https://localhost:8080/"
        },
        "id": "9_6nqbguh5QB",
        "outputId": "13eeac0a-5408-46c2-c8c8-c4bcfeb42de5"
      },
      "source": [
        "#4\n",
        "\n",
        "a=['alpha', 'bravo', 'delta', 'hotel', 'india']\n",
        "b =[]\n",
        "for i in a:\n",
        "  if len(i) == 5:\n",
        "    b.append(i)\n",
        "\n",
        "print(b)"
      ],
      "execution_count": 119,
      "outputs": [
        {
          "output_type": "stream",
          "text": [
            "['alpha', 'bravo', 'delta', 'hotel', 'india']\n"
          ],
          "name": "stdout"
        }
      ]
    },
    {
      "cell_type": "code",
      "metadata": {
        "colab": {
          "base_uri": "https://localhost:8080/"
        },
        "id": "0gRcBjufiVer",
        "outputId": "f4577c5c-6dfb-4f9b-d39d-faa42bf6e957"
      },
      "source": [
        "#5\n",
        "b =set()\n",
        "c = set()\n",
        "for i in range(1,101):\n",
        "  if i%3 ==0 :\n",
        "    b.add(i)\n",
        "  if i%5 ==0 :\n",
        "    c.add(i)\n",
        "\n",
        "b&c"
      ],
      "execution_count": 123,
      "outputs": [
        {
          "output_type": "execute_result",
          "data": {
            "text/plain": [
              "{15, 30, 45, 60, 75, 90}"
            ]
          },
          "metadata": {
            "tags": []
          },
          "execution_count": 123
        }
      ]
    },
    {
      "cell_type": "code",
      "metadata": {
        "colab": {
          "base_uri": "https://localhost:8080/"
        },
        "id": "Tj-zH8GmkjsR",
        "outputId": "f31833bd-38f1-4d89-af88-f27c2ab32971"
      },
      "source": [
        "#6\n",
        "\n",
        "a = input(\"값을 입력하세요 !\")\n",
        "\n",
        "if int(a[0:2]) <=65:\n",
        "  print(\"65세 이상입니다.\")\n",
        "else:\n",
        "  print(\"65세 미만입니다.\")\n"
      ],
      "execution_count": 125,
      "outputs": [
        {
          "output_type": "stream",
          "text": [
            "값을 입력하세요 !661925\n",
            "65세 미만입니다.\n"
          ],
          "name": "stdout"
        }
      ]
    },
    {
      "cell_type": "markdown",
      "metadata": {
        "id": "65qc_BqflSpL"
      },
      "source": [
        "# **수업과제_함수**"
      ]
    },
    {
      "cell_type": "code",
      "metadata": {
        "colab": {
          "base_uri": "https://localhost:8080/"
        },
        "id": "EmAe0F0alXFT",
        "outputId": "f7a7fdf6-5d88-46a1-c53e-950c039b43fa"
      },
      "source": [
        "#1\n",
        "\n",
        "def hi():\n",
        "  print(\"안녕하세용\")\n",
        "\n",
        "\n",
        "hi()"
      ],
      "execution_count": 126,
      "outputs": [
        {
          "output_type": "stream",
          "text": [
            "안녕하세용\n"
          ],
          "name": "stdout"
        }
      ]
    },
    {
      "cell_type": "code",
      "metadata": {
        "colab": {
          "base_uri": "https://localhost:8080/"
        },
        "id": "UbtdrLyclcRD",
        "outputId": "651e19ec-19e3-49c0-a420-980f97021fbf"
      },
      "source": [
        "#2\n",
        "\n",
        "def add(a,b):\n",
        "  print(a+b)\n",
        "\n",
        "add(1,2)\n"
      ],
      "execution_count": 127,
      "outputs": [
        {
          "output_type": "stream",
          "text": [
            "3\n"
          ],
          "name": "stdout"
        }
      ]
    },
    {
      "cell_type": "code",
      "metadata": {
        "colab": {
          "base_uri": "https://localhost:8080/"
        },
        "id": "lwp1236JliJW",
        "outputId": "6cb21868-bf0e-464f-f0a3-23df26b61920"
      },
      "source": [
        "#3\n",
        "\n",
        "def sub(a,b):\n",
        "  print(a-b)\n",
        "\n",
        "sub(4,2)"
      ],
      "execution_count": 128,
      "outputs": [
        {
          "output_type": "stream",
          "text": [
            "2\n"
          ],
          "name": "stdout"
        }
      ]
    },
    {
      "cell_type": "code",
      "metadata": {
        "colab": {
          "base_uri": "https://localhost:8080/"
        },
        "id": "ufwDYCidlnV7",
        "outputId": "24cd2eeb-54af-400d-aa0c-962906352f76"
      },
      "source": [
        "#4\n",
        "\n",
        "def div(a,b):\n",
        "  print(a/b)\n",
        "\n",
        "\n",
        "div(5,2)"
      ],
      "execution_count": 129,
      "outputs": [
        {
          "output_type": "stream",
          "text": [
            "2.5\n"
          ],
          "name": "stdout"
        }
      ]
    },
    {
      "cell_type": "code",
      "metadata": {
        "colab": {
          "base_uri": "https://localhost:8080/"
        },
        "id": "Qqhxrc_LlrML",
        "outputId": "daeccb54-c942-476d-fecb-e429b557ebf6"
      },
      "source": [
        "#5\n",
        "\n",
        "def mul(a,b):\n",
        "  print(a*b)\n",
        "\n",
        "mul(5,2)"
      ],
      "execution_count": 130,
      "outputs": [
        {
          "output_type": "stream",
          "text": [
            "10\n"
          ],
          "name": "stdout"
        }
      ]
    },
    {
      "cell_type": "code",
      "metadata": {
        "colab": {
          "base_uri": "https://localhost:8080/"
        },
        "id": "-BdXnVL9lvHB",
        "outputId": "a36200a2-c69e-4f1e-81b3-fe2f2a0a35eb"
      },
      "source": [
        "#6\n",
        "\n",
        "def add(a,b):\n",
        "  return a+b\n",
        "\n",
        "add(1,2)\n"
      ],
      "execution_count": 131,
      "outputs": [
        {
          "output_type": "execute_result",
          "data": {
            "text/plain": [
              "3"
            ]
          },
          "metadata": {
            "tags": []
          },
          "execution_count": 131
        }
      ]
    },
    {
      "cell_type": "code",
      "metadata": {
        "colab": {
          "base_uri": "https://localhost:8080/"
        },
        "id": "vCV6Nn0Hl2QT",
        "outputId": "4b5e01b4-6293-41aa-c832-108c52826276"
      },
      "source": [
        "#7\n",
        "\n",
        "def sub(a,b):\n",
        "  \"\"\"빼는 함수입니다 ㅎㅎ\"\"\"\n",
        "  print(a-b)\n",
        "\n",
        "print(sub.__doc__)"
      ],
      "execution_count": 135,
      "outputs": [
        {
          "output_type": "stream",
          "text": [
            "빼는 함수입니다 ㅎㅎ\n"
          ],
          "name": "stdout"
        }
      ]
    },
    {
      "cell_type": "code",
      "metadata": {
        "colab": {
          "base_uri": "https://localhost:8080/"
        },
        "id": "d2NfEbeYmZX5",
        "outputId": "cf76a2d7-7eaa-4975-fb1d-875b48bf2f0b"
      },
      "source": [
        "#8\n",
        "\n",
        "def a1(a,b):\n",
        "  return a+b,a-b\n",
        "\n",
        "a1(5,2)"
      ],
      "execution_count": 136,
      "outputs": [
        {
          "output_type": "execute_result",
          "data": {
            "text/plain": [
              "(7, 3)"
            ]
          },
          "metadata": {
            "tags": []
          },
          "execution_count": 136
        }
      ]
    },
    {
      "cell_type": "code",
      "metadata": {
        "colab": {
          "base_uri": "https://localhost:8080/"
        },
        "id": "PmxFwfV6mhaS",
        "outputId": "3293b460-b9b6-4a7e-cb6f-9fa50e3e5f8f"
      },
      "source": [
        "#9\n",
        "\n",
        "def add_sub(a,b):\n",
        "  return [a+b,a-b]\n",
        "\n",
        "\n",
        "a1 = add_sub(5,2)\n",
        "print(type(a1))\n",
        "print(a1)"
      ],
      "execution_count": 140,
      "outputs": [
        {
          "output_type": "stream",
          "text": [
            "<class 'list'>\n",
            "[7, 3]\n"
          ],
          "name": "stdout"
        }
      ]
    },
    {
      "cell_type": "code",
      "metadata": {
        "colab": {
          "base_uri": "https://localhost:8080/"
        },
        "id": "GvEO3TSfmzpO",
        "outputId": "18ad839e-e388-4fa8-de85-5dba7a28fc50"
      },
      "source": [
        "#10\n",
        "\n",
        "def calcu(a,b,c):\n",
        "\n",
        "  if c == \"-\":\n",
        "    return a-b\n",
        "  elif c == \"+\":\n",
        "    return a+b\n",
        "  elif c == \"*\":\n",
        "    return a*b\n",
        "  elif c == \"/\":\n",
        "    return a/b\n",
        "  elif c ==\"%\":\n",
        "    return a%b\n",
        "\n",
        "calcu(int(input(\"첫번째 값 입력\")),int(input(\"두번째 값 입력\")),input(\"원하는 계산 입력\"))\n"
      ],
      "execution_count": 142,
      "outputs": [
        {
          "output_type": "stream",
          "text": [
            "첫번째 값 입력5\n",
            "두번째 값 입력2\n",
            "원하는 계산 입력+\n"
          ],
          "name": "stdout"
        },
        {
          "output_type": "execute_result",
          "data": {
            "text/plain": [
              "7"
            ]
          },
          "metadata": {
            "tags": []
          },
          "execution_count": 142
        }
      ]
    },
    {
      "cell_type": "code",
      "metadata": {
        "colab": {
          "base_uri": "https://localhost:8080/"
        },
        "id": "f-NLBDAAnhlB",
        "outputId": "f60eb449-2211-4c21-d961-d98a95bb21cf"
      },
      "source": [
        "#11\n",
        "\n",
        "a,b = map(int,input(\"값을입력하세요.\").split(\",\"))\n",
        "\n",
        "def m (a,b):\n",
        "  return max(a,b)\n",
        "\n",
        "m(a,b)"
      ],
      "execution_count": 146,
      "outputs": [
        {
          "output_type": "stream",
          "text": [
            "값을입력하세요.5,10\n"
          ],
          "name": "stdout"
        },
        {
          "output_type": "execute_result",
          "data": {
            "text/plain": [
              "10"
            ]
          },
          "metadata": {
            "tags": []
          },
          "execution_count": 146
        }
      ]
    },
    {
      "cell_type": "code",
      "metadata": {
        "colab": {
          "base_uri": "https://localhost:8080/"
        },
        "id": "r0E_HS1qn0R3",
        "outputId": "0494f96c-c66f-4906-ace6-81e90880837f"
      },
      "source": [
        "# 12\n",
        "\n",
        "a,b = map(int,input(\"값을입력하세요.\").split(\",\"))\n",
        "def m (a,b):\n",
        "  return min(a,b)\n",
        "\n",
        "\n",
        "m(a,b)"
      ],
      "execution_count": 147,
      "outputs": [
        {
          "output_type": "stream",
          "text": [
            "값을입력하세요.5,10\n"
          ],
          "name": "stdout"
        },
        {
          "output_type": "execute_result",
          "data": {
            "text/plain": [
              "5"
            ]
          },
          "metadata": {
            "tags": []
          },
          "execution_count": 147
        }
      ]
    },
    {
      "cell_type": "code",
      "metadata": {
        "colab": {
          "base_uri": "https://localhost:8080/"
        },
        "id": "SDxVTvH7n2gs",
        "outputId": "ca620789-51f9-4f9b-b488-5d75d5a9ed80"
      },
      "source": [
        "# 13\n",
        "\n",
        "def m(a1,b):\n",
        "  a = []\n",
        "  for i in range(0,a1):\n",
        "    a.append(int(input(\"넣을 값을 입력해라.\")))\n",
        "  if b == \"큰값\":\n",
        "    return max(a)\n",
        "  elif b == \"작은값\":\n",
        "    return min(a)\n",
        "\n",
        "\n",
        "m(int(input(\"얼마나 값을 입력할건데요 ?\")),input(\"큰값 ? 작은값 ?\"))"
      ],
      "execution_count": 152,
      "outputs": [
        {
          "output_type": "stream",
          "text": [
            "얼마나 값을 입력할건데요 ?5\n",
            "큰값 ? 작은값 ?큰값\n",
            "넣을 값을 입력해라.10\n",
            "넣을 값을 입력해라.5\n",
            "넣을 값을 입력해라.9\n",
            "넣을 값을 입력해라.1\n",
            "넣을 값을 입력해라.2\n"
          ],
          "name": "stdout"
        },
        {
          "output_type": "execute_result",
          "data": {
            "text/plain": [
              "10"
            ]
          },
          "metadata": {
            "tags": []
          },
          "execution_count": 152
        }
      ]
    },
    {
      "cell_type": "code",
      "metadata": {
        "colab": {
          "base_uri": "https://localhost:8080/",
          "height": 700
        },
        "id": "cs1LbCUDpvRl",
        "outputId": "cfa6cdf4-9951-4c33-d881-b43c47d4f185"
      },
      "source": [
        "#14\n",
        "\n",
        "\n",
        "def g(a,b):\n",
        "\n",
        "  if b == \"둘레\":\n",
        "    return a*2*3.14\n",
        "  elif b == \"면적\":\n",
        "    return a*a*3.14\n",
        "\n",
        "while True:\n",
        "  print(g(int(input(\"반지름 값 입력 : \")),input(\"둘레를 구함 ? 면적을 구함 ?\")))\n",
        "\n",
        "\n",
        "\n",
        "# 무한루프도는 코드 중지하면 오류 뜹니다 !"
      ],
      "execution_count": 155,
      "outputs": [
        {
          "output_type": "stream",
          "text": [
            "반지름 값 입력 : 5\n",
            "둘레를 구함 ? 면적을 구함 ?둘레\n",
            "31.400000000000002\n",
            "반지름 값 입력 : 5\n",
            "둘레를 구함 ? 면적을 구함 ?면적\n",
            "78.5\n"
          ],
          "name": "stdout"
        },
        {
          "output_type": "error",
          "ename": "KeyboardInterrupt",
          "evalue": "ignored",
          "traceback": [
            "\u001b[0;31m---------------------------------------------------------------------------\u001b[0m",
            "\u001b[0;31mKeyboardInterrupt\u001b[0m                         Traceback (most recent call last)",
            "\u001b[0;32m/usr/local/lib/python3.7/dist-packages/ipykernel/kernelbase.py\u001b[0m in \u001b[0;36m_input_request\u001b[0;34m(self, prompt, ident, parent, password)\u001b[0m\n\u001b[1;32m    728\u001b[0m             \u001b[0;32mtry\u001b[0m\u001b[0;34m:\u001b[0m\u001b[0;34m\u001b[0m\u001b[0;34m\u001b[0m\u001b[0m\n\u001b[0;32m--> 729\u001b[0;31m                 \u001b[0mident\u001b[0m\u001b[0;34m,\u001b[0m \u001b[0mreply\u001b[0m \u001b[0;34m=\u001b[0m \u001b[0mself\u001b[0m\u001b[0;34m.\u001b[0m\u001b[0msession\u001b[0m\u001b[0;34m.\u001b[0m\u001b[0mrecv\u001b[0m\u001b[0;34m(\u001b[0m\u001b[0mself\u001b[0m\u001b[0;34m.\u001b[0m\u001b[0mstdin_socket\u001b[0m\u001b[0;34m,\u001b[0m \u001b[0;36m0\u001b[0m\u001b[0;34m)\u001b[0m\u001b[0;34m\u001b[0m\u001b[0;34m\u001b[0m\u001b[0m\n\u001b[0m\u001b[1;32m    730\u001b[0m             \u001b[0;32mexcept\u001b[0m \u001b[0mException\u001b[0m\u001b[0;34m:\u001b[0m\u001b[0;34m\u001b[0m\u001b[0;34m\u001b[0m\u001b[0m\n",
            "\u001b[0;32m/usr/local/lib/python3.7/dist-packages/jupyter_client/session.py\u001b[0m in \u001b[0;36mrecv\u001b[0;34m(self, socket, mode, content, copy)\u001b[0m\n\u001b[1;32m    802\u001b[0m         \u001b[0;32mtry\u001b[0m\u001b[0;34m:\u001b[0m\u001b[0;34m\u001b[0m\u001b[0;34m\u001b[0m\u001b[0m\n\u001b[0;32m--> 803\u001b[0;31m             \u001b[0mmsg_list\u001b[0m \u001b[0;34m=\u001b[0m \u001b[0msocket\u001b[0m\u001b[0;34m.\u001b[0m\u001b[0mrecv_multipart\u001b[0m\u001b[0;34m(\u001b[0m\u001b[0mmode\u001b[0m\u001b[0;34m,\u001b[0m \u001b[0mcopy\u001b[0m\u001b[0;34m=\u001b[0m\u001b[0mcopy\u001b[0m\u001b[0;34m)\u001b[0m\u001b[0;34m\u001b[0m\u001b[0;34m\u001b[0m\u001b[0m\n\u001b[0m\u001b[1;32m    804\u001b[0m         \u001b[0;32mexcept\u001b[0m \u001b[0mzmq\u001b[0m\u001b[0;34m.\u001b[0m\u001b[0mZMQError\u001b[0m \u001b[0;32mas\u001b[0m \u001b[0me\u001b[0m\u001b[0;34m:\u001b[0m\u001b[0;34m\u001b[0m\u001b[0;34m\u001b[0m\u001b[0m\n",
            "\u001b[0;32m/usr/local/lib/python3.7/dist-packages/zmq/sugar/socket.py\u001b[0m in \u001b[0;36mrecv_multipart\u001b[0;34m(self, flags, copy, track)\u001b[0m\n\u001b[1;32m    582\u001b[0m         \"\"\"\n\u001b[0;32m--> 583\u001b[0;31m         \u001b[0mparts\u001b[0m \u001b[0;34m=\u001b[0m \u001b[0;34m[\u001b[0m\u001b[0mself\u001b[0m\u001b[0;34m.\u001b[0m\u001b[0mrecv\u001b[0m\u001b[0;34m(\u001b[0m\u001b[0mflags\u001b[0m\u001b[0;34m,\u001b[0m \u001b[0mcopy\u001b[0m\u001b[0;34m=\u001b[0m\u001b[0mcopy\u001b[0m\u001b[0;34m,\u001b[0m \u001b[0mtrack\u001b[0m\u001b[0;34m=\u001b[0m\u001b[0mtrack\u001b[0m\u001b[0;34m)\u001b[0m\u001b[0;34m]\u001b[0m\u001b[0;34m\u001b[0m\u001b[0;34m\u001b[0m\u001b[0m\n\u001b[0m\u001b[1;32m    584\u001b[0m         \u001b[0;31m# have first part already, only loop while more to receive\u001b[0m\u001b[0;34m\u001b[0m\u001b[0;34m\u001b[0m\u001b[0;34m\u001b[0m\u001b[0m\n",
            "\u001b[0;32mzmq/backend/cython/socket.pyx\u001b[0m in \u001b[0;36mzmq.backend.cython.socket.Socket.recv\u001b[0;34m()\u001b[0m\n",
            "\u001b[0;32mzmq/backend/cython/socket.pyx\u001b[0m in \u001b[0;36mzmq.backend.cython.socket.Socket.recv\u001b[0;34m()\u001b[0m\n",
            "\u001b[0;32mzmq/backend/cython/socket.pyx\u001b[0m in \u001b[0;36mzmq.backend.cython.socket._recv_copy\u001b[0;34m()\u001b[0m\n",
            "\u001b[0;32m/usr/local/lib/python3.7/dist-packages/zmq/backend/cython/checkrc.pxd\u001b[0m in \u001b[0;36mzmq.backend.cython.checkrc._check_rc\u001b[0;34m()\u001b[0m\n",
            "\u001b[0;31mKeyboardInterrupt\u001b[0m: ",
            "\nDuring handling of the above exception, another exception occurred:\n",
            "\u001b[0;31mKeyboardInterrupt\u001b[0m                         Traceback (most recent call last)",
            "\u001b[0;32m<ipython-input-155-1a6f93690502>\u001b[0m in \u001b[0;36m<module>\u001b[0;34m()\u001b[0m\n\u001b[1;32m     10\u001b[0m \u001b[0;34m\u001b[0m\u001b[0m\n\u001b[1;32m     11\u001b[0m \u001b[0;32mwhile\u001b[0m \u001b[0;32mTrue\u001b[0m\u001b[0;34m:\u001b[0m\u001b[0;34m\u001b[0m\u001b[0;34m\u001b[0m\u001b[0m\n\u001b[0;32m---> 12\u001b[0;31m   \u001b[0mprint\u001b[0m\u001b[0;34m(\u001b[0m\u001b[0mg\u001b[0m\u001b[0;34m(\u001b[0m\u001b[0mint\u001b[0m\u001b[0;34m(\u001b[0m\u001b[0minput\u001b[0m\u001b[0;34m(\u001b[0m\u001b[0;34m\"반지름 값 입력 : \"\u001b[0m\u001b[0;34m)\u001b[0m\u001b[0;34m)\u001b[0m\u001b[0;34m,\u001b[0m\u001b[0minput\u001b[0m\u001b[0;34m(\u001b[0m\u001b[0;34m\"둘레를 구함 ? 면적을 구함 ?\"\u001b[0m\u001b[0;34m)\u001b[0m\u001b[0;34m)\u001b[0m\u001b[0;34m)\u001b[0m\u001b[0;34m\u001b[0m\u001b[0;34m\u001b[0m\u001b[0m\n\u001b[0m\u001b[1;32m     13\u001b[0m \u001b[0;34m\u001b[0m\u001b[0m\n",
            "\u001b[0;32m/usr/local/lib/python3.7/dist-packages/ipykernel/kernelbase.py\u001b[0m in \u001b[0;36mraw_input\u001b[0;34m(self, prompt)\u001b[0m\n\u001b[1;32m    702\u001b[0m             \u001b[0mself\u001b[0m\u001b[0;34m.\u001b[0m\u001b[0m_parent_ident\u001b[0m\u001b[0;34m,\u001b[0m\u001b[0;34m\u001b[0m\u001b[0;34m\u001b[0m\u001b[0m\n\u001b[1;32m    703\u001b[0m             \u001b[0mself\u001b[0m\u001b[0;34m.\u001b[0m\u001b[0m_parent_header\u001b[0m\u001b[0;34m,\u001b[0m\u001b[0;34m\u001b[0m\u001b[0;34m\u001b[0m\u001b[0m\n\u001b[0;32m--> 704\u001b[0;31m             \u001b[0mpassword\u001b[0m\u001b[0;34m=\u001b[0m\u001b[0;32mFalse\u001b[0m\u001b[0;34m,\u001b[0m\u001b[0;34m\u001b[0m\u001b[0;34m\u001b[0m\u001b[0m\n\u001b[0m\u001b[1;32m    705\u001b[0m         )\n\u001b[1;32m    706\u001b[0m \u001b[0;34m\u001b[0m\u001b[0m\n",
            "\u001b[0;32m/usr/local/lib/python3.7/dist-packages/ipykernel/kernelbase.py\u001b[0m in \u001b[0;36m_input_request\u001b[0;34m(self, prompt, ident, parent, password)\u001b[0m\n\u001b[1;32m    732\u001b[0m             \u001b[0;32mexcept\u001b[0m \u001b[0mKeyboardInterrupt\u001b[0m\u001b[0;34m:\u001b[0m\u001b[0;34m\u001b[0m\u001b[0;34m\u001b[0m\u001b[0m\n\u001b[1;32m    733\u001b[0m                 \u001b[0;31m# re-raise KeyboardInterrupt, to truncate traceback\u001b[0m\u001b[0;34m\u001b[0m\u001b[0;34m\u001b[0m\u001b[0;34m\u001b[0m\u001b[0m\n\u001b[0;32m--> 734\u001b[0;31m                 \u001b[0;32mraise\u001b[0m \u001b[0mKeyboardInterrupt\u001b[0m\u001b[0;34m\u001b[0m\u001b[0;34m\u001b[0m\u001b[0m\n\u001b[0m\u001b[1;32m    735\u001b[0m             \u001b[0;32melse\u001b[0m\u001b[0;34m:\u001b[0m\u001b[0;34m\u001b[0m\u001b[0;34m\u001b[0m\u001b[0m\n\u001b[1;32m    736\u001b[0m                 \u001b[0;32mbreak\u001b[0m\u001b[0;34m\u001b[0m\u001b[0;34m\u001b[0m\u001b[0m\n",
            "\u001b[0;31mKeyboardInterrupt\u001b[0m: "
          ]
        }
      ]
    },
    {
      "cell_type": "code",
      "metadata": {
        "colab": {
          "base_uri": "https://localhost:8080/",
          "height": 53
        },
        "id": "-TH_FYp-q2d0",
        "outputId": "9a9be8ec-a1a7-488e-94f9-397dfeac0765"
      },
      "source": [
        "#15\n",
        "\n",
        "def a (b):\n",
        "  if b%2==0:\n",
        "    return \"짝수\"\n",
        "  else:\n",
        "    return \"홀수\"\n",
        "\n",
        "\n",
        "a(int(input(\"값 입력 !\")))"
      ],
      "execution_count": 156,
      "outputs": [
        {
          "output_type": "stream",
          "text": [
            "값 입력 !5\n"
          ],
          "name": "stdout"
        },
        {
          "output_type": "execute_result",
          "data": {
            "application/vnd.google.colaboratory.intrinsic+json": {
              "type": "string"
            },
            "text/plain": [
              "'홀수'"
            ]
          },
          "metadata": {
            "tags": []
          },
          "execution_count": 156
        }
      ]
    },
    {
      "cell_type": "code",
      "metadata": {
        "colab": {
          "base_uri": "https://localhost:8080/",
          "height": 1000
        },
        "id": "uEO0HwFFrKyJ",
        "outputId": "c8c9786b-42a4-490a-b22d-fbaaf10082c0"
      },
      "source": [
        "#16\n",
        "\n",
        "def a(b):\n",
        "  if b == \"삼각형\":\n",
        "    a1,a2,a3 = map(int,input(\"값을 입력하세여 !\").split(\",\"))\n",
        "    return a1+a2+a3\n",
        "  elif b == \"사각형\":\n",
        "    b1,b2 = map(int,input(\"가로,세로 입력 : \").split(\",\"))\n",
        "    return (b1+b2)*2\n",
        "  elif b == \"사다리꼴\":\n",
        "    c1,c2,c3,c4 = map(int,input(\"값을 입력하세여 !\").split(\",\"))\n",
        "    return c1+c2+c3+c4\n",
        "  elif b == \"마름모\":\n",
        "    d = int(input(\"길이 입력\"))\n",
        "    return d*4\n",
        "  elif b ==\"원의 둘레\":\n",
        "    e = int(input(\"반지름 입력\"))\n",
        "    return e*2*3.14\n",
        "  elif b ==\"원의 부피\":\n",
        "    f = int(input(\"반지름을 입력하세요\"))\n",
        "    return (4/3*3.14)*(f^3)\n",
        "  elif b ==\"원의 넓이\":\n",
        "    g = int(input(\"반지름을 입력하세요\"))\n",
        "    return (g*g)*3.14\n",
        "  elif b == \"구의 겉넓이\":\n",
        "    h = int(input(\"반지름을 입력.\"))\n",
        "    return (4*3.14)*(h^2)\n",
        "  elif b == \"구의 부피\":\n",
        "    i = int(input(\"구의 부피\"))\n",
        "    return (4/3*3.14)*(i^3)\n",
        "\n",
        "\n",
        "while True:\n",
        "  print(a(input(\"원하는 도형을 입력해라.\")))\n",
        "    \n",
        "\n",
        "\n",
        "\n",
        "# 무한루프도는 코드 중지하면 오류 뜹니다 !"
      ],
      "execution_count": 163,
      "outputs": [
        {
          "output_type": "stream",
          "text": [
            "원하는 도형을 입력해라.삼각형\n",
            "값을 입력하세여 !1,2,3\n",
            "6\n",
            "원하는 도형을 입력해라.사각형\n",
            "가로,세로 입력 : 1,2\n",
            "6\n",
            "원하는 도형을 입력해라.사다리꼴\n",
            "값을 입력하세여 !1,2,3,4\n",
            "10\n",
            "원하는 도형을 입력해라.마름모\n",
            "길이 입력5\n",
            "20\n",
            "원하는 도형을 입력해라.원의 둘레\n",
            "반지름 입력10\n",
            "62.800000000000004\n",
            "원하는 도형을 입력해라.원의 부피\n",
            "반지름을 입력하세요6\n",
            "20.933333333333334\n",
            "원하는 도형을 입력해라.원의 넓이\n",
            "반지름을 입력하세요10\n",
            "314.0\n",
            "원하는 도형을 입력해라.구의 겉넓이\n",
            "반지름을 입력.60\n",
            "778.72\n",
            "원하는 도형을 입력해라.구의 부피\n",
            "구의 부피20\n",
            "96.29333333333334\n"
          ],
          "name": "stdout"
        },
        {
          "output_type": "error",
          "ename": "KeyboardInterrupt",
          "evalue": "ignored",
          "traceback": [
            "\u001b[0;31m---------------------------------------------------------------------------\u001b[0m",
            "\u001b[0;31mKeyboardInterrupt\u001b[0m                         Traceback (most recent call last)",
            "\u001b[0;32m/usr/local/lib/python3.7/dist-packages/ipykernel/kernelbase.py\u001b[0m in \u001b[0;36m_input_request\u001b[0;34m(self, prompt, ident, parent, password)\u001b[0m\n\u001b[1;32m    728\u001b[0m             \u001b[0;32mtry\u001b[0m\u001b[0;34m:\u001b[0m\u001b[0;34m\u001b[0m\u001b[0;34m\u001b[0m\u001b[0m\n\u001b[0;32m--> 729\u001b[0;31m                 \u001b[0mident\u001b[0m\u001b[0;34m,\u001b[0m \u001b[0mreply\u001b[0m \u001b[0;34m=\u001b[0m \u001b[0mself\u001b[0m\u001b[0;34m.\u001b[0m\u001b[0msession\u001b[0m\u001b[0;34m.\u001b[0m\u001b[0mrecv\u001b[0m\u001b[0;34m(\u001b[0m\u001b[0mself\u001b[0m\u001b[0;34m.\u001b[0m\u001b[0mstdin_socket\u001b[0m\u001b[0;34m,\u001b[0m \u001b[0;36m0\u001b[0m\u001b[0;34m)\u001b[0m\u001b[0;34m\u001b[0m\u001b[0;34m\u001b[0m\u001b[0m\n\u001b[0m\u001b[1;32m    730\u001b[0m             \u001b[0;32mexcept\u001b[0m \u001b[0mException\u001b[0m\u001b[0;34m:\u001b[0m\u001b[0;34m\u001b[0m\u001b[0;34m\u001b[0m\u001b[0m\n",
            "\u001b[0;32m/usr/local/lib/python3.7/dist-packages/jupyter_client/session.py\u001b[0m in \u001b[0;36mrecv\u001b[0;34m(self, socket, mode, content, copy)\u001b[0m\n\u001b[1;32m    802\u001b[0m         \u001b[0;32mtry\u001b[0m\u001b[0;34m:\u001b[0m\u001b[0;34m\u001b[0m\u001b[0;34m\u001b[0m\u001b[0m\n\u001b[0;32m--> 803\u001b[0;31m             \u001b[0mmsg_list\u001b[0m \u001b[0;34m=\u001b[0m \u001b[0msocket\u001b[0m\u001b[0;34m.\u001b[0m\u001b[0mrecv_multipart\u001b[0m\u001b[0;34m(\u001b[0m\u001b[0mmode\u001b[0m\u001b[0;34m,\u001b[0m \u001b[0mcopy\u001b[0m\u001b[0;34m=\u001b[0m\u001b[0mcopy\u001b[0m\u001b[0;34m)\u001b[0m\u001b[0;34m\u001b[0m\u001b[0;34m\u001b[0m\u001b[0m\n\u001b[0m\u001b[1;32m    804\u001b[0m         \u001b[0;32mexcept\u001b[0m \u001b[0mzmq\u001b[0m\u001b[0;34m.\u001b[0m\u001b[0mZMQError\u001b[0m \u001b[0;32mas\u001b[0m \u001b[0me\u001b[0m\u001b[0;34m:\u001b[0m\u001b[0;34m\u001b[0m\u001b[0;34m\u001b[0m\u001b[0m\n",
            "\u001b[0;32m/usr/local/lib/python3.7/dist-packages/zmq/sugar/socket.py\u001b[0m in \u001b[0;36mrecv_multipart\u001b[0;34m(self, flags, copy, track)\u001b[0m\n\u001b[1;32m    582\u001b[0m         \"\"\"\n\u001b[0;32m--> 583\u001b[0;31m         \u001b[0mparts\u001b[0m \u001b[0;34m=\u001b[0m \u001b[0;34m[\u001b[0m\u001b[0mself\u001b[0m\u001b[0;34m.\u001b[0m\u001b[0mrecv\u001b[0m\u001b[0;34m(\u001b[0m\u001b[0mflags\u001b[0m\u001b[0;34m,\u001b[0m \u001b[0mcopy\u001b[0m\u001b[0;34m=\u001b[0m\u001b[0mcopy\u001b[0m\u001b[0;34m,\u001b[0m \u001b[0mtrack\u001b[0m\u001b[0;34m=\u001b[0m\u001b[0mtrack\u001b[0m\u001b[0;34m)\u001b[0m\u001b[0;34m]\u001b[0m\u001b[0;34m\u001b[0m\u001b[0;34m\u001b[0m\u001b[0m\n\u001b[0m\u001b[1;32m    584\u001b[0m         \u001b[0;31m# have first part already, only loop while more to receive\u001b[0m\u001b[0;34m\u001b[0m\u001b[0;34m\u001b[0m\u001b[0;34m\u001b[0m\u001b[0m\n",
            "\u001b[0;32mzmq/backend/cython/socket.pyx\u001b[0m in \u001b[0;36mzmq.backend.cython.socket.Socket.recv\u001b[0;34m()\u001b[0m\n",
            "\u001b[0;32mzmq/backend/cython/socket.pyx\u001b[0m in \u001b[0;36mzmq.backend.cython.socket.Socket.recv\u001b[0;34m()\u001b[0m\n",
            "\u001b[0;32mzmq/backend/cython/socket.pyx\u001b[0m in \u001b[0;36mzmq.backend.cython.socket._recv_copy\u001b[0;34m()\u001b[0m\n",
            "\u001b[0;32m/usr/local/lib/python3.7/dist-packages/zmq/backend/cython/checkrc.pxd\u001b[0m in \u001b[0;36mzmq.backend.cython.checkrc._check_rc\u001b[0;34m()\u001b[0m\n",
            "\u001b[0;31mKeyboardInterrupt\u001b[0m: ",
            "\nDuring handling of the above exception, another exception occurred:\n",
            "\u001b[0;31mKeyboardInterrupt\u001b[0m                         Traceback (most recent call last)",
            "\u001b[0;32m<ipython-input-163-bee9a2369f91>\u001b[0m in \u001b[0;36m<module>\u001b[0;34m()\u001b[0m\n\u001b[1;32m     32\u001b[0m \u001b[0;34m\u001b[0m\u001b[0m\n\u001b[1;32m     33\u001b[0m \u001b[0;32mwhile\u001b[0m \u001b[0;32mTrue\u001b[0m\u001b[0;34m:\u001b[0m\u001b[0;34m\u001b[0m\u001b[0;34m\u001b[0m\u001b[0m\n\u001b[0;32m---> 34\u001b[0;31m   \u001b[0mprint\u001b[0m\u001b[0;34m(\u001b[0m\u001b[0ma\u001b[0m\u001b[0;34m(\u001b[0m\u001b[0minput\u001b[0m\u001b[0;34m(\u001b[0m\u001b[0;34m\"원하는 도형을 입력해라.\"\u001b[0m\u001b[0;34m)\u001b[0m\u001b[0;34m)\u001b[0m\u001b[0;34m)\u001b[0m\u001b[0;34m\u001b[0m\u001b[0;34m\u001b[0m\u001b[0m\n\u001b[0m\u001b[1;32m     35\u001b[0m \u001b[0;34m\u001b[0m\u001b[0m\n\u001b[1;32m     36\u001b[0m \u001b[0;34m\u001b[0m\u001b[0m\n",
            "\u001b[0;32m/usr/local/lib/python3.7/dist-packages/ipykernel/kernelbase.py\u001b[0m in \u001b[0;36mraw_input\u001b[0;34m(self, prompt)\u001b[0m\n\u001b[1;32m    702\u001b[0m             \u001b[0mself\u001b[0m\u001b[0;34m.\u001b[0m\u001b[0m_parent_ident\u001b[0m\u001b[0;34m,\u001b[0m\u001b[0;34m\u001b[0m\u001b[0;34m\u001b[0m\u001b[0m\n\u001b[1;32m    703\u001b[0m             \u001b[0mself\u001b[0m\u001b[0;34m.\u001b[0m\u001b[0m_parent_header\u001b[0m\u001b[0;34m,\u001b[0m\u001b[0;34m\u001b[0m\u001b[0;34m\u001b[0m\u001b[0m\n\u001b[0;32m--> 704\u001b[0;31m             \u001b[0mpassword\u001b[0m\u001b[0;34m=\u001b[0m\u001b[0;32mFalse\u001b[0m\u001b[0;34m,\u001b[0m\u001b[0;34m\u001b[0m\u001b[0;34m\u001b[0m\u001b[0m\n\u001b[0m\u001b[1;32m    705\u001b[0m         )\n\u001b[1;32m    706\u001b[0m \u001b[0;34m\u001b[0m\u001b[0m\n",
            "\u001b[0;32m/usr/local/lib/python3.7/dist-packages/ipykernel/kernelbase.py\u001b[0m in \u001b[0;36m_input_request\u001b[0;34m(self, prompt, ident, parent, password)\u001b[0m\n\u001b[1;32m    732\u001b[0m             \u001b[0;32mexcept\u001b[0m \u001b[0mKeyboardInterrupt\u001b[0m\u001b[0;34m:\u001b[0m\u001b[0;34m\u001b[0m\u001b[0;34m\u001b[0m\u001b[0m\n\u001b[1;32m    733\u001b[0m                 \u001b[0;31m# re-raise KeyboardInterrupt, to truncate traceback\u001b[0m\u001b[0;34m\u001b[0m\u001b[0;34m\u001b[0m\u001b[0;34m\u001b[0m\u001b[0m\n\u001b[0;32m--> 734\u001b[0;31m                 \u001b[0;32mraise\u001b[0m \u001b[0mKeyboardInterrupt\u001b[0m\u001b[0;34m\u001b[0m\u001b[0;34m\u001b[0m\u001b[0m\n\u001b[0m\u001b[1;32m    735\u001b[0m             \u001b[0;32melse\u001b[0m\u001b[0;34m:\u001b[0m\u001b[0;34m\u001b[0m\u001b[0;34m\u001b[0m\u001b[0m\n\u001b[1;32m    736\u001b[0m                 \u001b[0;32mbreak\u001b[0m\u001b[0;34m\u001b[0m\u001b[0;34m\u001b[0m\u001b[0m\n",
            "\u001b[0;31mKeyboardInterrupt\u001b[0m: "
          ]
        }
      ]
    }
  ]
}