{
  "nbformat": 4,
  "nbformat_minor": 0,
  "metadata": {
    "colab": {
      "name": "Untitled61.ipynb",
      "provenance": [],
      "authorship_tag": "ABX9TyNSqFu0iBR/obQG8AwwcPTf",
      "include_colab_link": true
    },
    "kernelspec": {
      "name": "python3",
      "display_name": "Python 3"
    },
    "language_info": {
      "name": "python"
    }
  },
  "cells": [
    {
      "cell_type": "markdown",
      "metadata": {
        "id": "view-in-github",
        "colab_type": "text"
      },
      "source": [
        "<a href=\"https://colab.research.google.com/github/rlfwo93/python_basic/blob/main/6week_final.ipynb\" target=\"_parent\"><img src=\"https://colab.research.google.com/assets/colab-badge.svg\" alt=\"Open In Colab\"/></a>"
      ]
    },
    {
      "cell_type": "code",
      "metadata": {
        "colab": {
          "base_uri": "https://localhost:8080/"
        },
        "id": "xKP1VHPiAnKr",
        "outputId": "b52335ac-9dfd-46cc-87b3-7220a319643f"
      },
      "source": [
        "a = int(input(\"점수 입력해라 : \"))\n",
        "\n",
        "if a >=90:\n",
        "  print(\"a+\")\n",
        "elif a>=80:\n",
        "  print(\"a\")\n",
        "elif a>=70:\n",
        "  print(\"b+\")\n",
        "elif a>=60:\n",
        "  print(\"b\")\n",
        "elif a>=50:\n",
        "  print(\"c+\")\n",
        "elif a>=40:\n",
        "  print(\"c\")\n",
        "else:\n",
        "  print(\"F\")"
      ],
      "execution_count": null,
      "outputs": [
        {
          "output_type": "stream",
          "text": [
            "점수 입력해라 : 99\n",
            "a+\n"
          ],
          "name": "stdout"
        }
      ]
    },
    {
      "cell_type": "code",
      "metadata": {
        "colab": {
          "base_uri": "https://localhost:8080/"
        },
        "id": "Rz1jkK6xD3OY",
        "outputId": "255747ee-111c-402d-9015-f8c3512733bd"
      },
      "source": [
        "# 2번\n",
        "\n",
        "x= 10\n",
        "\n",
        "if x ==10:\n",
        "  print(\"x에 들어있는 숫자는\")\n",
        "  print(\"10입니다\")"
      ],
      "execution_count": null,
      "outputs": [
        {
          "output_type": "stream",
          "text": [
            "x에 들어있는 숫자는\n",
            "10입니다\n"
          ],
          "name": "stdout"
        }
      ]
    },
    {
      "cell_type": "code",
      "metadata": {
        "colab": {
          "base_uri": "https://localhost:8080/"
        },
        "id": "YTIPWIheEE_J",
        "outputId": "80aaf27f-47d1-459e-c61c-febc5cd86a40"
      },
      "source": [
        "#3번\n",
        "\n",
        "x= 10\n",
        "if x==10:\n",
        "  print(\"x에 들어있는 숫자는\")\n",
        "  print(\"10입니다\")"
      ],
      "execution_count": null,
      "outputs": [
        {
          "output_type": "stream",
          "text": [
            "x에 들어있는 숫자는\n",
            "10입니다\n"
          ],
          "name": "stdout"
        }
      ]
    },
    {
      "cell_type": "code",
      "metadata": {
        "colab": {
          "base_uri": "https://localhost:8080/"
        },
        "id": "BrCMkZTgEP1S",
        "outputId": "7c3e11f1-3d77-4c70-e0c5-9e12f0d360be"
      },
      "source": [
        "#4번\n",
        "\n",
        "x = 15\n",
        "\n",
        "if x >= 10:\n",
        "  print(\"10 이상입니다.\")\n",
        "\n",
        "  if x == 15:\n",
        "    print(\"15입니다\")\n",
        "  \n",
        "  if x ==20:\n",
        "    print(\"20입니다\")"
      ],
      "execution_count": null,
      "outputs": [
        {
          "output_type": "stream",
          "text": [
            "10 이상입니다.\n",
            "15입니다\n"
          ],
          "name": "stdout"
        }
      ]
    },
    {
      "cell_type": "code",
      "metadata": {
        "colab": {
          "base_uri": "https://localhost:8080/"
        },
        "id": "xe3LKzY3FB_P",
        "outputId": "4806a088-dc93-416b-9c18-cfc545de5240"
      },
      "source": [
        "#5번\n",
        "\n",
        "x = int(input(\"값 입력해라\"))\n",
        "\n",
        "if x ==10:\n",
        "  print(\"10입니다\")\n",
        "if x == 20:\n",
        "  print(\"20입니다\")"
      ],
      "execution_count": null,
      "outputs": [
        {
          "output_type": "stream",
          "text": [
            "값 입력해라10\n",
            "10입니다\n"
          ],
          "name": "stdout"
        }
      ]
    },
    {
      "cell_type": "code",
      "metadata": {
        "colab": {
          "base_uri": "https://localhost:8080/"
        },
        "id": "18hTNa5MEjbO",
        "outputId": "a1f6d466-a611-442d-d359-a88015822169"
      },
      "source": [
        "# 6번\n",
        "\n",
        "x = 10\n",
        "y = 20\n",
        "\n",
        "if x ==10 and y ==20:\n",
        "  print(\"참\")\n",
        "else:\n",
        "  print(\"거짓\")"
      ],
      "execution_count": null,
      "outputs": [
        {
          "output_type": "stream",
          "text": [
            "참\n"
          ],
          "name": "stdout"
        }
      ]
    },
    {
      "cell_type": "code",
      "metadata": {
        "colab": {
          "base_uri": "https://localhost:8080/"
        },
        "id": "u_XGKh1YErYk",
        "outputId": "1f38a079-982c-4a92-f285-5e3ee33c5344"
      },
      "source": [
        "#7번\n",
        "\n",
        "x =10\n",
        "y = 20\n",
        "\n",
        "if x==10 or y==20: \n",
        "\n",
        "    print('참') \n",
        "\n",
        "else: \n",
        "\n",
        "    print('거짓')   "
      ],
      "execution_count": null,
      "outputs": [
        {
          "output_type": "stream",
          "text": [
            "참\n"
          ],
          "name": "stdout"
        }
      ]
    },
    {
      "cell_type": "code",
      "metadata": {
        "colab": {
          "base_uri": "https://localhost:8080/",
          "height": 136
        },
        "id": "V1ABom-gFPQC",
        "outputId": "067cf57c-b3e9-467f-8a1b-327c4d556ea8"
      },
      "source": [
        "#8번\n",
        "\n",
        "x = 10\n",
        "y = 20\n",
        "\n",
        "if x==10: \n",
        "\n",
        "    print('10 입니다') \n",
        "\n",
        "else: \n",
        "\n",
        "    print('10도 20도 아닙니다')   \n",
        "\n",
        "elif x==20: \n",
        "\n",
        "    print('20 입니다') "
      ],
      "execution_count": null,
      "outputs": [
        {
          "output_type": "error",
          "ename": "SyntaxError",
          "evalue": "ignored",
          "traceback": [
            "\u001b[0;36m  File \u001b[0;32m\"<ipython-input-16-b111ffea0ae3>\"\u001b[0;36m, line \u001b[0;32m12\u001b[0m\n\u001b[0;31m    elif x==20:\u001b[0m\n\u001b[0m       ^\u001b[0m\n\u001b[0;31mSyntaxError\u001b[0m\u001b[0;31m:\u001b[0m invalid syntax\n"
          ]
        }
      ]
    },
    {
      "cell_type": "code",
      "metadata": {
        "colab": {
          "base_uri": "https://localhost:8080/"
        },
        "id": "iBHzYJkYFo03",
        "outputId": "0804c759-5735-4700-a66b-b1ec14dc8574"
      },
      "source": [
        "#9번\n",
        "x = 10\n",
        "y = 20\n",
        "\n",
        "if x==10: \n",
        "    print('10 입니다')    \n",
        "\n",
        "elif x==20: \n",
        "    print('20 입니다') \n",
        "\n",
        "else: \n",
        "    print('10도 20도 아닙니다')"
      ],
      "execution_count": null,
      "outputs": [
        {
          "output_type": "stream",
          "text": [
            "10 입니다\n"
          ],
          "name": "stdout"
        }
      ]
    },
    {
      "cell_type": "code",
      "metadata": {
        "colab": {
          "base_uri": "https://localhost:8080/",
          "height": 136
        },
        "id": "-hpvsI9DF0eK",
        "outputId": "448e1d47-28e9-4ae2-be91-427802cffcb0"
      },
      "source": [
        "#10번\n",
        "\n",
        "x = 10\n",
        "y = 20\n",
        "\n",
        "if x==10: \n",
        "\n",
        "    print('10 입니다') \n",
        "\n",
        "else x==20: \n",
        "    print('10도 20도 아닙니다')   \n",
        "\n",
        "elif : \n",
        "    print('20 입니다') "
      ],
      "execution_count": null,
      "outputs": [
        {
          "output_type": "error",
          "ename": "SyntaxError",
          "evalue": "ignored",
          "traceback": [
            "\u001b[0;36m  File \u001b[0;32m\"<ipython-input-19-dc2bb537fbb3>\"\u001b[0;36m, line \u001b[0;32m10\u001b[0m\n\u001b[0;31m    else x==20:\u001b[0m\n\u001b[0m         ^\u001b[0m\n\u001b[0;31mSyntaxError\u001b[0m\u001b[0;31m:\u001b[0m invalid syntax\n"
          ]
        }
      ]
    },
    {
      "cell_type": "code",
      "metadata": {
        "colab": {
          "base_uri": "https://localhost:8080/"
        },
        "id": "eJ1u6baaGEfg",
        "outputId": "4fa2bf4d-c7eb-4f08-d715-65793456c092"
      },
      "source": [
        "#11번\n",
        "\n",
        "x = 10\n",
        "y = 20\n",
        "\n",
        "if x==10: \n",
        "\n",
        "    print('10 입니다') \n",
        "\n",
        "elif x==20: \n",
        "    print('10도 20도 아닙니다')   \n",
        "\n",
        "else : \n",
        "    print('20 입니다') "
      ],
      "execution_count": null,
      "outputs": [
        {
          "output_type": "stream",
          "text": [
            "10 입니다\n"
          ],
          "name": "stdout"
        }
      ]
    },
    {
      "cell_type": "code",
      "metadata": {
        "colab": {
          "base_uri": "https://localhost:8080/"
        },
        "id": "Phah0VsZGNV6",
        "outputId": "18edbf06-7242-48c1-fbcc-dc19203abde4"
      },
      "source": [
        "# 12번 \n",
        "\n",
        "a=int(input('20아래의 수를 압력하세요')) \n",
        "\n",
        "if a>20: \n",
        "     print('20보다 크군요') \n",
        "\n",
        "else: \n",
        "    print('20보다 작군요') \n"
      ],
      "execution_count": null,
      "outputs": [
        {
          "output_type": "stream",
          "text": [
            "20아래의 수를 압력하세요15\n",
            "20보다 작군요\n"
          ],
          "name": "stdout"
        }
      ]
    },
    {
      "cell_type": "code",
      "metadata": {
        "colab": {
          "base_uri": "https://localhost:8080/"
        },
        "id": "1Vwl2xnSGZH_",
        "outputId": "8e5a3965-7670-4e49-91ea-e824932c25b7"
      },
      "source": [
        "# 13번\n",
        "\n",
        "a=int(input('a 값을 20아래의 수를 압력하세요')) \n",
        "b=int(input('b 값을 20아래의 수를 압력하세요')) \n",
        "\n",
        "if a>b: \n",
        "\n",
        "     print('a가 더 큰값이군요') \n",
        "\n",
        "elif a<b: \n",
        "\n",
        "    print('b가 더 큰값이군요') \n",
        "\n",
        "else: \n",
        "\n",
        "    print('a와b가 같은 값이군요') "
      ],
      "execution_count": null,
      "outputs": [
        {
          "output_type": "stream",
          "text": [
            "a 값을 20아래의 수를 압력하세요15\n",
            "b 값을 20아래의 수를 압력하세요17\n",
            "b가 더 큰값이군요\n"
          ],
          "name": "stdout"
        }
      ]
    },
    {
      "cell_type": "code",
      "metadata": {
        "colab": {
          "base_uri": "https://localhost:8080/"
        },
        "id": "s1LN8GjDGyJD",
        "outputId": "d079a543-f512-40f4-8209-cd6639be820f"
      },
      "source": [
        "# 14번\n",
        "\n",
        "a= input(\"값 입력:\").split(\" \")\n",
        "\n",
        "int(a[0])\n",
        "int(a[1])\n",
        "\n",
        "if a[0]>a[1]: \n",
        "\n",
        "     print('a가 더 큰값이군요') \n",
        "\n",
        "elif a[0]<a[1]: \n",
        "\n",
        "    print('b가 더 큰값이군요') \n",
        "\n",
        "else: \n",
        "\n",
        "    print('a와b가 같은 값이군요') "
      ],
      "execution_count": null,
      "outputs": [
        {
          "output_type": "stream",
          "text": [
            "값 입력:10 20\n",
            "b가 더 큰값이군요\n"
          ],
          "name": "stdout"
        }
      ]
    },
    {
      "cell_type": "code",
      "metadata": {
        "colab": {
          "base_uri": "https://localhost:8080/"
        },
        "id": "sF2NTEDFHS13",
        "outputId": "1f840138-7604-4e4e-a89e-728e4bcd51bf"
      },
      "source": [
        "# 15번\n",
        "\n",
        "a,b= map(int,input(\"값을 입력해라 :\").split(\" \"))\n",
        "\n",
        "\n",
        "\n",
        "if a>b: \n",
        "\n",
        "     print('a가 더 큰값이군요') \n",
        "\n",
        "elif a<b: \n",
        "\n",
        "    print('b가 더 큰값이군요') \n",
        "\n",
        "else: \n",
        "\n",
        "    print('a와b가 같은 값이군요') "
      ],
      "execution_count": null,
      "outputs": [
        {
          "output_type": "stream",
          "text": [
            "값을 입력해라 :10 20\n",
            "b가 더 큰값이군요\n"
          ],
          "name": "stdout"
        }
      ]
    },
    {
      "cell_type": "code",
      "metadata": {
        "colab": {
          "base_uri": "https://localhost:8080/"
        },
        "id": "WanyN-9sHvMT",
        "outputId": "822351aa-cc38-4f66-9e71-5ef8944dbbc5"
      },
      "source": [
        "# 16번 \n",
        "\n",
        "a=int(input('a 값을 20아래의 수를 압력하세요'))\n",
        "\n",
        "b=int(input('b 값을 20아래의 수를 압력하세요')) \n",
        "\n",
        "\n",
        "if a<20 and b<20: \n",
        "\n",
        "    print('a와 b 둘다 20보다 작은 값이군요') \n",
        "\n",
        "    if a<b: \n",
        "\n",
        "        print('b가 더 큰값이군요') \n",
        "\n",
        "    else: \n",
        "\n",
        "        print('a가 더 큰값이군요') \n",
        "\n",
        " \n",
        "\n",
        "elif a>20 and b>20: \n",
        "\n",
        "    print('a와b 모두 20보다 큰 값이군요') \n",
        "\n",
        " \n",
        "\n",
        "else: \n",
        "\n",
        "    print(\"a와b 둘중 하나는 20보다 큰 값이군요\") "
      ],
      "execution_count": null,
      "outputs": [
        {
          "output_type": "stream",
          "text": [
            "a 값을 20아래의 수를 압력하세요10\n",
            "b 값을 20아래의 수를 압력하세요20\n",
            "a와b 둘중 하나는 20보다 큰 값이군요\n"
          ],
          "name": "stdout"
        }
      ]
    },
    {
      "cell_type": "code",
      "metadata": {
        "colab": {
          "base_uri": "https://localhost:8080/"
        },
        "id": "Ou0C7dfBId1t",
        "outputId": "7c3b4db5-a813-44eb-eb6a-c0071f607b4f"
      },
      "source": [
        "#17번 \n",
        "x=int(input(\"값 입력 : \"))\n",
        "\n",
        "if x>=11 and x<=20:\n",
        "  print(\"11~20\")\n",
        "elif x>=21 and x<=30:\n",
        "  print(\"21~30\")\n",
        "else:\n",
        "  print(\"아무것도 해당 ㄴ\")"
      ],
      "execution_count": null,
      "outputs": [
        {
          "output_type": "stream",
          "text": [
            "값 입력 : 21\n",
            "21~30\n"
          ],
          "name": "stdout"
        }
      ]
    },
    {
      "cell_type": "code",
      "metadata": {
        "colab": {
          "base_uri": "https://localhost:8080/"
        },
        "id": "gSgd5GPHJEEl",
        "outputId": "4073207f-a06a-4c77-e379-0916070837b2"
      },
      "source": [
        "#18번 \n",
        "x=int(input(\"값 입력 : \"))\n",
        "\n",
        "if x%2==0:\n",
        "  print(\"짝수\")\n",
        "else :\n",
        "  print(\"홀수\")\n",
        "  "
      ],
      "execution_count": null,
      "outputs": [
        {
          "output_type": "stream",
          "text": [
            "값 입력 : 5\n",
            "홀수\n"
          ],
          "name": "stdout"
        }
      ]
    },
    {
      "cell_type": "code",
      "metadata": {
        "colab": {
          "base_uri": "https://localhost:8080/"
        },
        "id": "U59SxFGYJMsC",
        "outputId": "99adf56f-ef9f-4658-8242-0ab85fb901b9"
      },
      "source": [
        "#19번 \n",
        "x=int(input(\"값 입력 : \"))\n",
        "\n",
        "if x%3==0:\n",
        "  print(\"3의배수\")\n",
        "elif x%7==0 :\n",
        "  print(\"7의 배슈\")\n",
        "  "
      ],
      "execution_count": null,
      "outputs": [
        {
          "output_type": "stream",
          "text": [
            "값 입력 : 14\n",
            "7의 배슈\n"
          ],
          "name": "stdout"
        }
      ]
    },
    {
      "cell_type": "code",
      "metadata": {
        "id": "8q4gDrS8lAPN",
        "outputId": "3efc0ab6-ffe8-4bcb-9caa-bbe326dae35a",
        "colab": {
          "base_uri": "https://localhost:8080/"
        }
      },
      "source": [
        "#20번\n",
        "\n",
        "a,b = map(int,input(\"a,b를 입력하세요 : \").split(\" \"))\n",
        "\n",
        "if a>b : \n",
        "  print(\"a = {0}, b = {1} 따라서 a가 더 큽니다\".format(a,b))\n",
        "else:\n",
        "  print(\"a = {0}, b = {1} 따라서 b가 더 큽니다\".format(a,b))"
      ],
      "execution_count": 3,
      "outputs": [
        {
          "output_type": "stream",
          "text": [
            "a,b를 입력하세요 : 6 5\n",
            "a = 6, b = 5 따라서 a가 더 큽니다\n"
          ],
          "name": "stdout"
        }
      ]
    },
    {
      "cell_type": "code",
      "metadata": {
        "id": "cUBWrjBNmA9H",
        "outputId": "66b5ef48-ad30-452d-b119-89c4fe9e0be8",
        "colab": {
          "base_uri": "https://localhost:8080/"
        }
      },
      "source": [
        "#21번\n",
        "\n",
        "a = int(input(\"달을 입력하시오 : \"))\n",
        "\n",
        "winter = [12,1,2,3]\n",
        "summer = [6,7,8,9]\n",
        "autumn = [10,11,12]\n",
        "spring = [4,5,6]\n",
        "\n",
        "\n",
        "if a in winter:\n",
        "  print(\"겨울입니다\")\n",
        "elif  a in summer:\n",
        "  print(\"여름입니다.\")\n",
        "elif a in autumn:\n",
        "  print(\"가을입니다\")\n",
        "elif a in spring:\n",
        "  print(\"봄입니다\")"
      ],
      "execution_count": 12,
      "outputs": [
        {
          "output_type": "stream",
          "text": [
            "달을 입력하시오 : 4\n",
            "봄입니다\n"
          ],
          "name": "stdout"
        }
      ]
    },
    {
      "cell_type": "code",
      "metadata": {
        "id": "1bqeY-wsn4r5",
        "outputId": "ce2192b1-7bac-4668-c15e-efc32aa16084",
        "colab": {
          "base_uri": "https://localhost:8080/"
        }
      },
      "source": [
        "# 22번 \n",
        "\n",
        "writer,toeic =  map(int,input(\"필기시험과 토익점수를 입력하세요.\").split(\",\"))\n",
        "\n",
        "if writer >=80 and toeic >= 750:\n",
        "  print(\"합격입니다.\")\n",
        "else:\n",
        "  print(\"불합격입니다.\")"
      ],
      "execution_count": 11,
      "outputs": [
        {
          "output_type": "stream",
          "text": [
            "필기시험과 토익점수를 입력하세요.80,749\n",
            "불합격입니다.\n"
          ],
          "name": "stdout"
        }
      ]
    },
    {
      "cell_type": "code",
      "metadata": {
        "id": "YMHxtlviozPI",
        "outputId": "70a0e703-47bb-47f6-a4d7-5e9d493c4824",
        "colab": {
          "base_uri": "https://localhost:8080/"
        }
      },
      "source": [
        "# 23번 \n",
        "\n",
        "\n",
        "print(\"봉사시간 30시간과 학점 30점을 이수하면 장학금을 받을 수 있습니다.\")\n",
        "\n",
        "a,b = map(int,input(\"봉사시간과, 학점을 입력하세요 : \").split(\",\"))\n",
        "\n",
        "if a>=30 and b>=30 :\n",
        "  print(\"장학금을 받을 수 있습니다\")\n",
        "\n",
        "elif a>=30 and b<=30:\n",
        "  print(\"학점이 부족하여 장학금을 받을 수 없습니다.\")\n",
        "\n",
        "elif a<=30 and b>=30:\n",
        "  print(\"봉사시간이 부족하여 장학금을 받을 수 없습니다.\")\n",
        "\n",
        "else:\n",
        "  print(\"봉사시간과 학점이 부족하여 장학금을 받을 수 없습니다.\")\n",
        "\n",
        "\n",
        "\n"
      ],
      "execution_count": 18,
      "outputs": [
        {
          "output_type": "stream",
          "text": [
            "봉사시간 30시간과 학점 30점을 이수하면 장학금을 받을 수 있습니다.\n",
            "봉사시간과, 학점을 입력하세요 : 30,20\n",
            "학점이 부족하여 장학금을 받을 수 없습니다.\n"
          ],
          "name": "stdout"
        }
      ]
    },
    {
      "cell_type": "code",
      "metadata": {
        "id": "nxBmtDSm1s3n",
        "outputId": "0b8eb3d4-610a-4f3a-802b-cb2b11191618",
        "colab": {
          "base_uri": "https://localhost:8080/"
        }
      },
      "source": [
        "#24\n",
        "\n",
        "count = 0\n",
        "a,b,c = input(\"각각의 키트 결과를 입력하세요 : \").split(\",\")\n",
        "\n",
        "if a==\"양성\":\n",
        "    count+=1\n",
        "\n",
        "if b==\"양성\" :\n",
        "  count +=1\n",
        "\n",
        "if c==\"양성\" :\n",
        "  count +=1\n",
        "\n",
        "\n",
        "if count ==3:\n",
        "  print(\"코로나 감염 입니다 격리해주세요\")\n",
        "elif count ==2:\n",
        "  print(\"자가격리 하시고, 제 검사 실시해 주세요\")\n",
        "else:\n",
        "  print(\"코로나에 걸리지 않으셨습니다\")"
      ],
      "execution_count": 25,
      "outputs": [
        {
          "output_type": "stream",
          "text": [
            "각각의 키트 결과를 입력하세요 : 음성,양성,양성\n",
            "자가격리 하시고, 제 검사 실시해 주세요\n"
          ],
          "name": "stdout"
        }
      ]
    }
  ]
}