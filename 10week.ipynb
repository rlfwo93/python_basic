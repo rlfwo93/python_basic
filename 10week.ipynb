{
  "nbformat": 4,
  "nbformat_minor": 0,
  "metadata": {
    "colab": {
      "name": "Untitled68.ipynb",
      "provenance": [],
      "authorship_tag": "ABX9TyPNr0L2/DflTep/xdWVmSco",
      "include_colab_link": true
    },
    "kernelspec": {
      "name": "python3",
      "display_name": "Python 3"
    },
    "language_info": {
      "name": "python"
    }
  },
  "cells": [
    {
      "cell_type": "markdown",
      "metadata": {
        "id": "view-in-github",
        "colab_type": "text"
      },
      "source": [
        "<a href=\"https://colab.research.google.com/github/rlfwo93/python_basic/blob/main/10week.ipynb\" target=\"_parent\"><img src=\"https://colab.research.google.com/assets/colab-badge.svg\" alt=\"Open In Colab\"/></a>"
      ]
    },
    {
      "cell_type": "code",
      "metadata": {
        "colab": {
          "base_uri": "https://localhost:8080/"
        },
        "id": "xVpCodH9kJgI",
        "outputId": "e6fa33de-9d2f-4f46-e0d8-68af83b62bcd"
      },
      "source": [
        "# 1\n",
        "\n",
        "a = list(range(10))\n",
        "a"
      ],
      "execution_count": 1,
      "outputs": [
        {
          "output_type": "execute_result",
          "data": {
            "text/plain": [
              "[0, 1, 2, 3, 4, 5, 6, 7, 8, 9]"
            ]
          },
          "metadata": {
            "tags": []
          },
          "execution_count": 1
        }
      ]
    },
    {
      "cell_type": "code",
      "metadata": {
        "colab": {
          "base_uri": "https://localhost:8080/"
        },
        "id": "CgZudUWXfNQd",
        "outputId": "a9546b96-3b1a-4c8c-85f3-83989294f7ba"
      },
      "source": [
        "# 2 \n",
        "\n",
        "b = list(range(10,0,-1))\n",
        "b"
      ],
      "execution_count": 3,
      "outputs": [
        {
          "output_type": "execute_result",
          "data": {
            "text/plain": [
              "[10, 9, 8, 7, 6, 5, 4, 3, 2, 1]"
            ]
          },
          "metadata": {
            "tags": []
          },
          "execution_count": 3
        }
      ]
    },
    {
      "cell_type": "code",
      "metadata": {
        "colab": {
          "base_uri": "https://localhost:8080/"
        },
        "id": "HiPZDaCYkTIF",
        "outputId": "1c2d2efe-a8a6-435f-b831-7d54147e30f9"
      },
      "source": [
        "# 3\n",
        "\n",
        "c = list(range(5, 12))\n",
        "c"
      ],
      "execution_count": 5,
      "outputs": [
        {
          "output_type": "execute_result",
          "data": {
            "text/plain": [
              "[5, 6, 7, 8, 9, 10, 11]"
            ]
          },
          "metadata": {
            "tags": []
          },
          "execution_count": 5
        }
      ]
    },
    {
      "cell_type": "code",
      "metadata": {
        "colab": {
          "base_uri": "https://localhost:8080/"
        },
        "id": "1YvNxTVnkViQ",
        "outputId": "56a5c684-a227-461a-b2a1-ddc8c72a8f3a"
      },
      "source": [
        "# 4\n",
        "a = [38, 21, 53, 62, 19]\n",
        "\n",
        "print(\"a[0] = {0}\".format(a[0]))\n",
        "print(\"a[2] = {0}\".format(a[2]))\n",
        "print(\"a[4] = {0}\".format(a[4]))\n"
      ],
      "execution_count": 7,
      "outputs": [
        {
          "output_type": "stream",
          "text": [
            "a[0] = 38\n",
            "a[2] = 53\n",
            "a[4] = 19\n"
          ],
          "name": "stdout"
        }
      ]
    },
    {
      "cell_type": "code",
      "metadata": {
        "colab": {
          "base_uri": "https://localhost:8080/"
        },
        "id": "9bE1Wkchkzxo",
        "outputId": "042575ff-76df-4303-ed76-1cf4e90c7ed2"
      },
      "source": [
        "# 5\n",
        "\n",
        "a = [0, 0, 0, 0, 0]\n",
        "\n",
        "a[0] = 38\n",
        "a[1] = 21\n",
        "a[2] = 53\n",
        "a[3] = 62\n",
        "a[4] = 19\n",
        "\n",
        "\n",
        "a"
      ],
      "execution_count": 10,
      "outputs": [
        {
          "output_type": "execute_result",
          "data": {
            "text/plain": [
              "[38, 21, 53, 62, 19]"
            ]
          },
          "metadata": {
            "tags": []
          },
          "execution_count": 10
        }
      ]
    },
    {
      "cell_type": "code",
      "metadata": {
        "colab": {
          "base_uri": "https://localhost:8080/"
        },
        "id": "jY8ShAkqk9qx",
        "outputId": "6ba63b06-f229-445c-d459-ffb56b8b6e96"
      },
      "source": [
        "# 6\n",
        "\n",
        "a = [0, 10, 20, 30, 40, 50, 60, 70, 80, 90] \n",
        "\n",
        "print(\"a[0:4] = {0}\".format(a[0:4]))\n",
        "print(\"a[0:10] = {0}\".format(a[0:10]))\n",
        "print(\"a[:7] = {0}\".format(a[:7] ))\n",
        "print(\"a[7:] = {0}\".format(a[7:] ))\n",
        "print(\"a[:]  = {0}\".format(a[:]))\n",
        "print(\"a[1:1]  = {0}\".format(a[1:1]))\n",
        "print(\"a[4:7]  = {0}\".format(a[4:7]))\n",
        "print(\"a[4:-1],  = {0}\".format(a[4:-1],))\n",
        "print(\"a[0:len(a)] = {0}\".format(a[0:len(a)]))\n",
        "print(\"a[:len(a)] = {0}\".format(a[:len(a)]))\n"
      ],
      "execution_count": 24,
      "outputs": [
        {
          "output_type": "stream",
          "text": [
            "a[0:4] = [0, 10, 20, 30]\n",
            "a[0:10] = [0, 10, 20, 30, 40, 50, 60, 70, 80, 90]\n",
            "a[:7] = [0, 10, 20, 30, 40, 50, 60]\n",
            "a[7:] = [70, 80, 90]\n",
            "a[:]  = [0, 10, 20, 30, 40, 50, 60, 70, 80, 90]\n",
            "a[1:1]  = []\n",
            "a[4:7]  = [40, 50, 60]\n",
            "a[4:-1],  = [40, 50, 60, 70, 80]\n",
            "a[0:len(a)] = [0, 10, 20, 30, 40, 50, 60, 70, 80, 90]\n",
            "a[:len(a)] = [0, 10, 20, 30, 40, 50, 60, 70, 80, 90]\n"
          ],
          "name": "stdout"
        }
      ]
    },
    {
      "cell_type": "code",
      "metadata": {
        "colab": {
          "base_uri": "https://localhost:8080/"
        },
        "id": "kC1eZdTFmQ1l",
        "outputId": "d7151fd6-c268-4a2a-aaa8-e57e88d1f3b8"
      },
      "source": [
        "# 7\n",
        "\n",
        "# pop, del , remove, index count reverse() len, sort , sorted clear()\n",
        "\n",
        "a = [0,10,20,30,40,50,60,70,80,90,20,30,20]\n",
        "\n",
        "print(a.pop())\n",
        "del a[0:2]\n",
        "print(a)\n",
        "\n",
        "print(a.index(30))\n",
        "print(a.count(20))\n",
        "a.reverse()\n",
        "print(a)\n",
        "print(len(a))\n",
        "a.sort()\n",
        "a\n",
        "a.clear()\n",
        "a"
      ],
      "execution_count": 44,
      "outputs": [
        {
          "output_type": "stream",
          "text": [
            "20\n",
            "[20, 30, 40, 50, 60, 70, 80, 90, 20, 30]\n",
            "1\n",
            "2\n",
            "[30, 20, 90, 80, 70, 60, 50, 40, 30, 20]\n",
            "10\n"
          ],
          "name": "stdout"
        },
        {
          "output_type": "execute_result",
          "data": {
            "text/plain": [
              "[]"
            ]
          },
          "metadata": {
            "tags": []
          },
          "execution_count": 44
        }
      ]
    },
    {
      "cell_type": "code",
      "metadata": {
        "colab": {
          "base_uri": "https://localhost:8080/"
        },
        "id": "YapmjcgioLmL",
        "outputId": "bb51560e-98ea-4058-ce33-dece338c7271"
      },
      "source": [
        "# 8 \n",
        "a = [0, 1, 2, 3, 4, 5, 6, 7, 8, 9]\n",
        "b =[]\n",
        "for i in a:\n",
        "  if i !=0 and i % 3 == 0 :\n",
        "    b.append(i)\n",
        "b"
      ],
      "execution_count": 47,
      "outputs": [
        {
          "output_type": "execute_result",
          "data": {
            "text/plain": [
              "[3, 6, 9]"
            ]
          },
          "metadata": {
            "tags": []
          },
          "execution_count": 47
        }
      ]
    },
    {
      "cell_type": "code",
      "metadata": {
        "colab": {
          "base_uri": "https://localhost:8080/"
        },
        "id": "zaPNyP5QoX0D",
        "outputId": "41859314-436d-4a38-dbbf-3facd931b996"
      },
      "source": [
        "# 9 \n",
        "a = [0, 1, 2, 3, 4, 5, 6, 7, 8, 9]\n",
        "b = []\n",
        "\n",
        "for i in a:\n",
        "  if i!=0 and i%2==0:\n",
        "    b.append(i)\n",
        "\n",
        "print(b)"
      ],
      "execution_count": 49,
      "outputs": [
        {
          "output_type": "stream",
          "text": [
            "[2, 4, 6, 8]\n"
          ],
          "name": "stdout"
        }
      ]
    },
    {
      "cell_type": "code",
      "metadata": {
        "colab": {
          "base_uri": "https://localhost:8080/"
        },
        "id": "NXUXD17Io0jO",
        "outputId": "d550a843-d534-4ccf-b166-0b3312a43437"
      },
      "source": [
        "# 10\n",
        "\n",
        "a = []\n",
        "\n",
        "for i in range(1,51):\n",
        "  if i%7==0:\n",
        "    a.append(i)\n",
        "print(a)"
      ],
      "execution_count": 50,
      "outputs": [
        {
          "output_type": "stream",
          "text": [
            "[7, 14, 21, 28, 35, 42, 49]\n"
          ],
          "name": "stdout"
        }
      ]
    },
    {
      "cell_type": "markdown",
      "metadata": {
        "id": "BBTlls0fqbPw"
      },
      "source": [
        "#  11) 각 칸에 알맞은 답을 입력하세요.[각 5점] \n",
        "\n",
        "a=[38,21,53,62,19] \n",
        "\n",
        "for i in a: \n",
        "\n",
        "    print(i) "
      ]
    },
    {
      "cell_type": "markdown",
      "metadata": {
        "id": "Goua2b5aqinE"
      },
      "source": [
        "\n",
        "i=38 \n",
        " print(   38        )= \n",
        "\n",
        "i=21 \n",
        "\n",
        "  print(      21       )= \n",
        "\n",
        "i=53 \n",
        "\n",
        "  print(        53     )= \n",
        "\n",
        "i=62 \n",
        "\n",
        "  print(        62     )= \n",
        "\n",
        "i=19 \n",
        "\n",
        "  print(       19      )= \n",
        "\n"
      ]
    },
    {
      "cell_type": "markdown",
      "metadata": {
        "id": "8_zMfXjtqotL"
      },
      "source": [
        " \n",
        "\n",
        "a=[38,21,53,62,19] \n",
        "\n",
        "for i in range(len(a)): \n",
        "\n",
        "    print(a[i]) "
      ]
    },
    {
      "cell_type": "markdown",
      "metadata": {
        "id": "rweiNCeGqp82"
      },
      "source": [
        "\n",
        "i=0 \n",
        "\n",
        "  print(    38        )= \n",
        "\n",
        "i=1 \n",
        "\n",
        "  print(   21         )= \n",
        "\n",
        "i=2 \n",
        "\n",
        "  print(     53       )= \n",
        "\n",
        "i=3 \n",
        "\n",
        "  print(   62         )= \n",
        "\n",
        "i=4 \n",
        "\n",
        "  print(    19        )= \n",
        "\n"
      ]
    },
    {
      "cell_type": "code",
      "metadata": {
        "colab": {
          "base_uri": "https://localhost:8080/"
        },
        "id": "WVtEgN2BqsIz",
        "outputId": "859707c8-5f8a-4937-8859-e419de1a9b35"
      },
      "source": [
        "# 11\n",
        "\n",
        "a= [0,1,2,3,4,5]\n",
        "\n",
        "for i in a :\n",
        "  print(i)"
      ],
      "execution_count": 51,
      "outputs": [
        {
          "output_type": "stream",
          "text": [
            "0\n",
            "1\n",
            "2\n",
            "3\n",
            "4\n",
            "5\n"
          ],
          "name": "stdout"
        }
      ]
    },
    {
      "cell_type": "code",
      "metadata": {
        "colab": {
          "base_uri": "https://localhost:8080/"
        },
        "id": "LY_RfCNOq1bO",
        "outputId": "da9c68e4-2a06-4233-d8b5-d14915fce137"
      },
      "source": [
        "# 12\n",
        "\n",
        "a= [0,1,2,3,4,5]\n",
        "count = 0\n",
        "\n",
        "while count < len(a):\n",
        "  print(a[count])\n",
        "  count+=1"
      ],
      "execution_count": 63,
      "outputs": [
        {
          "output_type": "stream",
          "text": [
            "0\n",
            "1\n",
            "2\n",
            "3\n",
            "4\n",
            "5\n"
          ],
          "name": "stdout"
        }
      ]
    }
  ]
}