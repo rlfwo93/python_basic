{
  "nbformat": 4,
  "nbformat_minor": 0,
  "metadata": {
    "colab": {
      "name": "Untitled55.ipynb",
      "provenance": [],
      "collapsed_sections": [],
      "authorship_tag": "ABX9TyNvdX4eN9RL2c1yg80Zmj92",
      "include_colab_link": true
    },
    "kernelspec": {
      "name": "python3",
      "display_name": "Python 3"
    },
    "language_info": {
      "name": "python"
    }
  },
  "cells": [
    {
      "cell_type": "markdown",
      "metadata": {
        "id": "view-in-github",
        "colab_type": "text"
      },
      "source": [
        "<a href=\"https://colab.research.google.com/github/rlfwo93/python_basic/blob/main/Untitled55.ipynb\" target=\"_parent\"><img src=\"https://colab.research.google.com/assets/colab-badge.svg\" alt=\"Open In Colab\"/></a>"
      ]
    },
    {
      "cell_type": "code",
      "metadata": {
        "id": "xsRzpnmq5mSk",
        "colab": {
          "base_uri": "https://localhost:8080/"
        },
        "outputId": "c7ca6474-327a-4ec8-e849-01f27a2bfe34"
      },
      "source": [
        "a=36\n",
        "b= 6\n",
        "print(\"a//b = {0}\".format(a//b))\n",
        "print(\"a%b = {0}\".format(a%b))\n",
        "print(\"a**b = {0}\".format(a**b))"
      ],
      "execution_count": 4,
      "outputs": [
        {
          "output_type": "stream",
          "text": [
            "a//b = 6\n",
            "a%b = 0\n",
            "a**b = 2176782336\n"
          ],
          "name": "stdout"
        }
      ]
    },
    {
      "cell_type": "code",
      "metadata": {
        "colab": {
          "base_uri": "https://localhost:8080/"
        },
        "id": "ByqssMy_8SLa",
        "outputId": "59239d43-0e68-4ccf-ff7b-73e087f98bfe"
      },
      "source": [
        "print(a <7 and b ==7)\n",
        "print(a==5 or b == 7)\n",
        "print(a!=3)"
      ],
      "execution_count": 8,
      "outputs": [
        {
          "output_type": "stream",
          "text": [
            "False\n",
            "False\n",
            "True\n"
          ],
          "name": "stdout"
        }
      ]
    },
    {
      "cell_type": "code",
      "metadata": {
        "colab": {
          "base_uri": "https://localhost:8080/"
        },
        "id": "sRuOKeiS8qfE",
        "outputId": "ecd63302-c718-4798-da95-390b05da968b"
      },
      "source": [
        "item = int(input(\"물건 값\"))\n",
        "mon1000 = int(input(\"1000원 넣어라 : \"))\n",
        "mon500 = int(input(\"500원 넣어라 : \"))\n",
        "mon100 = int(input(\"100원 넣어라 : \"))\n",
        "sum1 = ((mon1000*1000)+(mon500*500)+(mon100*100))- item\n",
        "a1000 = sum1//1000\n",
        "na= sum1%1000\n",
        "\n",
        "a500 = na // 500\n",
        "na1 = na %100\n",
        "\n",
        "a100 = na1 //100\n",
        "na2 = na1 %100\n",
        "\n",
        "if sum1<0:\n",
        "  print(\"돈 모지람\")\n",
        "\n",
        "else:\n",
        "  \n",
        "  print(\"잔돈은 = {0}원 입니다\".format(sum1))\n",
        "  print(\"천원은 {0}10장, 500원은 {1}개, 100원은{2}개  입니다.\".format(a1000,a500,a100))\n",
        "\n",
        "\n",
        "\n"
      ],
      "execution_count": 23,
      "outputs": [
        {
          "output_type": "stream",
          "text": [
            "물건 값9000\n",
            "1000원 넣어라 : 9\n",
            "500원 넣어라 : 5\n",
            "100원 넣어라 : 1\n",
            "잔돈은 = 2600원 입니다\n",
            "천원은 2장, 500원은 1개, 100원은0개  입니다.\n"
          ],
          "name": "stdout"
        }
      ]
    },
    {
      "cell_type": "code",
      "metadata": {
        "id": "MlwPWbPuBnwr"
      },
      "source": [
        "def ch_menu(menu):\n",
        "  if menu ==1:\n",
        "    to +=1500\n",
        "  elif menu ==2:\n",
        "    to += 3000\n",
        "  elif menu ==3:\n",
        "    to += 3500\n",
        "  elif\n",
        "\n",
        "\n",
        "while True :\n",
        "  menu = int(input(\"\"\"\n",
        "  1.커피 1500원\n",
        "  2.카페모카 3000원\n",
        "  3.라떄 3500원\n",
        "  4.치즈케익 4500원 이다.\"\"\"))\n",
        "  if menu<=4\n",
        "  "
      ],
      "execution_count": null,
      "outputs": []
    },
    {
      "cell_type": "code",
      "metadata": {
        "colab": {
          "base_uri": "https://localhost:8080/"
        },
        "id": "zmz-ygflCLfY",
        "outputId": "387392ad-da4a-4b55-942c-c4cb05aca023"
      },
      "source": [
        "to_sum =0\n",
        "cof_sum=0\n",
        "ra_sum=0\n",
        "ch_sum=0\n",
        "\n",
        "print(\"반갑습니다 커피숍입니다\")\n",
        "print(\"커피 1500원, 라뗴 3500원, 치즈케익 5000원 입니다\")\n",
        "cof = int(input(\"몇잔 주문하시겠습니까 ?\"))\n",
        "cof_sum = 1500*cof\n",
        "\n",
        "ra = int(input(\"라때는몇개?\"))\n",
        "ra_sum = 3500*ra\n",
        "\n",
        "ch = int(input(\"치즈케익은 몇개?\"))\n",
        "ch_sum = 5000*ch\n",
        "\n",
        "to_sum = cof_sum + ra_sum + ch_sum\n",
        "\n",
        "print(\"총가격은 {0}원입니다\".format(to_sum))\n",
        "\n",
        "a1000 = to_sum//1000\n",
        "na= a1000%1000\n",
        "\n",
        "a500 = na // 500\n",
        "na = na %100\n",
        "\n",
        "a100 = na //100\n",
        "na = na %100\n",
        "\n",
        "mon = int(input(\"돈을 넣어라\"))\n",
        "print(\"거스름돈은 {0}원 입니다\".format(mon-to_sum))\n",
        "print(\"천원은{0}장 500원은{1}개 100원{2}개 입니다.\".format(a1000,a500,a100))\n"
      ],
      "execution_count": 39,
      "outputs": [
        {
          "output_type": "stream",
          "text": [
            "반갑습니다 커피숍입니다\n",
            "커피 1500원, 라뗴 3500원, 치즈케익 5000원 입니다\n",
            "몇잔 주문하시겠습니까 ?1\n",
            "라때는몇개?1\n",
            "치즈케익은 몇개?1\n",
            "총가격은 10000원입니다\n",
            "돈을 넣어라10500\n",
            "거스름돈은 500원 입니다\n",
            "천원은10장 500원은0개 100원0개 입니다.\n"
          ],
          "name": "stdout"
        }
      ]
    },
    {
      "cell_type": "code",
      "metadata": {
        "colab": {
          "base_uri": "https://localhost:8080/"
        },
        "id": "pmPYkBjzEGp1",
        "outputId": "e093f7fd-24cc-4112-82d9-84cf369402f0"
      },
      "source": [
        "to_sum"
      ],
      "execution_count": 29,
      "outputs": [
        {
          "output_type": "execute_result",
          "data": {
            "text/plain": [
              "13512000"
            ]
          },
          "metadata": {
            "tags": []
          },
          "execution_count": 29
        }
      ]
    },
    {
      "cell_type": "code",
      "metadata": {
        "id": "QqP_N8C8CUqM"
      },
      "source": [
        "_\"\""
      ],
      "execution_count": null,
      "outputs": []
    }
  ]
}