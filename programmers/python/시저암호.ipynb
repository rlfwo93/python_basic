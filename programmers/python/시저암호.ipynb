{
  "nbformat": 4,
  "nbformat_minor": 0,
  "metadata": {
    "colab": {
      "name": "Untitled73.ipynb",
      "provenance": [],
      "authorship_tag": "ABX9TyNCpeEKmzxrp+p2d42YZFHZ",
      "include_colab_link": true
    },
    "kernelspec": {
      "name": "python3",
      "display_name": "Python 3"
    },
    "language_info": {
      "name": "python"
    }
  },
  "cells": [
    {
      "cell_type": "markdown",
      "metadata": {
        "id": "view-in-github",
        "colab_type": "text"
      },
      "source": [
        "<a href=\"https://colab.research.google.com/github/rlfwo93/python_basic/blob/main/programmers/python/%EC%8B%9C%EC%A0%80%EC%95%94%ED%98%B8.ipynb\" target=\"_parent\"><img src=\"https://colab.research.google.com/assets/colab-badge.svg\" alt=\"Open In Colab\"/></a>"
      ]
    },
    {
      "cell_type": "markdown",
      "metadata": {
        "id": "buwWIC-DMmi1"
      },
      "source": [
        "문제 설명\n",
        "\n",
        "어떤 문장의 각 알파벳을 일정한 거리만큼 밀어서 다른 알파벳으로 바꾸는 암호화 방식을 시저 암호라고 합니다. 예를 들어 \"AB\"는 1만큼 밀면 \"BC\"가 되고, 3만큼 밀면 \"DE\"가 됩니다. \"z\"는 1만큼 밀면 \"a\"가 됩니다. 문자열 s와 거리 n을 입력받아 s를 n만큼 민 암호문을 만드는 함수, solution을 완성해 보세요.\n",
        "\n",
        "제한 조건\n",
        "\n",
        "공백은 아무리 밀어도 공백입니다.\n",
        "\n",
        "s는 알파벳 소문자, 대문자, 공백으로만 이루어져 있습니다.\n",
        "\n",
        "s의 길이는 8000이하입니다.\n",
        "\n",
        "n은 1 이상, 25이하인 자연수입니다.\n",
        "\n",
        "입출력 예\n",
        "\n",
        "s\tn\tresult\n",
        "\n",
        "\"AB\"\t1\t\"BC\"\n",
        "\n",
        "\"z\"\t1\t\"a\"\n",
        "\n",
        "\"a B z\"\t4\t\"e F d\"\n",
        "\n",
        "https://programmers.co.kr/learn/courses/30/lessons/12926"
      ]
    },
    {
      "cell_type": "code",
      "metadata": {
        "id": "BO8wEk91Mx3K",
        "colab": {
          "base_uri": "https://localhost:8080/"
        },
        "outputId": "4f01dbf3-2588-4537-e2f5-6d7b4a848b88"
      },
      "source": [
        "def solution(s, n):\n",
        "    answer = ''\n",
        "    copyn = n\n",
        "    English=[\"a\",\"b\",\"c\",\"d\",\"e\",\"f\",\"g\",\"h\",\"i\",\"j\",\"k\",\"l\",\"m\",\"n\",\"o\",\"p\",\"q\",\"r\",\"s\",\"t\",\"u\",\"v\",\"w\",\"x\",\"y\",\"z\"]\n",
        "    for i in range(len(s)):\n",
        "        if s[i] == \" \":\n",
        "            answer += \" \"\n",
        "        for j in range(len(English)):\n",
        "            if s[i:i+1]==English[j]:\n",
        "                if j+n>len(English)-1:\n",
        "                    answer+=English[((j+n)-(len(English)-1))-1]\n",
        "                else:\n",
        "                    answer+=English[j+n]\n",
        "                    \n",
        "                    \n",
        "            elif s[i:i+1]!=English[j] and s[i:i+1]==English[j].upper():\n",
        "\n",
        "                if j+n>len(English)-1:\n",
        "                    answer+=English[((j+n)-(len(English)-1))-1].upper()\n",
        "                else:\n",
        "                    answer+=English[j+n].upper()\n",
        "\n",
        "\n",
        "\n",
        "    return answer\n",
        "\n",
        "print(solution(\"a B z\",4))"
      ],
      "execution_count": 7,
      "outputs": [
        {
          "output_type": "stream",
          "text": [
            "e F d\n"
          ],
          "name": "stdout"
        }
      ]
    }
  ]
}