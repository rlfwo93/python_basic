{
  "nbformat": 4,
  "nbformat_minor": 0,
  "metadata": {
    "colab": {
      "name": "Untitled74.ipynb",
      "provenance": [],
      "toc_visible": true,
      "authorship_tag": "ABX9TyPHptFTi2gq9JV8FcIrh2Ul",
      "include_colab_link": true
    },
    "kernelspec": {
      "name": "python3",
      "display_name": "Python 3"
    },
    "language_info": {
      "name": "python"
    }
  },
  "cells": [
    {
      "cell_type": "markdown",
      "metadata": {
        "id": "view-in-github",
        "colab_type": "text"
      },
      "source": [
        "<a href=\"https://colab.research.google.com/github/rlfwo93/python_basic/blob/main/11weeks.ipynb\" target=\"_parent\"><img src=\"https://colab.research.google.com/assets/colab-badge.svg\" alt=\"Open In Colab\"/></a>"
      ]
    },
    {
      "cell_type": "code",
      "metadata": {
        "colab": {
          "base_uri": "https://localhost:8080/"
        },
        "id": "8pwiQ958lW4m",
        "outputId": "55a1fa95-6dcc-4b1f-c362-037c02755d2b"
      },
      "source": [
        "#1\n",
        "\n",
        "a=[38,21,53,62,19] \n",
        "\n",
        "for i in a: \n",
        "\n",
        "    print(i) "
      ],
      "execution_count": 1,
      "outputs": [
        {
          "output_type": "stream",
          "text": [
            "38\n",
            "21\n",
            "53\n",
            "62\n",
            "19\n"
          ],
          "name": "stdout"
        }
      ]
    },
    {
      "cell_type": "code",
      "metadata": {
        "colab": {
          "base_uri": "https://localhost:8080/"
        },
        "id": "SWv-Mf0xld87",
        "outputId": "a369d33e-3a62-48af-d708-282dfc7ff975"
      },
      "source": [
        "#2\n",
        "\n",
        "for i in range(len(a)): \n",
        "\n",
        "    print(a[i]) "
      ],
      "execution_count": 2,
      "outputs": [
        {
          "output_type": "stream",
          "text": [
            "38\n",
            "21\n",
            "53\n",
            "62\n",
            "19\n"
          ],
          "name": "stdout"
        }
      ]
    },
    {
      "cell_type": "code",
      "metadata": {
        "colab": {
          "base_uri": "https://localhost:8080/"
        },
        "id": "DiWxnLselfYL",
        "outputId": "4524d3c2-f108-4e0c-e3d1-3c597543d054"
      },
      "source": [
        "# 3\n",
        "\n",
        "a=[] \n",
        "\n",
        "val=0 \n",
        "\n",
        "for i in range(0,5): \n",
        "\n",
        "    a.append(val) \n",
        "\n",
        "    val=val+2 \n",
        "\n",
        "    print(a) "
      ],
      "execution_count": 3,
      "outputs": [
        {
          "output_type": "stream",
          "text": [
            "[0]\n",
            "[0, 2]\n",
            "[0, 2, 4]\n",
            "[0, 2, 4, 6]\n",
            "[0, 2, 4, 6, 8]\n"
          ],
          "name": "stdout"
        }
      ]
    },
    {
      "cell_type": "code",
      "metadata": {
        "colab": {
          "base_uri": "https://localhost:8080/"
        },
        "id": "EDq81CW2llnk",
        "outputId": "115d34be-51b8-449a-8149-370ec7063a67"
      },
      "source": [
        "# 4\n",
        "\n",
        "a=[] \n",
        "\n",
        "val=0 \n",
        "\n",
        "for i in range(0,5): \n",
        "\n",
        "    a.append(val) \n",
        "\n",
        "    val=val+2 \n",
        "\n",
        "print(a) "
      ],
      "execution_count": 5,
      "outputs": [
        {
          "output_type": "stream",
          "text": [
            "[0, 2, 4, 6, 8]\n"
          ],
          "name": "stdout"
        }
      ]
    },
    {
      "cell_type": "code",
      "metadata": {
        "colab": {
          "base_uri": "https://localhost:8080/"
        },
        "id": "180GTauplpJa",
        "outputId": "19d868f4-54a6-4a75-9899-855ae0d5e234"
      },
      "source": [
        "# 5\n",
        "\n",
        "a=[]; b=[] \n",
        "\n",
        "val=0 \n",
        "\n",
        "for i in range(0,5): \n",
        "\n",
        "   a.append(val) \n",
        "\n",
        "   val=val+2 \n",
        "\n",
        "print(a) \n",
        "\n",
        "for i in range(0,5): \n",
        "\n",
        "   b.append(a[4-i]) \n",
        "\n",
        "   print(b) "
      ],
      "execution_count": 7,
      "outputs": [
        {
          "output_type": "stream",
          "text": [
            "[0, 2, 4, 6, 8]\n",
            "[8]\n",
            "[8, 6]\n",
            "[8, 6, 4]\n",
            "[8, 6, 4, 2]\n",
            "[8, 6, 4, 2, 0]\n"
          ],
          "name": "stdout"
        }
      ]
    },
    {
      "cell_type": "code",
      "metadata": {
        "colab": {
          "base_uri": "https://localhost:8080/"
        },
        "id": "hbpNMLF7lqAw",
        "outputId": "ade0bc9e-c03e-4445-aaa1-22568e78a626"
      },
      "source": [
        "# 6 \n",
        "\n",
        "a=[[10,20],[30,40],[50,60]] \n",
        "\n",
        "for i in a: \n",
        "\n",
        "    for j in i: \n",
        "\n",
        "        print(j,end=',') \n",
        "\n",
        "print() "
      ],
      "execution_count": 9,
      "outputs": [
        {
          "output_type": "stream",
          "text": [
            "10,20,30,40,50,60,\n"
          ],
          "name": "stdout"
        }
      ]
    },
    {
      "cell_type": "code",
      "metadata": {
        "colab": {
          "base_uri": "https://localhost:8080/"
        },
        "id": "uaRtbNORlvrt",
        "outputId": "add1f265-0bab-4c12-de84-331ea25918d4"
      },
      "source": [
        "# 7\n",
        "\n",
        "a=[[10,20],[30,40],[50,60]] \n",
        "\n",
        "for i in range(len(a)): \n",
        "\n",
        "    for j in range(len(a[i])): \n",
        "\n",
        "        print(a[i][j],end=',') \n",
        "\n",
        "print() "
      ],
      "execution_count": 11,
      "outputs": [
        {
          "output_type": "stream",
          "text": [
            "10,20,30,40,50,60,\n"
          ],
          "name": "stdout"
        }
      ]
    },
    {
      "cell_type": "markdown",
      "metadata": {
        "id": "JlaJ3dIPl07W"
      },
      "source": [
        "# **코드 작성하기**"
      ]
    },
    {
      "cell_type": "code",
      "metadata": {
        "colab": {
          "base_uri": "https://localhost:8080/"
        },
        "id": "5BnJj9mnl3Ts",
        "outputId": "b1935d1c-caeb-486c-b444-1dcc7d9d4682"
      },
      "source": [
        "# 1\n",
        "\n",
        "a1 = [] ; a2  = []; a3 =[]; a4=[]; a5 = []\n",
        "\n",
        "for i in range(0,5):\n",
        "  a1.append(i)\n",
        "for i in range(0,6):\n",
        "  a2.append(i)\n",
        "for i in range(0,7):\n",
        "  a3.append(i)\n",
        "for i in range(0,8):\n",
        "  a4.append(i)\n",
        "for i in range(0,9):\n",
        "  a5.append(i)\n",
        "\n",
        "print(\"a1 = {0}\".format(a1))\n",
        "print(\"a2 = {0}\".format(a2))\n",
        "print(\"a3 = {0}\".format(a3))\n",
        "print(\"a4 = {0}\".format(a4))\n",
        "print(\"a5 = {0}\".format(a5))"
      ],
      "execution_count": 16,
      "outputs": [
        {
          "output_type": "stream",
          "text": [
            "a1 = [0, 1, 2, 3, 4]\n",
            "a2 = [0, 1, 2, 3, 4, 5]\n",
            "a3 = [0, 1, 2, 3, 4, 5, 6]\n",
            "a4 = [0, 1, 2, 3, 4, 5, 6, 7]\n",
            "a5 = [0, 1, 2, 3, 4, 5, 6, 7, 8]\n"
          ],
          "name": "stdout"
        }
      ]
    },
    {
      "cell_type": "code",
      "metadata": {
        "colab": {
          "base_uri": "https://localhost:8080/"
        },
        "id": "XmFvFHtUmYPO",
        "outputId": "8a5745b3-9a7a-4f66-f175-782034d8b2e9"
      },
      "source": [
        "# 2\n",
        "\n",
        "\n",
        "a1 = [] ; a2  = []; a3 =[]; a4=[]; a5 = []\n",
        "\n",
        "for i in range(0,5):\n",
        "  if i%2 == 0 :\n",
        "    a1.append(i)\n",
        "for i in range(0,6):\n",
        "  if i%3 ==0 :\n",
        "    a2.append(i)\n",
        "for i in range(0,7):\n",
        "  if i%4 == 0 :\n",
        "    a3.append(i)\n",
        "for i in range(0,8):\n",
        "  if i % 5 == 0:\n",
        "    a4.append(i)\n",
        "for i in range(0,9):\n",
        "  if i % 6 == 0:\n",
        "    a5.append(i)\n",
        "\n",
        "\n",
        "\n",
        "print(\"a1 = {0}\".format(a1))\n",
        "print(\"a2 = {0}\".format(a2))\n",
        "print(\"a3 = {0}\".format(a3))\n",
        "print(\"a4 = {0}\".format(a4))\n",
        "print(\"a5 = {0}\".format(a5))"
      ],
      "execution_count": 17,
      "outputs": [
        {
          "output_type": "stream",
          "text": [
            "a1 = [0, 2, 4]\n",
            "a2 = [0, 3]\n",
            "a3 = [0, 4]\n",
            "a4 = [0, 5]\n",
            "a5 = [0, 6]\n"
          ],
          "name": "stdout"
        }
      ]
    },
    {
      "cell_type": "code",
      "metadata": {
        "colab": {
          "base_uri": "https://localhost:8080/"
        },
        "id": "Clr3LRywm0w5",
        "outputId": "8960f396-f460-40ce-d438-a0156f4bd7d7"
      },
      "source": [
        "# 3\n",
        "\n",
        "a1 = [] ; a2  = []; a3 =[]; a4=[]; a5 = []\n",
        "\n",
        "for i in range(0,5):\n",
        "  if i%2 == 0 and i !=0:\n",
        "    a1.append(i+1)\n",
        "for i in range(0,6):\n",
        "  if i%3 ==0 and i !=0:\n",
        "    a2.append(i+1)\n",
        "for i in range(0,7):\n",
        "  if i%4 == 0 and i !=0:\n",
        "    a3.append(i+1)\n",
        "for i in range(0,8):\n",
        "  if i % 5 == 0 and i !=0:\n",
        "    a4.append(i+1)\n",
        "for i in range(0,9):\n",
        "  if i % 6 == 0 and i !=0:\n",
        "    a5.append(i+1)\n",
        "\n",
        "print(\"a1 = {0}\".format(a1))\n",
        "print(\"a2 = {0}\".format(a2))\n",
        "print(\"a3 = {0}\".format(a3))\n",
        "print(\"a4 = {0}\".format(a4))\n",
        "print(\"a5 = {0}\".format(a5))"
      ],
      "execution_count": 22,
      "outputs": [
        {
          "output_type": "stream",
          "text": [
            "a1 = [3, 5]\n",
            "a2 = [4]\n",
            "a3 = [5]\n",
            "a4 = [6]\n",
            "a5 = [7]\n"
          ],
          "name": "stdout"
        }
      ]
    },
    {
      "cell_type": "code",
      "metadata": {
        "colab": {
          "base_uri": "https://localhost:8080/"
        },
        "id": "8sJNBc6Nn9OL",
        "outputId": "0d7ad45e-5b21-48ea-ab06-c59ef6aa3dd2"
      },
      "source": [
        "# 4\n",
        "\n",
        "a1 = [[]] ; a2  = [[0],[1]]; a3 =[[0,1],[1,2,]]; a4=[[0,1],[1,2],[1,3]]; a5 = [[0,1],[1,2],[1,3],[1,4]]\n",
        "\n",
        "print(\"a1 = {0}\".format(a1))\n",
        "print(\"a2 = {0}\".format(a2))\n",
        "print(\"a3 = {0}\".format(a3))\n",
        "print(\"a4 = {0}\".format(a4))\n",
        "print(\"a5 = {0}\".format(a5))"
      ],
      "execution_count": 23,
      "outputs": [
        {
          "output_type": "stream",
          "text": [
            "a1 = [[]]\n",
            "a2 = [[0], [1]]\n",
            "a3 = [[0, 1], [1, 2]]\n",
            "a4 = [[0, 1], [1, 2], [1, 3]]\n",
            "a5 = [[0, 1], [1, 2], [1, 3], [1, 4]]\n"
          ],
          "name": "stdout"
        }
      ]
    },
    {
      "cell_type": "code",
      "metadata": {
        "colab": {
          "base_uri": "https://localhost:8080/"
        },
        "id": "RoguHpvsoPIL",
        "outputId": "fc3b9993-5fa4-40f0-d703-02c21c3abf94"
      },
      "source": [
        "# 5\n",
        "\n",
        "a1 = [] ; a2  = []; a3 =[]; a4=[]; a5 = []\n",
        "\n",
        "for i in range (0,3):\n",
        "  a1.append([])\n",
        "  for j in range(0,4):\n",
        "    a1[i].append(j)\n",
        "\n",
        "for i in range (0,4):\n",
        "  a2.append([])\n",
        "  for j in range(0,5):\n",
        "    a2[i].append(j)  \n",
        "\n",
        "for i in range (0,5):\n",
        "  a3.append([])\n",
        "  for j in range(0,6):\n",
        "    a3[i].append(j)\n",
        "\n",
        "for i in range (0,7):\n",
        "  a4.append([])\n",
        "  for j in range(0,7):\n",
        "    a4[i].append(j)\n",
        "\n",
        "for i in range (0,8):\n",
        "  a5.append([])\n",
        "  for j in range(0,10):\n",
        "    a5[i].append(j)\n",
        "\n",
        "print(\"a1 = {0}\".format(a1))\n",
        "print(\"a2 = {0}\".format(a2))\n",
        "print(\"a3 = {0}\".format(a3))\n",
        "print(\"a4 = {0}\".format(a4))\n",
        "print(\"a5 = {0}\".format(a5))"
      ],
      "execution_count": 29,
      "outputs": [
        {
          "output_type": "stream",
          "text": [
            "a1 = [[0, 1, 2, 3], [0, 1, 2, 3], [0, 1, 2, 3]]\n",
            "a2 = [[0, 1, 2, 3, 4], [0, 1, 2, 3, 4], [0, 1, 2, 3, 4], [0, 1, 2, 3, 4]]\n",
            "a3 = [[0, 1, 2, 3, 4, 5], [0, 1, 2, 3, 4, 5], [0, 1, 2, 3, 4, 5], [0, 1, 2, 3, 4, 5], [0, 1, 2, 3, 4, 5]]\n",
            "a4 = [[0, 1, 2, 3, 4, 5, 6], [0, 1, 2, 3, 4, 5, 6], [0, 1, 2, 3, 4, 5, 6], [0, 1, 2, 3, 4, 5, 6], [0, 1, 2, 3, 4, 5, 6], [0, 1, 2, 3, 4, 5, 6], [0, 1, 2, 3, 4, 5, 6]]\n",
            "a5 = [[0, 1, 2, 3, 4, 5, 6, 7, 8, 9], [0, 1, 2, 3, 4, 5, 6, 7, 8, 9], [0, 1, 2, 3, 4, 5, 6, 7, 8, 9], [0, 1, 2, 3, 4, 5, 6, 7, 8, 9], [0, 1, 2, 3, 4, 5, 6, 7, 8, 9], [0, 1, 2, 3, 4, 5, 6, 7, 8, 9], [0, 1, 2, 3, 4, 5, 6, 7, 8, 9], [0, 1, 2, 3, 4, 5, 6, 7, 8, 9]]\n"
          ],
          "name": "stdout"
        }
      ]
    },
    {
      "cell_type": "code",
      "metadata": {
        "colab": {
          "base_uri": "https://localhost:8080/"
        },
        "id": "POw9WdSzpQ3m",
        "outputId": "3e995916-1120-4d84-dc7c-beb29ee8e418"
      },
      "source": [
        "# 6\n",
        "\n",
        "a1 = [] ; a2  = []; a3 =[]; a4=[]; a5 = []\n",
        "\n",
        "for i in range(0,5):\n",
        "  a1.append(i)\n",
        "for i in range(0,6):\n",
        "  a2.append(i)\n",
        "for i in range(0,7):\n",
        "  a3.append(i)\n",
        "for i in range(0,8):\n",
        "  a4.append(i)\n",
        "for i in range(0,9):\n",
        "  a5.append(i)\n",
        "\n",
        "print(\"a1 = {0}\".format(a1))\n",
        "print(\"a2 = {0}\".format(a2))\n",
        "print(\"a3 = {0}\".format(a3))\n",
        "print(\"a4 = {0}\".format(a4))\n",
        "print(\"a5 = {0}\".format(a5))"
      ],
      "execution_count": 30,
      "outputs": [
        {
          "output_type": "stream",
          "text": [
            "a1 = [0, 1, 2, 3, 4]\n",
            "a2 = [0, 1, 2, 3, 4, 5]\n",
            "a3 = [0, 1, 2, 3, 4, 5, 6]\n",
            "a4 = [0, 1, 2, 3, 4, 5, 6, 7]\n",
            "a5 = [0, 1, 2, 3, 4, 5, 6, 7, 8]\n"
          ],
          "name": "stdout"
        }
      ]
    },
    {
      "cell_type": "code",
      "metadata": {
        "colab": {
          "base_uri": "https://localhost:8080/"
        },
        "id": "gsOnwGXypR7f",
        "outputId": "5ea60acd-222f-497f-efcc-692e44505438"
      },
      "source": [
        "# 7\n",
        "\n",
        "\n",
        "a1 = [] ; a2  = []; a3 =[]; a4=[]; a5 = []\n",
        "\n",
        "for i in range (0,3):\n",
        "  a1.append([])\n",
        "  for j in range(0,4):\n",
        "    a1[i].append(j)\n",
        "\n",
        "for i in range (0,4):\n",
        "  a2.append([])\n",
        "  for j in range(0,5):\n",
        "    a2[i].append(j)  \n",
        "\n",
        "for i in range (0,5):\n",
        "  a3.append([])\n",
        "  for j in range(0,6):\n",
        "    a3[i].append(j)\n",
        "\n",
        "for i in range (0,7):\n",
        "  a4.append([])\n",
        "  for j in range(0,4):\n",
        "    a4[i].append(j)\n",
        "\n",
        "for i in range (0,5):\n",
        "  a5.append([])\n",
        "  for j in range(0,6):\n",
        "    a5[i].append(j)\n",
        "\n",
        "print(\"a1 = {0}\".format(a1))\n",
        "print(\"a2 = {0}\".format(a2))\n",
        "print(\"a3 = {0}\".format(a3))\n",
        "print(\"a4 = {0}\".format(a4))\n",
        "print(\"a5 = {0}\".format(a5))"
      ],
      "execution_count": 32,
      "outputs": [
        {
          "output_type": "stream",
          "text": [
            "a1 = [[0, 1, 2, 3], [0, 1, 2, 3], [0, 1, 2, 3]]\n",
            "a2 = [[0, 1, 2, 3, 4], [0, 1, 2, 3, 4], [0, 1, 2, 3, 4], [0, 1, 2, 3, 4]]\n",
            "a3 = [[0, 1, 2, 3, 4, 5], [0, 1, 2, 3, 4, 5], [0, 1, 2, 3, 4, 5], [0, 1, 2, 3, 4, 5], [0, 1, 2, 3, 4, 5]]\n",
            "a4 = [[0, 1, 2, 3], [0, 1, 2, 3], [0, 1, 2, 3], [0, 1, 2, 3], [0, 1, 2, 3], [0, 1, 2, 3], [0, 1, 2, 3]]\n",
            "a5 = [[0, 1, 2, 3, 4, 5], [0, 1, 2, 3, 4, 5], [0, 1, 2, 3, 4, 5], [0, 1, 2, 3, 4, 5], [0, 1, 2, 3, 4, 5]]\n"
          ],
          "name": "stdout"
        }
      ]
    },
    {
      "cell_type": "code",
      "metadata": {
        "colab": {
          "base_uri": "https://localhost:8080/"
        },
        "id": "KVZZpp3-peBF",
        "outputId": "39e886f7-0de6-4479-e2bc-463c48682bd5"
      },
      "source": [
        "# 8\n",
        "\n",
        "a1=[]\n",
        "\n",
        "for i in range(6):\n",
        "  a1.append(i)\n",
        "  print(\"a1[{0}] = {1}\".format(i,a1[i]))\n",
        "\n"
      ],
      "execution_count": 35,
      "outputs": [
        {
          "output_type": "stream",
          "text": [
            "a1[0] = 0\n",
            "a1[1] = 1\n",
            "a1[2] = 2\n",
            "a1[3] = 3\n",
            "a1[4] = 4\n",
            "a1[5] = 5\n"
          ],
          "name": "stdout"
        }
      ]
    },
    {
      "cell_type": "code",
      "metadata": {
        "colab": {
          "base_uri": "https://localhost:8080/"
        },
        "id": "idNfsIO1p4XQ",
        "outputId": "36afad45-ac40-4573-825e-de2a2bc01876"
      },
      "source": [
        "# 9\n",
        "count = 0\n",
        "a1 = []\n",
        "while count < 6:\n",
        "  a1.append(count)\n",
        "  print(\"a1[{0}] = {1}\".format(count,a1[count]))\n",
        "  count+=1"
      ],
      "execution_count": 38,
      "outputs": [
        {
          "output_type": "stream",
          "text": [
            "a1[0] = 0\n",
            "a1[1] = 1\n",
            "a1[2] = 2\n",
            "a1[3] = 3\n",
            "a1[4] = 4\n",
            "a1[5] = 5\n"
          ],
          "name": "stdout"
        }
      ]
    },
    {
      "cell_type": "code",
      "metadata": {
        "colab": {
          "base_uri": "https://localhost:8080/"
        },
        "id": "B898YoH2rV94",
        "outputId": "899fbc01-8138-4de4-b4c6-0b103b674736"
      },
      "source": [
        "# 10 \n",
        "\n",
        "a = [12,13,14,16,86,23]\n",
        "for i in range(0,len(a)):\n",
        "  print(\"a[{0}] = {1}\".format(i,a[i]))\n",
        "\n",
        "print(\"\")\n",
        "\n",
        "for j,k in enumerate(a):\n",
        "  print(\"a[{0}] = {1}\".format(j,k))\n"
      ],
      "execution_count": 52,
      "outputs": [
        {
          "output_type": "stream",
          "text": [
            "a[0] = 12\n",
            "a[1] = 13\n",
            "a[2] = 14\n",
            "a[3] = 16\n",
            "a[4] = 86\n",
            "a[5] = 23\n",
            "\n",
            "a[0] = 12\n",
            "a[1] = 13\n",
            "a[2] = 14\n",
            "a[3] = 16\n",
            "a[4] = 86\n",
            "a[5] = 23\n"
          ],
          "name": "stdout"
        }
      ]
    },
    {
      "cell_type": "code",
      "metadata": {
        "colab": {
          "base_uri": "https://localhost:8080/"
        },
        "id": "Ob61KdVOt_AK",
        "outputId": "1e8372d7-28b6-4207-b3c3-58a619b8c245"
      },
      "source": [
        "# 11)1\n",
        "\n",
        "a = [[0,1],[1,2,3],[4,5,6],[7,8,9],[11,12,13]]\n",
        "\n",
        "for i in range(len(a[0])):\n",
        "  print(\"a[0][{0}] = {1}\".format(i,a[0][i]))\n",
        "\n",
        "print(\"\")\n",
        "  \n",
        "for i in range(len(a[1])):\n",
        "  print(\"a[1][{0}] = {1}\".format(i,a[1][i]))\n",
        "\n",
        "  \n",
        "print(\"\")\n",
        "\n",
        "for i in range(len(a[0])):\n",
        "  print(\"a[2][{0}] = {1}\".format(i,a[2][i]))\n",
        "\n",
        "\n",
        "print(\"\")\n",
        "\n",
        "for i in range(len(a[0])):\n",
        "  print(\"a[3][{0}] = {1}\".format(i,a[3][i]))\n",
        "\n",
        "print(\"\")\n",
        "\n",
        "for i in range(len(a[0])):\n",
        "  print(\"a[4][{0}] = {1}\".format(i,a[4][i]))"
      ],
      "execution_count": 56,
      "outputs": [
        {
          "output_type": "stream",
          "text": [
            "a[0][0] = 0\n",
            "a[0][1] = 1\n",
            "\n",
            "a[1][0] = 1\n",
            "a[1][1] = 2\n",
            "a[1][2] = 3\n",
            "\n",
            "a[2][0] = 4\n",
            "a[2][1] = 5\n",
            "\n",
            "a[3][0] = 7\n",
            "a[3][1] = 8\n",
            "\n",
            "a[4][0] = 11\n",
            "a[4][1] = 12\n"
          ],
          "name": "stdout"
        }
      ]
    },
    {
      "cell_type": "code",
      "metadata": {
        "colab": {
          "base_uri": "https://localhost:8080/"
        },
        "id": "_Ji8-HZGvFvm",
        "outputId": "385bcbcd-01f1-4ff1-d551-d99319af893e"
      },
      "source": [
        "#11 )2\n",
        "\n",
        "a1 = [[0, 1, 2, 3], [0, 1, 2, 3], [0, 1, 2, 3]]\n",
        "a2 = [[0, 1, 2, 3, 4], [0, 1, 2, 3, 4], [0, 1, 2, 3, 4], [0, 1, 2, 3, 4]]\n",
        "a3 = [[0, 1, 2, 3, 4, 5], [0, 1, 2, 3, 4, 5], [0, 1, 2, 3, 4, 5], [0, 1, 2, 3, 4, 5], [0, 1, 2, 3, 4, 5]]\n",
        "a4 = [[0, 1, 2, 3], [0, 1, 2, 3], [0, 1, 2, 3], [0, 1, 2, 3], [0, 1, 2, 3], [0, 1, 2, 3], [0, 1, 2, 3]]\n",
        "a5 = [[0, 1, 2, 3, 4, 5], [0, 1, 2, 3, 4, 5], [0, 1, 2, 3, 4, 5], [0, 1, 2, 3, 4, 5], [0, 1, 2, 3, 4, 5]]\n",
        "\n",
        "\n",
        "for i in range (len(a1)):\n",
        "  for j in range(len(a1[i])):\n",
        "    print(\"a1[{0}][{1}] = {2}\".format(i,j,a1[i][j]))\n",
        "\n",
        "print(\"\")\n",
        "\n",
        "for i in range (len(a2)):\n",
        "  for j in range(len(a2[i])):\n",
        "    print(\"a2[{0}][{1}] = {2}\".format(i,j,a2[i][j]))\n",
        "\n",
        "print(\"\")\n",
        "\n",
        "for i in range (len(a3)):\n",
        "  for j in range(len(a3[i])):\n",
        "    print(\"a3[{0}][{1}] = {2}\".format(i,j,a3[i][j]))\n",
        "\n",
        "print(\"\")\n",
        "\n",
        "for i in range (len(a4)):\n",
        "  for j in range(len(a4[i])):\n",
        "    print(\"a4[{0}][{1}] = {2}\".format(i,j,a4[i][j]))\n",
        "\n",
        "print(\"\")\n",
        "\n",
        "for i in range (len(a5)):\n",
        "  for j in range(len(a5[i])):\n",
        "    print(\"a5[{0}][{1}] = {2}\".format(i,j,a5[i][j]))\n",
        "\n",
        "print(\"\")\n"
      ],
      "execution_count": 59,
      "outputs": [
        {
          "output_type": "stream",
          "text": [
            "a1[0][0] = 0\n",
            "a1[0][1] = 1\n",
            "a1[0][2] = 2\n",
            "a1[0][3] = 3\n",
            "a1[1][0] = 0\n",
            "a1[1][1] = 1\n",
            "a1[1][2] = 2\n",
            "a1[1][3] = 3\n",
            "a1[2][0] = 0\n",
            "a1[2][1] = 1\n",
            "a1[2][2] = 2\n",
            "a1[2][3] = 3\n",
            "\n",
            "a2[0][0] = 0\n",
            "a2[0][1] = 1\n",
            "a2[0][2] = 2\n",
            "a2[0][3] = 3\n",
            "a2[0][4] = 4\n",
            "a2[1][0] = 0\n",
            "a2[1][1] = 1\n",
            "a2[1][2] = 2\n",
            "a2[1][3] = 3\n",
            "a2[1][4] = 4\n",
            "a2[2][0] = 0\n",
            "a2[2][1] = 1\n",
            "a2[2][2] = 2\n",
            "a2[2][3] = 3\n",
            "a2[2][4] = 4\n",
            "a2[3][0] = 0\n",
            "a2[3][1] = 1\n",
            "a2[3][2] = 2\n",
            "a2[3][3] = 3\n",
            "a2[3][4] = 4\n",
            "\n",
            "a3[0][0] = 0\n",
            "a3[0][1] = 1\n",
            "a3[0][2] = 2\n",
            "a3[0][3] = 3\n",
            "a3[0][4] = 4\n",
            "a3[0][5] = 5\n",
            "a3[1][0] = 0\n",
            "a3[1][1] = 1\n",
            "a3[1][2] = 2\n",
            "a3[1][3] = 3\n",
            "a3[1][4] = 4\n",
            "a3[1][5] = 5\n",
            "a3[2][0] = 0\n",
            "a3[2][1] = 1\n",
            "a3[2][2] = 2\n",
            "a3[2][3] = 3\n",
            "a3[2][4] = 4\n",
            "a3[2][5] = 5\n",
            "a3[3][0] = 0\n",
            "a3[3][1] = 1\n",
            "a3[3][2] = 2\n",
            "a3[3][3] = 3\n",
            "a3[3][4] = 4\n",
            "a3[3][5] = 5\n",
            "a3[4][0] = 0\n",
            "a3[4][1] = 1\n",
            "a3[4][2] = 2\n",
            "a3[4][3] = 3\n",
            "a3[4][4] = 4\n",
            "a3[4][5] = 5\n",
            "\n",
            "a4[0][0] = 0\n",
            "a4[0][1] = 1\n",
            "a4[0][2] = 2\n",
            "a4[0][3] = 3\n",
            "a4[1][0] = 0\n",
            "a4[1][1] = 1\n",
            "a4[1][2] = 2\n",
            "a4[1][3] = 3\n",
            "a4[2][0] = 0\n",
            "a4[2][1] = 1\n",
            "a4[2][2] = 2\n",
            "a4[2][3] = 3\n",
            "a4[3][0] = 0\n",
            "a4[3][1] = 1\n",
            "a4[3][2] = 2\n",
            "a4[3][3] = 3\n",
            "a4[4][0] = 0\n",
            "a4[4][1] = 1\n",
            "a4[4][2] = 2\n",
            "a4[4][3] = 3\n",
            "a4[5][0] = 0\n",
            "a4[5][1] = 1\n",
            "a4[5][2] = 2\n",
            "a4[5][3] = 3\n",
            "a4[6][0] = 0\n",
            "a4[6][1] = 1\n",
            "a4[6][2] = 2\n",
            "a4[6][3] = 3\n",
            "\n",
            "a5[0][0] = 0\n",
            "a5[0][1] = 1\n",
            "a5[0][2] = 2\n",
            "a5[0][3] = 3\n",
            "a5[0][4] = 4\n",
            "a5[0][5] = 5\n",
            "a5[1][0] = 0\n",
            "a5[1][1] = 1\n",
            "a5[1][2] = 2\n",
            "a5[1][3] = 3\n",
            "a5[1][4] = 4\n",
            "a5[1][5] = 5\n",
            "a5[2][0] = 0\n",
            "a5[2][1] = 1\n",
            "a5[2][2] = 2\n",
            "a5[2][3] = 3\n",
            "a5[2][4] = 4\n",
            "a5[2][5] = 5\n",
            "a5[3][0] = 0\n",
            "a5[3][1] = 1\n",
            "a5[3][2] = 2\n",
            "a5[3][3] = 3\n",
            "a5[3][4] = 4\n",
            "a5[3][5] = 5\n",
            "a5[4][0] = 0\n",
            "a5[4][1] = 1\n",
            "a5[4][2] = 2\n",
            "a5[4][3] = 3\n",
            "a5[4][4] = 4\n",
            "a5[4][5] = 5\n",
            "\n"
          ],
          "name": "stdout"
        }
      ]
    },
    {
      "cell_type": "code",
      "metadata": {
        "colab": {
          "base_uri": "https://localhost:8080/"
        },
        "id": "Qpo4MqCVwYq5",
        "outputId": "942a22e7-d8a0-4e84-9007-d32287a13284"
      },
      "source": [
        "# 12 )1\n",
        "\n",
        "a = [[0,1],[1,2,3],[4,5,6],[7,8,9],[11,12,13]]\n",
        "\n",
        "count = 0\n",
        "count1 =0\n",
        "count2 =0\n",
        "count3 =0\n",
        "count4 =0\n",
        "while count < len(a[0]):\n",
        "  print(\"a[0][{0}] = {1}\".format(count,a[0][count]))\n",
        "  count+=1\n",
        "\n",
        "print(\"\")\n",
        "while count1 < len(a[1]):\n",
        "  print(\"a[1][{0}] = {1}\".format(count,a[1][count1]))\n",
        "  count1+=1\n",
        "\n",
        "print(\"\")\n",
        "\n",
        "while count2< len(a[2]):\n",
        "  print(\"a[2][{0}] = {1}\".format(count,a[2][count2]))\n",
        "  count2+=1\n",
        "\n",
        "print(\"\")\n",
        "\n",
        "while count3 < len(a[3]):\n",
        "  print(\"a[3][{0}] = {1}\".format(count,a[3][count3]))\n",
        "  count3+=1\n",
        "\n",
        "print(\"\")\n",
        "\n",
        "while count4 < len(a[4]):\n",
        "  print(\"a[4][{0}] = {1}\".format(count,a[4][count4]))\n",
        "  count4+=1"
      ],
      "execution_count": 65,
      "outputs": [
        {
          "output_type": "stream",
          "text": [
            "a[0][0] = 0\n",
            "a[0][1] = 1\n",
            "\n",
            "a[1][2] = 1\n",
            "a[1][2] = 2\n",
            "a[1][2] = 3\n",
            "\n",
            "a[2][2] = 4\n",
            "a[2][2] = 5\n",
            "a[2][2] = 6\n",
            "\n",
            "a[3][2] = 7\n",
            "a[3][2] = 8\n",
            "a[3][2] = 9\n",
            "\n",
            "a[4][2] = 11\n",
            "a[4][2] = 12\n",
            "a[4][2] = 13\n"
          ],
          "name": "stdout"
        }
      ]
    },
    {
      "cell_type": "code",
      "metadata": {
        "colab": {
          "base_uri": "https://localhost:8080/"
        },
        "id": "6OX0v8wTy4mm",
        "outputId": "924c8aba-dcab-4075-a8de-2781cc55eb4d"
      },
      "source": [
        "# 12 )2\n",
        "a = [[0,1],[1,2,3],[4,5,6],[7,8,9],[11,12,13]]\n",
        "count = 0\n",
        "\n",
        "while count < len(a):\n",
        "  count1 = 0\n",
        "  while count1 < len(a[count]):\n",
        "    print(\"a[{0}][{1}] = {2}\".format(count,count1, a[count][count1]))\n",
        "    count1+=1\n",
        "  count+=1"
      ],
      "execution_count": 69,
      "outputs": [
        {
          "output_type": "stream",
          "text": [
            "a[0][0] = 0\n",
            "a[0][1] = 1\n",
            "a[1][0] = 1\n",
            "a[1][1] = 2\n",
            "a[1][2] = 3\n",
            "a[2][0] = 4\n",
            "a[2][1] = 5\n",
            "a[2][2] = 6\n",
            "a[3][0] = 7\n",
            "a[3][1] = 8\n",
            "a[3][2] = 9\n",
            "a[4][0] = 11\n",
            "a[4][1] = 12\n",
            "a[4][2] = 13\n"
          ],
          "name": "stdout"
        }
      ]
    },
    {
      "cell_type": "code",
      "metadata": {
        "colab": {
          "base_uri": "https://localhost:8080/"
        },
        "id": "ht81kD4I3xx9",
        "outputId": "5c0463b4-598a-4e18-d121-bfc6249f2ce7"
      },
      "source": [
        "#13\n",
        "\n",
        "a = list(map(int,input(\"값을 입력하세요\").split(\",\")))\n",
        "\n",
        "print(\"합계 = {0}\".format(sum(a)))\n"
      ],
      "execution_count": 81,
      "outputs": [
        {
          "output_type": "stream",
          "text": [
            "값을 입력하세요1,2,3,4,5\n",
            "합계 = 15\n"
          ],
          "name": "stdout"
        }
      ]
    },
    {
      "cell_type": "code",
      "metadata": {
        "colab": {
          "base_uri": "https://localhost:8080/"
        },
        "id": "1cQbw6R77l4j",
        "outputId": "429bea05-554f-4995-b655-f7fc47732c57"
      },
      "source": [
        "#14\n",
        "\n",
        "a = []\n",
        "su = 0\n",
        "for i in range(4):\n",
        "  a.append(int(input(\"값을 입력하세요 : \")))\n",
        "  su+=a[i]\n",
        "\n",
        "print(\"합 = {0}\".format(su))"
      ],
      "execution_count": 86,
      "outputs": [
        {
          "output_type": "stream",
          "text": [
            "값을 입력하세요 : 1\n",
            "값을 입력하세요 : 2\n",
            "값을 입력하세요 : 3\n",
            "값을 입력하세요 : 4\n",
            "합 = 10\n"
          ],
          "name": "stdout"
        }
      ]
    },
    {
      "cell_type": "code",
      "metadata": {
        "colab": {
          "base_uri": "https://localhost:8080/"
        },
        "id": "i1lQYbiM89ch",
        "outputId": "a5a98642-4e75-487e-edf2-34bc87b6c21f"
      },
      "source": [
        "# 15,16,17  한번에 풀겠습니다\n",
        "\n",
        "count = int(input(\"몇개의 점수를 입력하시겠습니까? \"))\n",
        "a = []\n",
        "sum = 0\n",
        "\n",
        "for i in range(count):\n",
        "  a.append(int(input(\"점수를 입력하세요 : \")))\n",
        "  sum+=a[i]\n",
        "\n",
        "mp = a[0]\n",
        "np = a[0]\n",
        "\n",
        "for i in range(1,len(a)):\n",
        "  if mp < a[i]:\n",
        "    mp = a[i]\n",
        "  elif np > a[i]:\n",
        "    np = a[i]\n",
        "  \n",
        "print(\"점수 합  = {0}\".format(sum))\n",
        "print(\"점수 평균  = {0}\".format(sum/count))\n",
        "print(\"가장 큰값  = {0}\".format(mp))\n",
        "print(\"가장 작은값  = {0}\".format(np))"
      ],
      "execution_count": 97,
      "outputs": [
        {
          "output_type": "stream",
          "text": [
            "몇개의 점수를 입력하시겠습니까? 4\n",
            "점수를 입력하세요 : 20\n",
            "점수를 입력하세요 : 90\n",
            "점수를 입력하세요 : 10\n",
            "점수를 입력하세요 : 30\n",
            "점수 합  = 150\n",
            "점수 평균  = 37.5\n",
            "가장 큰값  = 90\n",
            "가장 작은값  = 10\n"
          ],
          "name": "stdout"
        }
      ]
    },
    {
      "cell_type": "code",
      "metadata": {
        "colab": {
          "base_uri": "https://localhost:8080/"
        },
        "id": "wFUWFfxjAIhP",
        "outputId": "44cbe736-63a6-45e2-a150-ea68a7aa54b3"
      },
      "source": [
        "# 18 ~ 19 \n",
        "\n",
        "a = []\n",
        "count = 0\n",
        "st = int(input(\"총 학생의 수를 입력하세요 : \"))\n",
        "\n",
        "for i in range(st):\n",
        "  a.append(int(input(\"점수를 입력하세요.\")))\n",
        "  \n",
        "\n",
        "for i in range(len(a)):\n",
        "  if sum(a)/len(a) <= a[i]:\n",
        "    count+=1\n",
        "\n",
        "print(\"평균은 {0}점이고, 평균보다 높은 학생은{1}명입니다.\".format(sum(a)/len(a),count))\n",
        "print(\"가장 좋은 점수는 {0}점이고 가장 낮은 점수는 {1}점 입니다.\".format(max(a),min(a)))"
      ],
      "execution_count": 5,
      "outputs": [
        {
          "output_type": "stream",
          "text": [
            "총 학생의 수를 입력하세요 : 5\n",
            "점수를 입력하세요.90\n",
            "점수를 입력하세요.60\n",
            "점수를 입력하세요.80\n",
            "점수를 입력하세요.50\n",
            "점수를 입력하세요.40\n",
            "평균은 64.0점이고, 평균보다 높은 학생은2명입니다.\n",
            "가장 좋은 점수는 90점이고 가장 낮은 점수는 40점 입니다.\n"
          ],
          "name": "stdout"
        }
      ]
    },
    {
      "cell_type": "code",
      "metadata": {
        "colab": {
          "base_uri": "https://localhost:8080/"
        },
        "id": "lIQNiaw1COLg",
        "outputId": "1e7b9332-c6bf-477d-f997-a5a566c72bc8"
      },
      "source": [
        "a = []\n",
        "sum = 0 \n",
        "for i in range(4):\n",
        "  a.append([])\n",
        "  for j in range(sum, (sum+15)):\n",
        "    if j%3 ==0:\n",
        "      a[i].append(j)\n",
        "    sum = j\n",
        "\n",
        "\n",
        "for i in range(len(a)):\n",
        "  for j in range(len(a[i])):\n",
        "    print(a[i][j], end =\" \")\n",
        "  print(\"\")"
      ],
      "execution_count": 17,
      "outputs": [
        {
          "output_type": "stream",
          "text": [
            "0 3 6 9 12 \n",
            "15 18 21 24 27 \n",
            "30 33 36 39 42 \n",
            "42 45 48 51 54 \n"
          ],
          "name": "stdout"
        }
      ]
    }
  ]
}