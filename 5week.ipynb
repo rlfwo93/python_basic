{
  "nbformat": 4,
  "nbformat_minor": 0,
  "metadata": {
    "colab": {
      "name": "Untitled58.ipynb",
      "provenance": [],
      "authorship_tag": "ABX9TyNkyDel0+Ea8u+qsbnGr+J5",
      "include_colab_link": true
    },
    "kernelspec": {
      "name": "python3",
      "display_name": "Python 3"
    },
    "language_info": {
      "name": "python"
    }
  },
  "cells": [
    {
      "cell_type": "markdown",
      "metadata": {
        "id": "view-in-github",
        "colab_type": "text"
      },
      "source": [
        "<a href=\"https://colab.research.google.com/github/rlfwo93/python_basic/blob/main/5week.ipynb\" target=\"_parent\"><img src=\"https://colab.research.google.com/assets/colab-badge.svg\" alt=\"Open In Colab\"/></a>"
      ]
    },
    {
      "cell_type": "code",
      "metadata": {
        "colab": {
          "base_uri": "https://localhost:8080/"
        },
        "id": "pRVDimB6bo-Q",
        "outputId": "362ec114-fc26-4136-9693-2f5f22cf9c4d"
      },
      "source": [
        "# x= 10; print(x)\n",
        "x=10\n",
        "x"
      ],
      "execution_count": 1,
      "outputs": [
        {
          "output_type": "execute_result",
          "data": {
            "text/plain": [
              "10"
            ]
          },
          "metadata": {
            "tags": []
          },
          "execution_count": 1
        }
      ]
    },
    {
      "cell_type": "code",
      "metadata": {
        "colab": {
          "base_uri": "https://localhost:8080/"
        },
        "id": "4fHNFTe4bvt9",
        "outputId": "d7bf06f4-343a-45b9-9b07-c71c2fe6fdf9"
      },
      "source": [
        "# x=5; y=8; print(x+y)\n",
        "x=5\n",
        "y=8\n",
        "x+y"
      ],
      "execution_count": 2,
      "outputs": [
        {
          "output_type": "execute_result",
          "data": {
            "text/plain": [
              "13"
            ]
          },
          "metadata": {
            "tags": []
          },
          "execution_count": 2
        }
      ]
    },
    {
      "cell_type": "code",
      "metadata": {
        "colab": {
          "base_uri": "https://localhost:8080/",
          "height": 35
        },
        "id": "rTMGL14LbzUF",
        "outputId": "f7d72fe5-2291-45ce-ee34-fbe4eb342c47"
      },
      "source": [
        "# 3\n",
        "x=\"5\"\n",
        "y=\"8\"\n",
        "x+y"
      ],
      "execution_count": 3,
      "outputs": [
        {
          "output_type": "execute_result",
          "data": {
            "application/vnd.google.colaboratory.intrinsic+json": {
              "type": "string"
            },
            "text/plain": [
              "'58'"
            ]
          },
          "metadata": {
            "tags": []
          },
          "execution_count": 3
        }
      ]
    },
    {
      "cell_type": "code",
      "metadata": {
        "colab": {
          "base_uri": "https://localhost:8080/"
        },
        "id": "2GjyN4TRb2Nz",
        "outputId": "d7ec55d2-8a25-4457-a8cb-6b2b81b4cafe"
      },
      "source": [
        "# 4\n",
        "x=5\n",
        "y=8\n",
        "\n",
        "sum=x+y\n",
        "sum"
      ],
      "execution_count": 4,
      "outputs": [
        {
          "output_type": "execute_result",
          "data": {
            "text/plain": [
              "13"
            ]
          },
          "metadata": {
            "tags": []
          },
          "execution_count": 4
        }
      ]
    },
    {
      "cell_type": "markdown",
      "metadata": {
        "id": "0EY_PqQxc_p_"
      },
      "source": [
        ""
      ]
    },
    {
      "cell_type": "code",
      "metadata": {
        "colab": {
          "base_uri": "https://localhost:8080/"
        },
        "id": "iEiw6BiBcEq8",
        "outputId": "c9c9eaa9-63f6-488d-82c3-87473ba7ce75"
      },
      "source": [
        "# 5\n",
        "\n",
        "var=10\n",
        "var+=6\n",
        "var"
      ],
      "execution_count": 5,
      "outputs": [
        {
          "output_type": "execute_result",
          "data": {
            "text/plain": [
              "16"
            ]
          },
          "metadata": {
            "tags": []
          },
          "execution_count": 5
        }
      ]
    },
    {
      "cell_type": "code",
      "metadata": {
        "colab": {
          "base_uri": "https://localhost:8080/"
        },
        "id": "KB82BNcfcHbi",
        "outputId": "240aa860-e922-4ced-b6ba-a8b6ada306ae"
      },
      "source": [
        "# 6\n",
        "\n",
        "var=10\n",
        "type(var)"
      ],
      "execution_count": 6,
      "outputs": [
        {
          "output_type": "execute_result",
          "data": {
            "text/plain": [
              "int"
            ]
          },
          "metadata": {
            "tags": []
          },
          "execution_count": 6
        }
      ]
    },
    {
      "cell_type": "code",
      "metadata": {
        "colab": {
          "base_uri": "https://localhost:8080/"
        },
        "id": "29e5YA-ncJ7v",
        "outputId": "3eeed884-eb92-4059-c6c4-0c8cb65775e3"
      },
      "source": [
        "# 7\n",
        "\n",
        "var=10.26\n",
        "type(var)"
      ],
      "execution_count": 7,
      "outputs": [
        {
          "output_type": "execute_result",
          "data": {
            "text/plain": [
              "float"
            ]
          },
          "metadata": {
            "tags": []
          },
          "execution_count": 7
        }
      ]
    },
    {
      "cell_type": "code",
      "metadata": {
        "colab": {
          "base_uri": "https://localhost:8080/"
        },
        "id": "FfelukUxcSwu",
        "outputId": "b6b1a244-3322-460b-d154-8a90df08dcbb"
      },
      "source": [
        "# 8\n",
        "\n",
        "a=100; b=50;\n",
        "print(a+b,a-b,a*b,a/b)"
      ],
      "execution_count": 8,
      "outputs": [
        {
          "output_type": "stream",
          "text": [
            "150 50 5000 2.0\n"
          ],
          "name": "stdout"
        }
      ]
    },
    {
      "cell_type": "code",
      "metadata": {
        "colab": {
          "base_uri": "https://localhost:8080/"
        },
        "id": "1K38OkNMcWKC",
        "outputId": "85b17487-92bf-49e8-bbdb-92025b542b81"
      },
      "source": [
        "# 9\n",
        "\n",
        "a=100; b=50;\n",
        "print(a**b,a%b,a//b) "
      ],
      "execution_count": 11,
      "outputs": [
        {
          "output_type": "stream",
          "text": [
            "10000000000000000000000000000000000000000000000000000000000000000000000000000000000000000000000000000 0 2\n"
          ],
          "name": "stdout"
        }
      ]
    },
    {
      "cell_type": "code",
      "metadata": {
        "colab": {
          "base_uri": "https://localhost:8080/"
        },
        "id": "xIC1CgT6ck6u",
        "outputId": "2ae96b0e-6029-4471-e6e3-0487b0179a10"
      },
      "source": [
        "# 10\n",
        "\n",
        "a=(100==100);b=(100<10);\n",
        "print(a,b)"
      ],
      "execution_count": 12,
      "outputs": [
        {
          "output_type": "stream",
          "text": [
            "True False\n"
          ],
          "name": "stdout"
        }
      ]
    },
    {
      "cell_type": "code",
      "metadata": {
        "colab": {
          "base_uri": "https://localhost:8080/",
          "height": 226
        },
        "id": "tPqvZHP6dp9T",
        "outputId": "cc639f31-a8a2-4179-84f9-e2492a328cc8"
      },
      "source": [
        "# 11\n",
        "\n",
        "a=100;b=100.123;\n",
        "print(str(a)+1)\n",
        "print(str(b)+1)"
      ],
      "execution_count": 19,
      "outputs": [
        {
          "output_type": "error",
          "ename": "TypeError",
          "evalue": "ignored",
          "traceback": [
            "\u001b[0;31m---------------------------------------------------------------------------\u001b[0m",
            "\u001b[0;31mTypeError\u001b[0m                                 Traceback (most recent call last)",
            "\u001b[0;32m<ipython-input-19-a50ed9e43c08>\u001b[0m in \u001b[0;36m<module>\u001b[0;34m()\u001b[0m\n\u001b[1;32m      2\u001b[0m \u001b[0;34m\u001b[0m\u001b[0m\n\u001b[1;32m      3\u001b[0m \u001b[0ma\u001b[0m\u001b[0;34m=\u001b[0m\u001b[0;36m100\u001b[0m\u001b[0;34m;\u001b[0m\u001b[0mb\u001b[0m\u001b[0;34m=\u001b[0m\u001b[0;36m100.123\u001b[0m\u001b[0;34m;\u001b[0m\u001b[0;34m\u001b[0m\u001b[0;34m\u001b[0m\u001b[0m\n\u001b[0;32m----> 4\u001b[0;31m \u001b[0mprint\u001b[0m\u001b[0;34m(\u001b[0m\u001b[0mstr\u001b[0m\u001b[0;34m(\u001b[0m\u001b[0ma\u001b[0m\u001b[0;34m)\u001b[0m\u001b[0;34m+\u001b[0m\u001b[0;36m1\u001b[0m\u001b[0;34m)\u001b[0m\u001b[0;34m\u001b[0m\u001b[0;34m\u001b[0m\u001b[0m\n\u001b[0m\u001b[1;32m      5\u001b[0m \u001b[0mprint\u001b[0m\u001b[0;34m(\u001b[0m\u001b[0mstr\u001b[0m\u001b[0;34m(\u001b[0m\u001b[0mb\u001b[0m\u001b[0;34m)\u001b[0m\u001b[0;34m+\u001b[0m\u001b[0;36m1\u001b[0m\u001b[0;34m)\u001b[0m\u001b[0;34m\u001b[0m\u001b[0;34m\u001b[0m\u001b[0m\n",
            "\u001b[0;31mTypeError\u001b[0m: can only concatenate str (not \"int\") to str"
          ]
        }
      ]
    },
    {
      "cell_type": "code",
      "metadata": {
        "colab": {
          "base_uri": "https://localhost:8080/"
        },
        "id": "tqtLNTHgcoaH",
        "outputId": "c7339496-87be-40ac-8d6a-e1c3f05087b0"
      },
      "source": [
        "# 12\n",
        "\n",
        "a=100;b=100.123;\n",
        "print(str(a+1))\n",
        "print(str(b+1))"
      ],
      "execution_count": 16,
      "outputs": [
        {
          "output_type": "stream",
          "text": [
            "101\n",
            "101.123\n"
          ],
          "name": "stdout"
        }
      ]
    },
    {
      "cell_type": "markdown",
      "metadata": {
        "id": "G5Pzj0fkqGHn"
      },
      "source": [
        ""
      ]
    },
    {
      "cell_type": "code",
      "metadata": {
        "colab": {
          "base_uri": "https://localhost:8080/"
        },
        "id": "WKk8UaDCdiGU",
        "outputId": "faaa358f-bd95-44e6-f3c3-85bbd3339350"
      },
      "source": [
        "#13\n",
        "\n",
        "a=100\n",
        "a+=20;print(a)\n",
        "a-=20;print(a)\n",
        "a*=20;print(a)\n",
        "a/=20;print(a)\n",
        "a//=20;print(a)\n",
        "a%=20;print(a)\n",
        "a**=20;print(a)\n"
      ],
      "execution_count": 17,
      "outputs": [
        {
          "output_type": "stream",
          "text": [
            "120\n",
            "100\n",
            "2000\n",
            "100.0\n",
            "5.0\n",
            "5.0\n",
            "95367431640625.0\n"
          ],
          "name": "stdout"
        }
      ]
    },
    {
      "cell_type": "code",
      "metadata": {
        "colab": {
          "base_uri": "https://localhost:8080/"
        },
        "id": "5yRYklGcdlqY",
        "outputId": "cb19bf2d-6cf0-4612-cf10-66ba40c94f85"
      },
      "source": [
        "a,b=50,80; \n",
        "print(a==b,a!=b,a>b,a<b,a>=b,a<=b)"
      ],
      "execution_count": 20,
      "outputs": [
        {
          "output_type": "stream",
          "text": [
            "False True False True False True\n"
          ],
          "name": "stdout"
        }
      ]
    },
    {
      "cell_type": "code",
      "metadata": {
        "colab": {
          "base_uri": "https://localhost:8080/"
        },
        "id": "TNmalVsMdvXy",
        "outputId": "e3523380-d707-4dff-efa1-642513816f50"
      },
      "source": [
        " a=55;\n",
        "(a>100)and(a<150);(a>100)and(a<150);not(a==100)"
      ],
      "execution_count": 21,
      "outputs": [
        {
          "output_type": "execute_result",
          "data": {
            "text/plain": [
              "True"
            ]
          },
          "metadata": {
            "tags": []
          },
          "execution_count": 21
        }
      ]
    },
    {
      "cell_type": "code",
      "metadata": {
        "colab": {
          "base_uri": "https://localhost:8080/"
        },
        "id": "Fh8w1UTCd1l8",
        "outputId": "9e25b659-ab47-4690-80e2-7d653d329b2b"
      },
      "source": [
        "a,b=20,50 \n",
        "a+=b\n",
        "print(a)\n",
        "a*=b\n",
        "print(a)\n",
        "a//=b\n",
        "print(a)"
      ],
      "execution_count": 23,
      "outputs": [
        {
          "output_type": "stream",
          "text": [
            "70\n",
            "3500\n",
            "70\n"
          ],
          "name": "stdout"
        }
      ]
    },
    {
      "cell_type": "code",
      "metadata": {
        "colab": {
          "base_uri": "https://localhost:8080/",
          "height": 71
        },
        "id": "BnKQ9o-ieELX",
        "outputId": "3091ca2a-e390-447b-fb36-7d5454a93d9b"
      },
      "source": [
        "a = input(\"첫번째 입력\")\n",
        "b= input(\"두번째 입력\")\n",
        "\n",
        "a+b"
      ],
      "execution_count": 24,
      "outputs": [
        {
          "output_type": "stream",
          "text": [
            "첫번째 입력10\n",
            "두번째 입력20\n"
          ],
          "name": "stdout"
        },
        {
          "output_type": "execute_result",
          "data": {
            "application/vnd.google.colaboratory.intrinsic+json": {
              "type": "string"
            },
            "text/plain": [
              "'1020'"
            ]
          },
          "metadata": {
            "tags": []
          },
          "execution_count": 24
        }
      ]
    },
    {
      "cell_type": "code",
      "metadata": {
        "colab": {
          "base_uri": "https://localhost:8080/"
        },
        "id": "86nqxdkVeMXe",
        "outputId": "c22eb346-798e-4f2d-a30b-5736f65fd519"
      },
      "source": [
        "a = int(input(\"첫번쨰\"))\n",
        "b = int(input(\"두번쨰\"))\n",
        "\n",
        "a+b"
      ],
      "execution_count": 28,
      "outputs": [
        {
          "output_type": "stream",
          "text": [
            "첫번쨰10\n",
            "두번쨰20\n"
          ],
          "name": "stdout"
        },
        {
          "output_type": "execute_result",
          "data": {
            "text/plain": [
              "30"
            ]
          },
          "metadata": {
            "tags": []
          },
          "execution_count": 28
        }
      ]
    },
    {
      "cell_type": "code",
      "metadata": {
        "colab": {
          "base_uri": "https://localhost:8080/"
        },
        "id": "HMIR_8xmedC_",
        "outputId": "2a51061d-688d-4460-e9c6-1598f93a16cb"
      },
      "source": [
        "a=input(\"입력해라 : \").split(\" \")\n",
        "\n",
        "a1 =int(a[0])\n",
        "a2 =int(a[1])\n",
        "a3 = int(a[2])\n",
        "\n",
        "a1+a2+a3"
      ],
      "execution_count": 31,
      "outputs": [
        {
          "output_type": "stream",
          "text": [
            "입력해라 : 10 20 30\n"
          ],
          "name": "stdout"
        },
        {
          "output_type": "execute_result",
          "data": {
            "text/plain": [
              "60"
            ]
          },
          "metadata": {
            "tags": []
          },
          "execution_count": 31
        }
      ]
    },
    {
      "cell_type": "code",
      "metadata": {
        "colab": {
          "base_uri": "https://localhost:8080/"
        },
        "id": "PAzlelIje7r0",
        "outputId": "ada156a5-89ec-4503-88a1-b6559f6048e1"
      },
      "source": [
        "a = int(input(\"입력해라 \"))\n",
        "b = int(input(\"입력해라 \"))\n",
        "\n",
        "a*b"
      ],
      "execution_count": 43,
      "outputs": [
        {
          "output_type": "stream",
          "text": [
            "입력해라 300\n",
            "입력해라 20\n"
          ],
          "name": "stdout"
        },
        {
          "output_type": "execute_result",
          "data": {
            "text/plain": [
              "6000"
            ]
          },
          "metadata": {
            "tags": []
          },
          "execution_count": 43
        }
      ]
    },
    {
      "cell_type": "code",
      "metadata": {
        "colab": {
          "base_uri": "https://localhost:8080/"
        },
        "id": "VkaZj7AnggqN",
        "outputId": "d91afb1f-b452-4a4b-c4c3-806d5446b7e9"
      },
      "source": [
        "a = float(input(\"입력해라 \"))\n",
        "b = float(input(\"입력해라 \"))\n",
        "c = float(input(\"입력해라 \"))\n",
        "\n",
        "(a+b+c)/3"
      ],
      "execution_count": 46,
      "outputs": [
        {
          "output_type": "stream",
          "text": [
            "입력해라 20\n",
            "입력해라 30\n",
            "입력해라 50\n"
          ],
          "name": "stdout"
        },
        {
          "output_type": "execute_result",
          "data": {
            "text/plain": [
              "33.333333333333336"
            ]
          },
          "metadata": {
            "tags": []
          },
          "execution_count": 46
        }
      ]
    },
    {
      "cell_type": "code",
      "metadata": {
        "colab": {
          "base_uri": "https://localhost:8080/"
        },
        "id": "s3J7HUJOhjhS",
        "outputId": "205fa413-3b31-49ea-a7ef-d170a7352cf1"
      },
      "source": [
        "a,b,c= map(float,input(\"입력해라\").split(\" \"))\n",
        "\n",
        "sum = (a+b+c)/3\n",
        "\n",
        "sum"
      ],
      "execution_count": 54,
      "outputs": [
        {
          "output_type": "stream",
          "text": [
            "입력해라20 30 50\n"
          ],
          "name": "stdout"
        },
        {
          "output_type": "execute_result",
          "data": {
            "text/plain": [
              "33.333333333333336"
            ]
          },
          "metadata": {
            "tags": []
          },
          "execution_count": 54
        }
      ]
    },
    {
      "cell_type": "code",
      "metadata": {
        "colab": {
          "base_uri": "https://localhost:8080/"
        },
        "id": "df0MqbaciLzW",
        "outputId": "4064e764-abd0-419e-f0a0-dc761c707952"
      },
      "source": [
        "a = int(input(\"반지름 입력해라 :  \"))\n",
        "\n",
        "print(\"원주 ={0:.3f}\".format((2*3.14)*a))\n",
        "print(\"원면 ={0:.3f}\".format(3.14*(a**2)))"
      ],
      "execution_count": 72,
      "outputs": [
        {
          "output_type": "stream",
          "text": [
            "반지름 입력해라 :  5\n",
            "원주 =31.400\n",
            "원면 =78.500\n"
          ],
          "name": "stdout"
        }
      ]
    },
    {
      "cell_type": "code",
      "metadata": {
        "colab": {
          "base_uri": "https://localhost:8080/"
        },
        "id": "aENyu3_0kG5i",
        "outputId": "1c81bddf-eb20-41f2-8142-6ca96b5467d2"
      },
      "source": [
        "a = float(input(\"밑변의 길이 : \"))\n",
        "b = float(input(\"높이 : \"))\n",
        "\n",
        "print(\"삼각형의 넓이  =  {0}\".format(a*b/2))"
      ],
      "execution_count": 75,
      "outputs": [
        {
          "output_type": "stream",
          "text": [
            "밑변의 길이 : 4\n",
            "높이 : 5\n",
            "삼각형의 넓이  =  10.0\n"
          ],
          "name": "stdout"
        }
      ]
    },
    {
      "cell_type": "code",
      "metadata": {
        "colab": {
          "base_uri": "https://localhost:8080/"
        },
        "id": "7CwlLfNXkc_B",
        "outputId": "936be858-2922-4130-eb53-86c2c92a67e6"
      },
      "source": [
        "a,b,c,d,e = map(int,input(\"다섯명 성적 입력 : \").split(\",\"))\n",
        "\n",
        "print(a,b,c,d,e)"
      ],
      "execution_count": 77,
      "outputs": [
        {
          "output_type": "stream",
          "text": [
            "다섯명 성적 입력 : 10,20,30,40,50\n",
            "10 20 30 40 50\n"
          ],
          "name": "stdout"
        }
      ]
    },
    {
      "cell_type": "code",
      "metadata": {
        "colab": {
          "base_uri": "https://localhost:8080/"
        },
        "id": "AMpkMJyKko9t",
        "outputId": "87f923c7-2508-40a2-9fc6-1e9e73667bd0"
      },
      "source": [
        "a= int(input(\"투자원금\"))\n",
        "b= float(input(\"이율\"))\n",
        "c= int(input(\"투자기간\"))\n",
        "\n",
        "\n",
        "print(\"원리금  = {0}\".format(a*(1+b)**c))"
      ],
      "execution_count": 79,
      "outputs": [
        {
          "output_type": "stream",
          "text": [
            "투자원금1000\n",
            "이율0.1\n",
            "투자기간5\n",
            "원리금  = 1610.5100000000004\n"
          ],
          "name": "stdout"
        }
      ]
    },
    {
      "cell_type": "code",
      "metadata": {
        "colab": {
          "base_uri": "https://localhost:8080/"
        },
        "id": "pjtyzBbAqG1D",
        "outputId": "645aac5c-bbed-44f4-83fe-75b4807cc693"
      },
      "source": [
        "print('아아 1500원 카페모카 1000원 라떼3500원 치즈케익4500원 입니다.')\n",
        "a50=int(input('아아 를 몇잔 주문을 하시겠습니까? : '))\n",
        "a20=int(input('카페모카 를 몇잔 주문을 하시겠습니까? : '))\n",
        "a30=int(input('라떼 를 몇잔 주문을 하시겠습니까? : '))\n",
        "a40=int(input('치즈케익 를 몇조각 주문을 하시겠습니까? : '))\n",
        "sum1=1500*a50+1000*a20+3500*a30+4500*a40\n",
        "\n",
        "print('지불 금액 = ',sum1,\"원\")\n",
        "\n",
        "item=int(input(\" 계산을 입력 :\"))\n",
        "mon50000=int(input(\"50000원 지폐수 :\"))\n",
        "mon10000=int(input('10000원 지폐수 :'))\n",
        "mon5000=int(input('5000원 지폐수 :'))\n",
        "mon1000=int(input('1000원 지폐 수 :'))\n",
        "mon500=int(input(\"500원 동전 수 :\"))\n",
        "mon100=int(input(\"100원 동전수 : \"))\n",
        "\n",
        "a=item-sum1\n",
        "\n",
        "if a <0:\n",
        "  print(\"돈이 모지람\")\n",
        "else:\n",
        "  print(\"잔돈은 %d 원 입니다.\"%a)\n",
        "  a50000=a//50000\n",
        "  a=a%50000\n",
        "  a10000=a//10000\n",
        "  a=a%10000\n",
        "  a5000=a//5000\n",
        "  a=a%5000 \n",
        "  a1000=a//1000\n",
        "  a=a%1000\n",
        "  a500=a//500\n",
        "  a500=a%500\n",
        "  a100=a//100\n",
        "  a=a%100\n",
        "  a10=a//10\n",
        "  print(\"50000원\",a50000,\"10000원\",a10000,\"5000원\",a5000,\"1000원=\",a1000,\"500원=\",a500,\"100원=\",a100,\"10원=\",a10)\n",
        "  print('총매출 = ',sum1,)\n",
        "  print('아아 재료비 :500원 카페모카 재료비 : 300원 라떼 재료비 : 1000원 치즈케익 재료비 : 2000원')\n",
        "  sum2=500*a50+300*a20+1000*a30+2000*a40\n",
        "  print('재료비 = ',sum2,)\n",
        "  print('순수익 = ',sum1-sum2)\n",
        "\n",
        "\n",
        "\n",
        "\n"
      ],
      "execution_count": 84,
      "outputs": [
        {
          "output_type": "stream",
          "text": [
            "아아 1500원 카페모카 1000원 라떼3500원 치즈케익4500원 입니다.\n",
            "아아 를 몇잔 주문을 하시겠습니까? : 1\n",
            "카페모카 를 몇잔 주문을 하시겠습니까? : 1\n",
            "라떼 를 몇잔 주문을 하시겠습니까? : 1\n",
            "치즈케익 를 몇조각 주문을 하시겠습니까? : 1\n",
            "지불 금액 =  10500 원\n",
            " 계산을 입력 :10500\n",
            "50000원 지폐수 :0\n",
            "10000원 지폐수 :1\n",
            "5000원 지폐수 :0\n",
            "1000원 지폐 수 :0\n",
            "500원 동전 수 :1\n",
            "100원 동전수 : 0\n",
            "잔돈은 0 원 입니다.\n",
            "50000원 0 10000원 0 5000원 0 1000원= 0 500원= 0 100원= 0 10원= 0\n",
            "총매출 =  10500\n",
            "아아 재료비 :500원 카페모카 재료비 : 300원 라떼 재료비 : 1000원 치즈케익 재료비 : 2000원\n",
            "재료비 =  3800\n",
            "순수익 =  6700\n"
          ],
          "name": "stdout"
        }
      ]
    }
  ]
}